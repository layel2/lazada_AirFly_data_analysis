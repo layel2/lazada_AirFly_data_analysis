{
 "cells": [
  {
   "cell_type": "markdown",
   "metadata": {},
   "source": [
    "# Lazada Airflyer Data Analytic"
   ]
  },
  {
   "cell_type": "markdown",
   "metadata": {},
   "source": [
    "For Colab Uncomment next cell first"
   ]
  },
  {
   "cell_type": "code",
   "execution_count": null,
   "metadata": {},
   "outputs": [],
   "source": [
    "'''\n",
    "! wget https://raw.githubusercontent.com/anuwatavis/dataset/master/lareview/itemData_0_499.csv\n",
    "! wget https://raw.githubusercontent.com/anuwatavis/dataset/master/lareview/itemData_500_999.csv\n",
    "\n",
    "!gdown --id 175HCEziwBcWBffjE9O50q4HivfB8DYE4\n",
    "!gdown --id 1zT3xZTgWHiiMg5lwtB0iEjcVvFuu4O-7\n",
    "\n",
    "'''"
   ]
  },
  {
   "cell_type": "code",
   "execution_count": 1,
   "metadata": {},
   "outputs": [],
   "source": [
    "import pandas as pd\n",
    "import numpy as np\n",
    "from matplotlib import pyplot as plt\n",
    "import seaborn as sns"
   ]
  },
  {
   "cell_type": "markdown",
   "metadata": {},
   "source": [
    "#  จุดประสงค์\n",
    "- วิเคราะห์การขายสินค้าประเภทหม้อทอดไร้น้ำมัน\n",
    "- วิเคราะห์พฤติกรรมผู้ซื้อ\n",
    "- หาว่าตัวแปรใดบ้างที่จะส่งผลต่อยอดขาย"
   ]
  },
  {
   "cell_type": "markdown",
   "metadata": {},
   "source": [
    "# 1. การเก็บข้อมูล\n",
    "scrapping data from lazada"
   ]
  },
  {
   "cell_type": "code",
   "execution_count": 2,
   "metadata": {},
   "outputs": [],
   "source": [
    "df1 = pd.read_csv('itemData_0_499.csv')\n",
    "df2 = pd.read_csv('itemData_500_999.csv')"
   ]
  },
  {
   "cell_type": "code",
   "execution_count": 3,
   "metadata": {
    "scrolled": true
   },
   "outputs": [
    {
     "data": {
      "text/html": [
       "<div>\n",
       "<style scoped>\n",
       "    .dataframe tbody tr th:only-of-type {\n",
       "        vertical-align: middle;\n",
       "    }\n",
       "\n",
       "    .dataframe tbody tr th {\n",
       "        vertical-align: top;\n",
       "    }\n",
       "\n",
       "    .dataframe thead th {\n",
       "        text-align: right;\n",
       "    }\n",
       "</style>\n",
       "<table border=\"1\" class=\"dataframe\">\n",
       "  <thead>\n",
       "    <tr style=\"text-align: right;\">\n",
       "      <th></th>\n",
       "      <th>index</th>\n",
       "      <th>textTitle</th>\n",
       "      <th>sale_price</th>\n",
       "      <th>origin_price</th>\n",
       "      <th>discount</th>\n",
       "      <th>promotion</th>\n",
       "      <th>warranty</th>\n",
       "      <th>positive_seller_rating</th>\n",
       "      <th>ship_on_time</th>\n",
       "      <th>chat_response_rate</th>\n",
       "      <th>...</th>\n",
       "      <th>brand</th>\n",
       "      <th>score-average</th>\n",
       "      <th>rating-5</th>\n",
       "      <th>rating_4</th>\n",
       "      <th>rating_3</th>\n",
       "      <th>rating_2</th>\n",
       "      <th>rating_1</th>\n",
       "      <th>delivery_options</th>\n",
       "      <th>store_name</th>\n",
       "      <th>itemId</th>\n",
       "    </tr>\n",
       "  </thead>\n",
       "  <tbody>\n",
       "    <tr>\n",
       "      <th>0</th>\n",
       "      <td>0</td>\n",
       "      <td>หม้อทอด เครื่องทอดไร้มัน หม้อทอดไร้น้ำมัน หม้อ...</td>\n",
       "      <td>฿1,090.00</td>\n",
       "      <td>฿2,000.00</td>\n",
       "      <td>-0.46</td>\n",
       "      <td>ซื้อขั้นต่ำ ฿1,000.00</td>\n",
       "      <td>ส่งสินค้าคืนร้านค้าได้โดยตรงภายใน 7 วันเหตุผลเ...</td>\n",
       "      <td>0.92</td>\n",
       "      <td>0.67</td>\n",
       "      <td>100%</td>\n",
       "      <td>...</td>\n",
       "      <td>No Brand</td>\n",
       "      <td>5.0</td>\n",
       "      <td>435.0</td>\n",
       "      <td>11.0</td>\n",
       "      <td>0.0</td>\n",
       "      <td>0.0</td>\n",
       "      <td>1.0</td>\n",
       "      <td>แบบธรรมดา5 วัน฿20.00สามารถเก็บเงินปลายทางได้</td>\n",
       "      <td>TOR-SHOP</td>\n",
       "      <td>910428590</td>\n",
       "    </tr>\n",
       "    <tr>\n",
       "      <th>1</th>\n",
       "      <td>1</td>\n",
       "      <td>หม้อทอด เครื่องทอดไร้มัน เครื่องทอดอัจฉริยะ หม...</td>\n",
       "      <td>฿1,065.00</td>\n",
       "      <td>฿4,000.00</td>\n",
       "      <td>-0.73</td>\n",
       "      <td>NaN</td>\n",
       "      <td>ส่งสินค้าคืนร้านค้าได้โดยตรงภายใน 7 วันเหตุผลเ...</td>\n",
       "      <td>0.91</td>\n",
       "      <td>0.64</td>\n",
       "      <td>98%</td>\n",
       "      <td>...</td>\n",
       "      <td>No Brand</td>\n",
       "      <td>0.0</td>\n",
       "      <td>0.0</td>\n",
       "      <td>0.0</td>\n",
       "      <td>0.0</td>\n",
       "      <td>0.0</td>\n",
       "      <td>0.0</td>\n",
       "      <td>แบบธรรมดา5 วัน฿89.00สามารถเก็บเงินปลายทางได้</td>\n",
       "      <td>KOHLER</td>\n",
       "      <td>927648644</td>\n",
       "    </tr>\n",
       "    <tr>\n",
       "      <th>2</th>\n",
       "      <td>2</td>\n",
       "      <td>หม้อทอด หม้อทอดไฟฟ้า หม้อทอดลมร้อน หม้อทอดไฟฟ้...</td>\n",
       "      <td>฿1,480.00</td>\n",
       "      <td>฿5,000.00</td>\n",
       "      <td>-0.70</td>\n",
       "      <td>NaN</td>\n",
       "      <td>ส่งสินค้าคืนร้านค้าได้โดยตรงภายใน 7 วันเหตุผลเ...</td>\n",
       "      <td>0.91</td>\n",
       "      <td>0.64</td>\n",
       "      <td>98%</td>\n",
       "      <td>...</td>\n",
       "      <td>No Brand</td>\n",
       "      <td>5.0</td>\n",
       "      <td>261.0</td>\n",
       "      <td>0.0</td>\n",
       "      <td>0.0</td>\n",
       "      <td>0.0</td>\n",
       "      <td>0.0</td>\n",
       "      <td>แบบธรรมดา5 วัน฿20.00สามารถเก็บเงินปลายทางได้</td>\n",
       "      <td>KOHLER</td>\n",
       "      <td>1090448591</td>\n",
       "    </tr>\n",
       "    <tr>\n",
       "      <th>3</th>\n",
       "      <td>3</td>\n",
       "      <td>หม้อทอด เครื่องทอดไร้มัน เครื่องทอดอัจฉริยะ หม...</td>\n",
       "      <td>฿1,060.00</td>\n",
       "      <td>฿3,000.00</td>\n",
       "      <td>-0.65</td>\n",
       "      <td>NaN</td>\n",
       "      <td>ส่งสินค้าคืนร้านค้าได้โดยตรงภายใน 7 วันเหตุผลเ...</td>\n",
       "      <td>0.96</td>\n",
       "      <td>0.64</td>\n",
       "      <td>100%</td>\n",
       "      <td>...</td>\n",
       "      <td>No Brand</td>\n",
       "      <td>5.0</td>\n",
       "      <td>779.0</td>\n",
       "      <td>1.0</td>\n",
       "      <td>0.0</td>\n",
       "      <td>0.0</td>\n",
       "      <td>1.0</td>\n",
       "      <td>แบบธรรมดา5 วัน฿20.00สามารถเก็บเงินปลายทางได้</td>\n",
       "      <td>NAFENG</td>\n",
       "      <td>946708458</td>\n",
       "    </tr>\n",
       "    <tr>\n",
       "      <th>4</th>\n",
       "      <td>4</td>\n",
       "      <td>เครื่องทอดไฟฟ้า หม้อทอดไฟฟ้าไร้น้ำมัน หม้อทอดไ...</td>\n",
       "      <td>฿1,065.00</td>\n",
       "      <td>฿3,555.00</td>\n",
       "      <td>-0.70</td>\n",
       "      <td>NaN</td>\n",
       "      <td>ส่งสินค้าคืนร้านค้าได้โดยตรงภายใน 7 วันเหตุผลเ...</td>\n",
       "      <td>0.96</td>\n",
       "      <td>0.69</td>\n",
       "      <td>97%</td>\n",
       "      <td>...</td>\n",
       "      <td>No Brand</td>\n",
       "      <td>0.0</td>\n",
       "      <td>0.0</td>\n",
       "      <td>0.0</td>\n",
       "      <td>0.0</td>\n",
       "      <td>0.0</td>\n",
       "      <td>0.0</td>\n",
       "      <td>แบบธรรมดา5 วัน฿89.00สามารถเก็บเงินปลายทางได้</td>\n",
       "      <td>FOTILE</td>\n",
       "      <td>907536712</td>\n",
       "    </tr>\n",
       "  </tbody>\n",
       "</table>\n",
       "<p>5 rows × 22 columns</p>\n",
       "</div>"
      ],
      "text/plain": [
       "   index                                          textTitle sale_price  \\\n",
       "0      0  หม้อทอด เครื่องทอดไร้มัน หม้อทอดไร้น้ำมัน หม้อ...  ฿1,090.00   \n",
       "1      1  หม้อทอด เครื่องทอดไร้มัน เครื่องทอดอัจฉริยะ หม...  ฿1,065.00   \n",
       "2      2  หม้อทอด หม้อทอดไฟฟ้า หม้อทอดลมร้อน หม้อทอดไฟฟ้...  ฿1,480.00   \n",
       "3      3  หม้อทอด เครื่องทอดไร้มัน เครื่องทอดอัจฉริยะ หม...  ฿1,060.00   \n",
       "4      4  เครื่องทอดไฟฟ้า หม้อทอดไฟฟ้าไร้น้ำมัน หม้อทอดไ...  ฿1,065.00   \n",
       "\n",
       "  origin_price  discount              promotion  \\\n",
       "0    ฿2,000.00     -0.46  ซื้อขั้นต่ำ ฿1,000.00   \n",
       "1    ฿4,000.00     -0.73                    NaN   \n",
       "2    ฿5,000.00     -0.70                    NaN   \n",
       "3    ฿3,000.00     -0.65                    NaN   \n",
       "4    ฿3,555.00     -0.70                    NaN   \n",
       "\n",
       "                                            warranty  positive_seller_rating  \\\n",
       "0  ส่งสินค้าคืนร้านค้าได้โดยตรงภายใน 7 วันเหตุผลเ...                    0.92   \n",
       "1  ส่งสินค้าคืนร้านค้าได้โดยตรงภายใน 7 วันเหตุผลเ...                    0.91   \n",
       "2  ส่งสินค้าคืนร้านค้าได้โดยตรงภายใน 7 วันเหตุผลเ...                    0.91   \n",
       "3  ส่งสินค้าคืนร้านค้าได้โดยตรงภายใน 7 วันเหตุผลเ...                    0.96   \n",
       "4  ส่งสินค้าคืนร้านค้าได้โดยตรงภายใน 7 วันเหตุผลเ...                    0.96   \n",
       "\n",
       "  ship_on_time chat_response_rate  ...     brand score-average rating-5  \\\n",
       "0         0.67               100%  ...  No Brand           5.0    435.0   \n",
       "1         0.64                98%  ...  No Brand           0.0      0.0   \n",
       "2         0.64                98%  ...  No Brand           5.0    261.0   \n",
       "3         0.64               100%  ...  No Brand           5.0    779.0   \n",
       "4         0.69                97%  ...  No Brand           0.0      0.0   \n",
       "\n",
       "   rating_4  rating_3  rating_2  rating_1  \\\n",
       "0      11.0       0.0       0.0       1.0   \n",
       "1       0.0       0.0       0.0       0.0   \n",
       "2       0.0       0.0       0.0       0.0   \n",
       "3       1.0       0.0       0.0       1.0   \n",
       "4       0.0       0.0       0.0       0.0   \n",
       "\n",
       "                               delivery_options  store_name      itemId  \n",
       "0  แบบธรรมดา5 วัน฿20.00สามารถเก็บเงินปลายทางได้    TOR-SHOP   910428590  \n",
       "1  แบบธรรมดา5 วัน฿89.00สามารถเก็บเงินปลายทางได้      KOHLER   927648644  \n",
       "2  แบบธรรมดา5 วัน฿20.00สามารถเก็บเงินปลายทางได้      KOHLER  1090448591  \n",
       "3  แบบธรรมดา5 วัน฿20.00สามารถเก็บเงินปลายทางได้      NAFENG   946708458  \n",
       "4  แบบธรรมดา5 วัน฿89.00สามารถเก็บเงินปลายทางได้      FOTILE   907536712  \n",
       "\n",
       "[5 rows x 22 columns]"
      ]
     },
     "execution_count": 3,
     "metadata": {},
     "output_type": "execute_result"
    }
   ],
   "source": [
    "df = pd.concat([df1,df2])\n",
    "df = df.reset_index()\n",
    "df.head()"
   ]
  },
  {
   "cell_type": "code",
   "execution_count": 4,
   "metadata": {
    "scrolled": true
   },
   "outputs": [
    {
     "name": "stdout",
     "output_type": "stream",
     "text": [
      "<class 'pandas.core.frame.DataFrame'>\n",
      "RangeIndex: 1000 entries, 0 to 999\n",
      "Data columns (total 22 columns):\n",
      " #   Column                  Non-Null Count  Dtype  \n",
      "---  ------                  --------------  -----  \n",
      " 0   index                   1000 non-null   int64  \n",
      " 1   textTitle               989 non-null    object \n",
      " 2   sale_price              990 non-null    object \n",
      " 3   origin_price            958 non-null    object \n",
      " 4   discount                959 non-null    float64\n",
      " 5   promotion               511 non-null    object \n",
      " 6   warranty                994 non-null    object \n",
      " 7   positive_seller_rating  821 non-null    float64\n",
      " 8   ship_on_time            990 non-null    object \n",
      " 9   chat_response_rate      988 non-null    object \n",
      " 10  all_score               995 non-null    object \n",
      " 11  answer_response         609 non-null    object \n",
      " 12  brand                   995 non-null    object \n",
      " 13  score-average           995 non-null    float64\n",
      " 14  rating-5                995 non-null    float64\n",
      " 15  rating_4                995 non-null    float64\n",
      " 16  rating_3                995 non-null    float64\n",
      " 17  rating_2                995 non-null    float64\n",
      " 18  rating_1                995 non-null    float64\n",
      " 19  delivery_options        967 non-null    object \n",
      " 20  store_name              995 non-null    object \n",
      " 21  itemId                  1000 non-null   int64  \n",
      "dtypes: float64(8), int64(2), object(12)\n",
      "memory usage: 172.0+ KB\n"
     ]
    }
   ],
   "source": [
    "df.info()"
   ]
  },
  {
   "cell_type": "code",
   "execution_count": 5,
   "metadata": {},
   "outputs": [],
   "source": [
    "import matplotlib as mpl\n",
    "fp = mpl.font_manager.FontProperties(family='Tahoma',size=13)"
   ]
  },
  {
   "cell_type": "code",
   "execution_count": 6,
   "metadata": {},
   "outputs": [],
   "source": [
    "plt.rcParams['font.sans-serif']=['Tahoma']\n",
    "plt.rcParams['axes.unicode_minus']=False"
   ]
  },
  {
   "cell_type": "markdown",
   "metadata": {},
   "source": [
    "# 2. การตั้งคำถาม ตั้งสมมติฐาน ตั้งเป้าหมายของการวิเคราะห์\n",
    "## 2.1 ตั้งคำถาม\n",
    "- ทำไมอันดับต้นๆถึงขายดี\n",
    "- Brand ไหนที่คนนิยมที่สุด\n",
    "- การจัดโปรโมชั่นมีผลต่อยอดขายหรือไม่\n",
    "- คนนิยมซื้อสินค้าในช่วงราคาไหน\n",
    "- ราคา/จำนวนวันในการส่งสินค้ามีผลมากน้อยต่อการซื้อเพียงใด\n",
    "## 2.2 ตั้งสมมติฐาน\n",
    "- philips / xiaomi น่าจะเป็นแบรนที่ขายดีอันดับต้นๆ\n",
    "- สินค้าที่ค่าส่งถูกและส่งไวน่าจะขายดีกว่า"
   ]
  },
  {
   "cell_type": "markdown",
   "metadata": {},
   "source": [
    "# Data Mart"
   ]
  },
  {
   "cell_type": "markdown",
   "metadata": {},
   "source": [
    "## ข้อมูล ราคา"
   ]
  },
  {
   "cell_type": "markdown",
   "metadata": {},
   "source": [
    "### นำ ฿ , ออกจาก string เพื่อแปลงเป็น float"
   ]
  },
  {
   "cell_type": "code",
   "execution_count": 7,
   "metadata": {},
   "outputs": [],
   "source": [
    "df.sale_price = df.sale_price.str.replace('฿','')\n",
    "df.sale_price = df.sale_price.str.replace(',','')\n",
    "df.sale_price = df.sale_price.astype('float')"
   ]
  },
  {
   "cell_type": "code",
   "execution_count": 8,
   "metadata": {},
   "outputs": [],
   "source": [
    "df.origin_price = df.origin_price.str.replace('฿','')\n",
    "df.origin_price = df.origin_price.str.replace(',','')\n",
    "df.origin_price = df.origin_price.astype('float')"
   ]
  },
  {
   "cell_type": "code",
   "execution_count": 9,
   "metadata": {
    "scrolled": false
   },
   "outputs": [
    {
     "data": {
      "text/plain": [
       "(array([263., 611.,  43.,  28.,   8.,  25.]),\n",
       " array([    0,  1000,  2000,  3000,  4000,  5000, 10000]),\n",
       " <a list of 6 Patch objects>)"
      ]
     },
     "execution_count": 9,
     "metadata": {},
     "output_type": "execute_result"
    },
    {
     "data": {
      "image/png": "[encoded data removed]",
      "text/plain": [
       "<Figure size 1080x504 with 1 Axes>"
      ]
     },
     "metadata": {
      "needs_background": "light"
     },
     "output_type": "display_data"
    }
   ],
   "source": [
    "plt.figure(figsize=(15,7))\n",
    "plt.hist(df.sale_price,bins=[0,1000,2000,3000,4000,5000,10000])"
   ]
  },
  {
   "cell_type": "markdown",
   "metadata": {},
   "source": [
    "- สินค้าเกินครึ่งมีราคาอยู่ในช่วง 1000-2000 บาท\n"
   ]
  },
  {
   "cell_type": "code",
   "execution_count": 71,
   "metadata": {
    "scrolled": true
   },
   "outputs": [
    {
     "data": {
      "text/plain": [
       "(array([13.,  6.,  0.,  2.,  2.,  8.,  0., 15.,  0.,  5.]),\n",
       " array([1029. , 1090.9, 1152.8, 1214.7, 1276.6, 1338.5, 1400.4, 1462.3,\n",
       "        1524.2, 1586.1, 1648. ]),\n",
       " <a list of 10 Patch objects>)"
      ]
     },
     "execution_count": 71,
     "metadata": {},
     "output_type": "execute_result"
    },
    {
     "data": {
      "image/png": "[encoded data removed]",
      "text/plain": [
       "<Figure size 432x288 with 1 Axes>"
      ]
     },
     "metadata": {
      "needs_background": "light"
     },
     "output_type": "display_data"
    }
   ],
   "source": [
    "plt.hist(df.sale_price.loc[:50])"
   ]
  },
  {
   "cell_type": "markdown",
   "metadata": {},
   "source": [
    "- 50  อันดับแรกขายในช่วงราคา 1000-2000 ทั้งหมด\n",
    "### สรุปราคาขาย\n",
    "- สินค้าส่วนมากมีราคาอยู่ในช่วง 1000-2000 บาทและเป็นช่วงราคาที่ขายดีที่สุด"
   ]
  },
  {
   "cell_type": "markdown",
   "metadata": {},
   "source": [
    "## Brand\n",
    "### เปลี่ยน string ของ brand ให้อยู่รูปแบบเดียวกัน"
   ]
  },
  {
   "cell_type": "code",
   "execution_count": 11,
   "metadata": {
    "scrolled": true
   },
   "outputs": [],
   "source": [
    "df.brand = df.brand.str.title()"
   ]
  },
  {
   "cell_type": "code",
   "execution_count": 12,
   "metadata": {},
   "outputs": [
    {
     "data": {
      "text/plain": [
       "<matplotlib.axes._subplots.AxesSubplot at 0x7fabcfcc9d50>"
      ]
     },
     "execution_count": 12,
     "metadata": {},
     "output_type": "execute_result"
    },
    {
     "data": {
      "image/png": "[encoded data removed]",
      "text/plain": [
       "<Figure size 1080x504 with 1 Axes>"
      ]
     },
     "metadata": {
      "needs_background": "light"
     },
     "output_type": "display_data"
    }
   ],
   "source": [
    "plt.figure(figsize=(15,7))\n",
    "df.brand.value_counts().plot.bar()"
   ]
  },
  {
   "cell_type": "markdown",
   "metadata": {},
   "source": [
    "### สรุป Brand\n",
    "- สินค้าส่วนใหญ่จะเป็นสินค้าไม่มีแบรนด์"
   ]
  },
  {
   "cell_type": "markdown",
   "metadata": {},
   "source": [
    "## Warrnty\n",
    "### ข้อมูลการรับประกัน free text -> group (warranty or no_warranty)"
   ]
  },
  {
   "cell_type": "code",
   "execution_count": 13,
   "metadata": {},
   "outputs": [
    {
     "name": "stderr",
     "output_type": "stream",
     "text": [
      "/Users/layyer/anaconda3/envs/ai/lib/python3.7/site-packages/ipykernel_launcher.py:1: SettingWithCopyWarning: \n",
      "A value is trying to be set on a copy of a slice from a DataFrame\n",
      "\n",
      "See the caveats in the documentation: https://pandas.pydata.org/pandas-docs/stable/user_guide/indexing.html#returning-a-view-versus-a-copy\n",
      "  \"\"\"Entry point for launching an IPython kernel.\n",
      "/Users/layyer/anaconda3/envs/ai/lib/python3.7/site-packages/ipykernel_launcher.py:2: SettingWithCopyWarning: \n",
      "A value is trying to be set on a copy of a slice from a DataFrame\n",
      "\n",
      "See the caveats in the documentation: https://pandas.pydata.org/pandas-docs/stable/user_guide/indexing.html#returning-a-view-versus-a-copy\n",
      "  \n",
      "/Users/layyer/anaconda3/envs/ai/lib/python3.7/site-packages/ipykernel_launcher.py:3: SettingWithCopyWarning: \n",
      "A value is trying to be set on a copy of a slice from a DataFrame\n",
      "\n",
      "See the caveats in the documentation: https://pandas.pydata.org/pandas-docs/stable/user_guide/indexing.html#returning-a-view-versus-a-copy\n",
      "  This is separate from the ipykernel package so we can avoid doing imports until\n"
     ]
    }
   ],
   "source": [
    "df.warranty[df.warranty.isna()] = 'no_warranty'\n",
    "df.warranty[df.warranty.str.contains('ไม่มีการรับประกัน|ไม่มีการประกัน')] = 'no_warranty'\n",
    "df.warranty[df.warranty.str.contains('มีการรับประกัน|รับประกันจาก')] = 'warranty'"
   ]
  },
  {
   "cell_type": "code",
   "execution_count": 14,
   "metadata": {
    "scrolled": false
   },
   "outputs": [
    {
     "data": {
      "text/html": [
       "<div>\n",
       "<style scoped>\n",
       "    .dataframe tbody tr th:only-of-type {\n",
       "        vertical-align: middle;\n",
       "    }\n",
       "\n",
       "    .dataframe tbody tr th {\n",
       "        vertical-align: top;\n",
       "    }\n",
       "\n",
       "    .dataframe thead th {\n",
       "        text-align: right;\n",
       "    }\n",
       "</style>\n",
       "<table border=\"1\" class=\"dataframe\">\n",
       "  <thead>\n",
       "    <tr style=\"text-align: right;\">\n",
       "      <th></th>\n",
       "      <th>index</th>\n",
       "      <th>textTitle</th>\n",
       "      <th>sale_price</th>\n",
       "      <th>origin_price</th>\n",
       "      <th>discount</th>\n",
       "      <th>promotion</th>\n",
       "      <th>warranty</th>\n",
       "      <th>positive_seller_rating</th>\n",
       "      <th>ship_on_time</th>\n",
       "      <th>chat_response_rate</th>\n",
       "      <th>...</th>\n",
       "      <th>brand</th>\n",
       "      <th>score-average</th>\n",
       "      <th>rating-5</th>\n",
       "      <th>rating_4</th>\n",
       "      <th>rating_3</th>\n",
       "      <th>rating_2</th>\n",
       "      <th>rating_1</th>\n",
       "      <th>delivery_options</th>\n",
       "      <th>store_name</th>\n",
       "      <th>itemId</th>\n",
       "    </tr>\n",
       "  </thead>\n",
       "  <tbody>\n",
       "    <tr>\n",
       "      <th>0</th>\n",
       "      <td>0</td>\n",
       "      <td>หม้อทอด เครื่องทอดไร้มัน หม้อทอดไร้น้ำมัน หม้อ...</td>\n",
       "      <td>1090.0</td>\n",
       "      <td>2000.0</td>\n",
       "      <td>-0.46</td>\n",
       "      <td>ซื้อขั้นต่ำ ฿1,000.00</td>\n",
       "      <td>warranty</td>\n",
       "      <td>0.92</td>\n",
       "      <td>0.67</td>\n",
       "      <td>100%</td>\n",
       "      <td>...</td>\n",
       "      <td>No Brand</td>\n",
       "      <td>5.0</td>\n",
       "      <td>435.0</td>\n",
       "      <td>11.0</td>\n",
       "      <td>0.0</td>\n",
       "      <td>0.0</td>\n",
       "      <td>1.0</td>\n",
       "      <td>แบบธรรมดา5 วัน฿20.00สามารถเก็บเงินปลายทางได้</td>\n",
       "      <td>TOR-SHOP</td>\n",
       "      <td>910428590</td>\n",
       "    </tr>\n",
       "    <tr>\n",
       "      <th>1</th>\n",
       "      <td>1</td>\n",
       "      <td>หม้อทอด เครื่องทอดไร้มัน เครื่องทอดอัจฉริยะ หม...</td>\n",
       "      <td>1065.0</td>\n",
       "      <td>4000.0</td>\n",
       "      <td>-0.73</td>\n",
       "      <td>NaN</td>\n",
       "      <td>no_warranty</td>\n",
       "      <td>0.91</td>\n",
       "      <td>0.64</td>\n",
       "      <td>98%</td>\n",
       "      <td>...</td>\n",
       "      <td>No Brand</td>\n",
       "      <td>0.0</td>\n",
       "      <td>0.0</td>\n",
       "      <td>0.0</td>\n",
       "      <td>0.0</td>\n",
       "      <td>0.0</td>\n",
       "      <td>0.0</td>\n",
       "      <td>แบบธรรมดา5 วัน฿89.00สามารถเก็บเงินปลายทางได้</td>\n",
       "      <td>KOHLER</td>\n",
       "      <td>927648644</td>\n",
       "    </tr>\n",
       "    <tr>\n",
       "      <th>2</th>\n",
       "      <td>2</td>\n",
       "      <td>หม้อทอด หม้อทอดไฟฟ้า หม้อทอดลมร้อน หม้อทอดไฟฟ้...</td>\n",
       "      <td>1480.0</td>\n",
       "      <td>5000.0</td>\n",
       "      <td>-0.70</td>\n",
       "      <td>NaN</td>\n",
       "      <td>no_warranty</td>\n",
       "      <td>0.91</td>\n",
       "      <td>0.64</td>\n",
       "      <td>98%</td>\n",
       "      <td>...</td>\n",
       "      <td>No Brand</td>\n",
       "      <td>5.0</td>\n",
       "      <td>261.0</td>\n",
       "      <td>0.0</td>\n",
       "      <td>0.0</td>\n",
       "      <td>0.0</td>\n",
       "      <td>0.0</td>\n",
       "      <td>แบบธรรมดา5 วัน฿20.00สามารถเก็บเงินปลายทางได้</td>\n",
       "      <td>KOHLER</td>\n",
       "      <td>1090448591</td>\n",
       "    </tr>\n",
       "    <tr>\n",
       "      <th>3</th>\n",
       "      <td>3</td>\n",
       "      <td>หม้อทอด เครื่องทอดไร้มัน เครื่องทอดอัจฉริยะ หม...</td>\n",
       "      <td>1060.0</td>\n",
       "      <td>3000.0</td>\n",
       "      <td>-0.65</td>\n",
       "      <td>NaN</td>\n",
       "      <td>warranty</td>\n",
       "      <td>0.96</td>\n",
       "      <td>0.64</td>\n",
       "      <td>100%</td>\n",
       "      <td>...</td>\n",
       "      <td>No Brand</td>\n",
       "      <td>5.0</td>\n",
       "      <td>779.0</td>\n",
       "      <td>1.0</td>\n",
       "      <td>0.0</td>\n",
       "      <td>0.0</td>\n",
       "      <td>1.0</td>\n",
       "      <td>แบบธรรมดา5 วัน฿20.00สามารถเก็บเงินปลายทางได้</td>\n",
       "      <td>NAFENG</td>\n",
       "      <td>946708458</td>\n",
       "    </tr>\n",
       "    <tr>\n",
       "      <th>4</th>\n",
       "      <td>4</td>\n",
       "      <td>เครื่องทอดไฟฟ้า หม้อทอดไฟฟ้าไร้น้ำมัน หม้อทอดไ...</td>\n",
       "      <td>1065.0</td>\n",
       "      <td>3555.0</td>\n",
       "      <td>-0.70</td>\n",
       "      <td>NaN</td>\n",
       "      <td>warranty</td>\n",
       "      <td>0.96</td>\n",
       "      <td>0.69</td>\n",
       "      <td>97%</td>\n",
       "      <td>...</td>\n",
       "      <td>No Brand</td>\n",
       "      <td>0.0</td>\n",
       "      <td>0.0</td>\n",
       "      <td>0.0</td>\n",
       "      <td>0.0</td>\n",
       "      <td>0.0</td>\n",
       "      <td>0.0</td>\n",
       "      <td>แบบธรรมดา5 วัน฿89.00สามารถเก็บเงินปลายทางได้</td>\n",
       "      <td>FOTILE</td>\n",
       "      <td>907536712</td>\n",
       "    </tr>\n",
       "  </tbody>\n",
       "</table>\n",
       "<p>5 rows × 22 columns</p>\n",
       "</div>"
      ],
      "text/plain": [
       "   index                                          textTitle  sale_price  \\\n",
       "0      0  หม้อทอด เครื่องทอดไร้มัน หม้อทอดไร้น้ำมัน หม้อ...      1090.0   \n",
       "1      1  หม้อทอด เครื่องทอดไร้มัน เครื่องทอดอัจฉริยะ หม...      1065.0   \n",
       "2      2  หม้อทอด หม้อทอดไฟฟ้า หม้อทอดลมร้อน หม้อทอดไฟฟ้...      1480.0   \n",
       "3      3  หม้อทอด เครื่องทอดไร้มัน เครื่องทอดอัจฉริยะ หม...      1060.0   \n",
       "4      4  เครื่องทอดไฟฟ้า หม้อทอดไฟฟ้าไร้น้ำมัน หม้อทอดไ...      1065.0   \n",
       "\n",
       "   origin_price  discount              promotion     warranty  \\\n",
       "0        2000.0     -0.46  ซื้อขั้นต่ำ ฿1,000.00     warranty   \n",
       "1        4000.0     -0.73                    NaN  no_warranty   \n",
       "2        5000.0     -0.70                    NaN  no_warranty   \n",
       "3        3000.0     -0.65                    NaN     warranty   \n",
       "4        3555.0     -0.70                    NaN     warranty   \n",
       "\n",
       "   positive_seller_rating ship_on_time chat_response_rate  ...     brand  \\\n",
       "0                    0.92         0.67               100%  ...  No Brand   \n",
       "1                    0.91         0.64                98%  ...  No Brand   \n",
       "2                    0.91         0.64                98%  ...  No Brand   \n",
       "3                    0.96         0.64               100%  ...  No Brand   \n",
       "4                    0.96         0.69                97%  ...  No Brand   \n",
       "\n",
       "  score-average rating-5  rating_4  rating_3  rating_2  rating_1  \\\n",
       "0           5.0    435.0      11.0       0.0       0.0       1.0   \n",
       "1           0.0      0.0       0.0       0.0       0.0       0.0   \n",
       "2           5.0    261.0       0.0       0.0       0.0       0.0   \n",
       "3           5.0    779.0       1.0       0.0       0.0       1.0   \n",
       "4           0.0      0.0       0.0       0.0       0.0       0.0   \n",
       "\n",
       "                               delivery_options  store_name      itemId  \n",
       "0  แบบธรรมดา5 วัน฿20.00สามารถเก็บเงินปลายทางได้    TOR-SHOP   910428590  \n",
       "1  แบบธรรมดา5 วัน฿89.00สามารถเก็บเงินปลายทางได้      KOHLER   927648644  \n",
       "2  แบบธรรมดา5 วัน฿20.00สามารถเก็บเงินปลายทางได้      KOHLER  1090448591  \n",
       "3  แบบธรรมดา5 วัน฿20.00สามารถเก็บเงินปลายทางได้      NAFENG   946708458  \n",
       "4  แบบธรรมดา5 วัน฿89.00สามารถเก็บเงินปลายทางได้      FOTILE   907536712  \n",
       "\n",
       "[5 rows x 22 columns]"
      ]
     },
     "execution_count": 14,
     "metadata": {},
     "output_type": "execute_result"
    }
   ],
   "source": [
    "df.head(5)"
   ]
  },
  {
   "cell_type": "code",
   "execution_count": 15,
   "metadata": {},
   "outputs": [
    {
     "data": {
      "text/plain": [
       "warranty       644\n",
       "no_warranty    356\n",
       "Name: warranty, dtype: int64"
      ]
     },
     "execution_count": 15,
     "metadata": {},
     "output_type": "execute_result"
    }
   ],
   "source": [
    "df.warranty.value_counts()"
   ]
  },
  {
   "cell_type": "code",
   "execution_count": 69,
   "metadata": {},
   "outputs": [
    {
     "data": {
      "text/plain": [
       "<matplotlib.axes._subplots.AxesSubplot at 0x7fabc1130f10>"
      ]
     },
     "execution_count": 69,
     "metadata": {},
     "output_type": "execute_result"
    },
    {
     "data": {
      "image/png": "[encoded data removed]",
      "text/plain": [
       "<Figure size 432x288 with 1 Axes>"
      ]
     },
     "metadata": {
      "needs_background": "light"
     },
     "output_type": "display_data"
    }
   ],
   "source": [
    "df.warranty.iloc[:50].value_counts().plot.bar()"
   ]
  },
  {
   "cell_type": "markdown",
   "metadata": {},
   "source": [
    "### สรุป Warranty\n",
    "- สินค้า 2 ใน 3 จะมีการรับประกัน\n",
    "- สินค้าขายดี 50 อันดับแรกเกินครึ่งไม่มีการรับประกัน"
   ]
  },
  {
   "cell_type": "markdown",
   "metadata": {},
   "source": [
    "## Promotion"
   ]
  },
  {
   "cell_type": "code",
   "execution_count": 17,
   "metadata": {},
   "outputs": [
    {
     "data": {
      "text/plain": [
       "ซื้อขั้นต่ำ ฿1,000.00                               76\n",
       "ซื้อขั้นต่ำ ฿500.00                                 70\n",
       "ซื้อขั้นต่ำ  ฿500.00  รับส่วนลดสูงสุด  ฿500.00      30\n",
       "ซื้อขั้นต่ำ ฿100.00                                 29\n",
       "ซื้อขั้นต่ำ ฿300.00                                 25\n",
       "                                                    ..\n",
       "ซื้อขั้นต่ำ  ฿800.00  รับส่วนลดสูงสุด  ฿30.00        1\n",
       "ซื้อขั้นต่ำ  ฿500.00  รับส่วนลดสูงสุด  ฿20.00        1\n",
       "ซื้อขั้นต่ำ  ฿1,000.00  รับส่วนลดสูงสุด  ฿200.00     1\n",
       "ซื้อขั้นต่ำ ฿9,500.00                                1\n",
       "ซื้อ2ลด9%                                            1\n",
       "Name: promotion, Length: 98, dtype: int64"
      ]
     },
     "execution_count": 17,
     "metadata": {},
     "output_type": "execute_result"
    }
   ],
   "source": [
    "df.promotion.value_counts()"
   ]
  },
  {
   "cell_type": "code",
   "execution_count": 18,
   "metadata": {},
   "outputs": [],
   "source": [
    "import botnoiw2v as bw"
   ]
  },
  {
   "cell_type": "code",
   "execution_count": 19,
   "metadata": {},
   "outputs": [],
   "source": [
    "df_promo = df[['promotion']]"
   ]
  },
  {
   "cell_type": "code",
   "execution_count": 20,
   "metadata": {},
   "outputs": [],
   "source": [
    "promo_vec = np.vstack([bw.sentencevector(e) for e in df_promo.promotion.values])"
   ]
  },
  {
   "cell_type": "code",
   "execution_count": 21,
   "metadata": {},
   "outputs": [],
   "source": [
    "from sklearn.cluster import KMeans"
   ]
  },
  {
   "cell_type": "code",
   "execution_count": 22,
   "metadata": {},
   "outputs": [],
   "source": [
    "promo_clus = KMeans(n_clusters=3, random_state=0).fit_predict(promo_vec)"
   ]
  },
  {
   "cell_type": "code",
   "execution_count": 23,
   "metadata": {},
   "outputs": [
    {
     "name": "stderr",
     "output_type": "stream",
     "text": [
      "/Users/layyer/anaconda3/envs/ai/lib/python3.7/site-packages/ipykernel_launcher.py:1: SettingWithCopyWarning: \n",
      "A value is trying to be set on a copy of a slice from a DataFrame.\n",
      "Try using .loc[row_indexer,col_indexer] = value instead\n",
      "\n",
      "See the caveats in the documentation: https://pandas.pydata.org/pandas-docs/stable/user_guide/indexing.html#returning-a-view-versus-a-copy\n",
      "  \"\"\"Entry point for launching an IPython kernel.\n"
     ]
    },
    {
     "data": {
      "text/html": [
       "<div>\n",
       "<style scoped>\n",
       "    .dataframe tbody tr th:only-of-type {\n",
       "        vertical-align: middle;\n",
       "    }\n",
       "\n",
       "    .dataframe tbody tr th {\n",
       "        vertical-align: top;\n",
       "    }\n",
       "\n",
       "    .dataframe thead th {\n",
       "        text-align: right;\n",
       "    }\n",
       "</style>\n",
       "<table border=\"1\" class=\"dataframe\">\n",
       "  <thead>\n",
       "    <tr style=\"text-align: right;\">\n",
       "      <th></th>\n",
       "      <th>promotion</th>\n",
       "      <th>promo_clus</th>\n",
       "    </tr>\n",
       "  </thead>\n",
       "  <tbody>\n",
       "    <tr>\n",
       "      <th>0</th>\n",
       "      <td>ซื้อขั้นต่ำ ฿1,000.00</td>\n",
       "      <td>1</td>\n",
       "    </tr>\n",
       "    <tr>\n",
       "      <th>1</th>\n",
       "      <td>NaN</td>\n",
       "      <td>0</td>\n",
       "    </tr>\n",
       "    <tr>\n",
       "      <th>2</th>\n",
       "      <td>NaN</td>\n",
       "      <td>0</td>\n",
       "    </tr>\n",
       "    <tr>\n",
       "      <th>3</th>\n",
       "      <td>NaN</td>\n",
       "      <td>0</td>\n",
       "    </tr>\n",
       "    <tr>\n",
       "      <th>4</th>\n",
       "      <td>NaN</td>\n",
       "      <td>0</td>\n",
       "    </tr>\n",
       "    <tr>\n",
       "      <th>5</th>\n",
       "      <td>ซื้อขั้นต่ำ ฿1,000.00</td>\n",
       "      <td>1</td>\n",
       "    </tr>\n",
       "    <tr>\n",
       "      <th>6</th>\n",
       "      <td>ซื้อขั้นต่ำ ฿1,000.00</td>\n",
       "      <td>1</td>\n",
       "    </tr>\n",
       "    <tr>\n",
       "      <th>7</th>\n",
       "      <td>NaN</td>\n",
       "      <td>0</td>\n",
       "    </tr>\n",
       "    <tr>\n",
       "      <th>8</th>\n",
       "      <td>ซื้อขั้นต่ำ ฿1,000.00</td>\n",
       "      <td>1</td>\n",
       "    </tr>\n",
       "    <tr>\n",
       "      <th>9</th>\n",
       "      <td>NaN</td>\n",
       "      <td>0</td>\n",
       "    </tr>\n",
       "  </tbody>\n",
       "</table>\n",
       "</div>"
      ],
      "text/plain": [
       "               promotion  promo_clus\n",
       "0  ซื้อขั้นต่ำ ฿1,000.00           1\n",
       "1                    NaN           0\n",
       "2                    NaN           0\n",
       "3                    NaN           0\n",
       "4                    NaN           0\n",
       "5  ซื้อขั้นต่ำ ฿1,000.00           1\n",
       "6  ซื้อขั้นต่ำ ฿1,000.00           1\n",
       "7                    NaN           0\n",
       "8  ซื้อขั้นต่ำ ฿1,000.00           1\n",
       "9                    NaN           0"
      ]
     },
     "execution_count": 23,
     "metadata": {},
     "output_type": "execute_result"
    }
   ],
   "source": [
    "df_promo['promo_clus'] = promo_clus\n",
    "df_promo.head(10)"
   ]
  },
  {
   "cell_type": "code",
   "execution_count": 24,
   "metadata": {},
   "outputs": [
    {
     "data": {
      "text/html": [
       "<div>\n",
       "<style scoped>\n",
       "    .dataframe tbody tr th:only-of-type {\n",
       "        vertical-align: middle;\n",
       "    }\n",
       "\n",
       "    .dataframe tbody tr th {\n",
       "        vertical-align: top;\n",
       "    }\n",
       "\n",
       "    .dataframe thead th {\n",
       "        text-align: right;\n",
       "    }\n",
       "</style>\n",
       "<table border=\"1\" class=\"dataframe\">\n",
       "  <thead>\n",
       "    <tr style=\"text-align: right;\">\n",
       "      <th></th>\n",
       "      <th>promotion</th>\n",
       "      <th>promo_clus</th>\n",
       "    </tr>\n",
       "  </thead>\n",
       "  <tbody>\n",
       "    <tr>\n",
       "      <th>1</th>\n",
       "      <td>NaN</td>\n",
       "      <td>0</td>\n",
       "    </tr>\n",
       "    <tr>\n",
       "      <th>2</th>\n",
       "      <td>NaN</td>\n",
       "      <td>0</td>\n",
       "    </tr>\n",
       "    <tr>\n",
       "      <th>3</th>\n",
       "      <td>NaN</td>\n",
       "      <td>0</td>\n",
       "    </tr>\n",
       "    <tr>\n",
       "      <th>4</th>\n",
       "      <td>NaN</td>\n",
       "      <td>0</td>\n",
       "    </tr>\n",
       "    <tr>\n",
       "      <th>7</th>\n",
       "      <td>NaN</td>\n",
       "      <td>0</td>\n",
       "    </tr>\n",
       "    <tr>\n",
       "      <th>...</th>\n",
       "      <td>...</td>\n",
       "      <td>...</td>\n",
       "    </tr>\n",
       "    <tr>\n",
       "      <th>992</th>\n",
       "      <td>NaN</td>\n",
       "      <td>0</td>\n",
       "    </tr>\n",
       "    <tr>\n",
       "      <th>993</th>\n",
       "      <td>NaN</td>\n",
       "      <td>0</td>\n",
       "    </tr>\n",
       "    <tr>\n",
       "      <th>994</th>\n",
       "      <td>NaN</td>\n",
       "      <td>0</td>\n",
       "    </tr>\n",
       "    <tr>\n",
       "      <th>996</th>\n",
       "      <td>NaN</td>\n",
       "      <td>0</td>\n",
       "    </tr>\n",
       "    <tr>\n",
       "      <th>998</th>\n",
       "      <td>NaN</td>\n",
       "      <td>0</td>\n",
       "    </tr>\n",
       "  </tbody>\n",
       "</table>\n",
       "<p>489 rows × 2 columns</p>\n",
       "</div>"
      ],
      "text/plain": [
       "    promotion  promo_clus\n",
       "1         NaN           0\n",
       "2         NaN           0\n",
       "3         NaN           0\n",
       "4         NaN           0\n",
       "7         NaN           0\n",
       "..        ...         ...\n",
       "992       NaN           0\n",
       "993       NaN           0\n",
       "994       NaN           0\n",
       "996       NaN           0\n",
       "998       NaN           0\n",
       "\n",
       "[489 rows x 2 columns]"
      ]
     },
     "execution_count": 24,
     "metadata": {},
     "output_type": "execute_result"
    }
   ],
   "source": [
    "df_promo[df_promo.promo_clus==0]"
   ]
  },
  {
   "cell_type": "code",
   "execution_count": 25,
   "metadata": {},
   "outputs": [
    {
     "name": "stdout",
     "output_type": "stream",
     "text": [
      "[['ซื้อขั้นต่ำ ฿1,000.00' 1]\n",
      " ['ซื้อขั้นต่ำ ฿1,000.00' 1]\n",
      " ['ซื้อขั้นต่ำ ฿1,000.00' 1]\n",
      " ['ซื้อขั้นต่ำ ฿1,000.00' 1]\n",
      " ['ซื้อขั้นต่ำ ฿1,000.00' 1]\n",
      " ['ซื้อขั้นต่ำ ฿1,000.00' 1]\n",
      " ['ซื้อขั้นต่ำ ฿1,000.00' 1]\n",
      " ['ซื้อขั้นต่ำ ฿1,000.00' 1]\n",
      " ['ซื้อขั้นต่ำ ฿1,000.00' 1]\n",
      " ['ซื้อขั้นต่ำ ฿1,000.00' 1]\n",
      " ['ซื้อขั้นต่ำ ฿1,000.00' 1]\n",
      " ['ซื้อขั้นต่ำ ฿1,000.00' 1]\n",
      " ['ซื้อขั้นต่ำ ฿1,000.00' 1]\n",
      " ['ซื้อขั้นต่ำ ฿1,000.00' 1]\n",
      " ['ซื้อขั้นต่ำ ฿1,000.00' 1]\n",
      " ['ซื้อขั้นต่ำ ฿1,000.00' 1]\n",
      " ['ซื้อขั้นต่ำ ฿1,000.00' 1]\n",
      " ['ซื้อขั้นต่ำ ฿1,000.00' 1]\n",
      " ['ซื้อขั้นต่ำ ฿1,000.00' 1]\n",
      " ['ซื้อขั้นต่ำ ฿1,000.00' 1]\n",
      " ['ซื้อขั้นต่ำ ฿1,000.00' 1]\n",
      " ['ซื้อขั้นต่ำ ฿1,000.00' 1]\n",
      " ['ซื้อขั้นต่ำ ฿1,000.00' 1]\n",
      " ['ซื้อขั้นต่ำ ฿1,000.00' 1]\n",
      " ['ซื้อขั้นต่ำ ฿1,000.00' 1]\n",
      " ['ซื้อขั้นต่ำ ฿1,000.00' 1]\n",
      " ['ซื้อขั้นต่ำ ฿1,000.00' 1]\n",
      " ['ซื้อขั้นต่ำ ฿1,000.00' 1]\n",
      " ['ซื้อขั้นต่ำ ฿1,000.00' 1]\n",
      " ['ซื้อขั้นต่ำ ฿1,000.00' 1]\n",
      " ['ซื้อขั้นต่ำ ฿599.00' 1]\n",
      " ['ซื้อขั้นต่ำ ฿1,000.00' 1]\n",
      " ['ซื้อขั้นต่ำ ฿1,000.00' 1]\n",
      " ['ซื้อขั้นต่ำ ฿1,000.00' 1]\n",
      " ['ซื้อขั้นต่ำ ฿1,000.00' 1]\n",
      " ['ซื้อขั้นต่ำ ฿1,000.00' 1]\n",
      " ['ซื้อขั้นต่ำ ฿1,000.00' 1]\n",
      " ['ซื้อขั้นต่ำ ฿1,000.00' 1]\n",
      " ['ซื้อขั้นต่ำ ฿1,000.00' 1]\n",
      " ['ซื้อขั้นต่ำ ฿1,000.00' 1]\n",
      " ['ซื้อขั้นต่ำ ฿1,000.00' 1]\n",
      " ['ซื้อขั้นต่ำ ฿1,000.00' 1]\n",
      " ['ซื้อขั้นต่ำ ฿1,000.00' 1]\n",
      " ['ซื้อขั้นต่ำ ฿1,000.00' 1]\n",
      " ['ซื้อขั้นต่ำ ฿1,000.00' 1]\n",
      " ['ซื้อขั้นต่ำ ฿999.00' 1]\n",
      " ['ซื้อขั้นต่ำ ฿499.00' 1]\n",
      " ['ซื้อขั้นต่ำ ฿100.00' 1]\n",
      " ['ซื้อขั้นต่ำ ฿1,000.00' 1]\n",
      " ['ซื้อขั้นต่ำ  ฿500.00  รับส่วนลดสูงสุด  ฿500.00' 1]\n",
      " ['ซื้อขั้นต่ำ ฿100.00' 1]\n",
      " ['ซื้อขั้นต่ำ ฿100.00' 1]\n",
      " ['ซื้อขั้นต่ำ ฿400.00' 1]\n",
      " ['ซื้อขั้นต่ำ ฿100.00' 1]\n",
      " ['ซื้อขั้นต่ำ ฿500.00' 1]\n",
      " ['ซื้อขั้นต่ำ ฿1,500.00' 1]\n",
      " ['ซื้อขั้นต่ำ ฿599.00' 1]\n",
      " ['ซื้อขั้นต่ำ ฿499.00' 1]\n",
      " ['ซื้อขั้นต่ำ ฿1,000.00' 1]\n",
      " ['ซื้อขั้นต่ำ ฿999.00' 1]\n",
      " ['ซื้อขั้นต่ำ ฿200.00' 1]\n",
      " ['ซื้อขั้นต่ำ ฿399.00' 1]\n",
      " ['ซื้อขั้นต่ำ ฿1,599.00' 1]\n",
      " ['ซื้อขั้นต่ำ ฿10.00' 1]\n",
      " ['ซื้อขั้นต่ำ  ฿1,000.00  รับส่วนลดสูงสุด  ฿200.00' 1]\n",
      " ['ซื้อขั้นต่ำ ฿1,500.00' 1]\n",
      " ['ซื้อขั้นต่ำ ฿400.00' 1]\n",
      " ['ซื้อขั้นต่ำ  ฿500.00  รับส่วนลดสูงสุด  ฿500.00' 1]\n",
      " ['ซื้อขั้นต่ำ ฿599.00' 1]\n",
      " ['ซื้อขั้นต่ำ ฿500.00' 1]\n",
      " ['ซื้อขั้นต่ำ ฿1,000.00' 1]\n",
      " ['ซื้อขั้นต่ำ  ฿599.00  รับส่วนลดสูงสุด  ฿50.00' 1]\n",
      " ['ยิ่งซื้อมาก ยิ่งประหยัด ฿200.00' 1]\n",
      " ['ซื้อขั้นต่ำ ฿2,000.00' 1]\n",
      " ['ซื้อขั้นต่ำ ฿100.00' 1]\n",
      " ['ซื้อขั้นต่ำ ฿100.00' 1]\n",
      " ['ซื้อขั้นต่ำ ฿1,000.00' 1]\n",
      " ['ซื้อขั้นต่ำ ฿599.00' 1]\n",
      " ['ซื้อขั้นต่ำ ฿500.00' 1]\n",
      " ['ซื้อขั้นต่ำ ฿300.00' 1]\n",
      " ['ซื้อขั้นต่ำ ฿1,000.00' 1]\n",
      " ['ซื้อขั้นต่ำ ฿449.00' 1]\n",
      " ['ซื้อขั้นต่ำ ฿10.00' 1]\n",
      " ['ซื้อขั้นต่ำ ฿1,000.00' 1]\n",
      " ['ซื้อขั้นต่ำ ฿3,000.00' 1]\n",
      " ['ซื้อขั้นต่ำ ฿1,000.00' 1]\n",
      " ['ซื้อขั้นต่ำ ฿2,000.00' 1]\n",
      " ['ข้อเสนอสินค้าชุดสุดคุ้ม' 1]\n",
      " ['ซื้อขั้นต่ำ ฿199.00' 1]\n",
      " ['ซื้อขั้นต่ำ ฿599.00' 1]\n",
      " ['ซื้อขั้นต่ำ ฿300.00' 1]\n",
      " ['ซื้อขั้นต่ำ ฿1,290.00' 1]\n",
      " ['ซื้อขั้นต่ำ ฿599.00' 1]\n",
      " ['ซื้อขั้นต่ำ ฿1,290.00' 1]\n",
      " ['ซื้อขั้นต่ำ  ฿500.00  รับส่วนลดสูงสุด  ฿500.00' 1]\n",
      " ['ซื้อขั้นต่ำ ฿300.00' 1]\n",
      " ['ซื้อขั้นต่ำ ฿1,500.00' 1]\n",
      " ['ซื้อขั้นต่ำ ฿449.00' 1]\n",
      " ['ซื้อขั้นต่ำ ฿100.00' 1]\n",
      " ['ซื้อขั้นต่ำ ฿500.00' 1]\n",
      " ['ซื้อขั้นต่ำ ฿599.00' 1]\n",
      " ['ซื้อขั้นต่ำ ฿799.00' 1]\n",
      " ['ซื้อขั้นต่ำ  ฿500.00  รับส่วนลดสูงสุด  ฿500.00' 1]\n",
      " ['ซื้อขั้นต่ำ ฿300.00' 1]\n",
      " ['ซื้อขั้นต่ำ ฿1,599.00' 1]\n",
      " ['ซื้อขั้นต่ำ ฿2,000.00' 1]\n",
      " ['ซื้อขั้นต่ำ ฿1,000.00' 1]\n",
      " ['ยิ่งซื้อมาก ยิ่งประหยัด ฿66.00' 1]\n",
      " ['ซื้อขั้นต่ำ ฿500.00' 1]\n",
      " ['ซื้อขั้นต่ำ ฿999.00' 1]\n",
      " ['ยิ่งซื้อมาก ยิ่งประหยัด ฿200.00' 1]\n",
      " ['ซื้อขั้นต่ำ ฿5,000.00' 1]\n",
      " ['ซื้อขั้นต่ำ ฿500.00' 1]\n",
      " ['ซื้อขั้นต่ำ ฿849.00' 1]\n",
      " ['ซื้อขั้นต่ำ  ฿999.00  รับส่วนลดสูงสุด  ฿200.00' 1]\n",
      " ['ซื้อขั้นต่ำ  ฿999.00  รับส่วนลดสูงสุด  ฿200.00' 1]\n",
      " ['ซื้อขั้นต่ำ ฿1,090.00' 1]\n",
      " ['ซื้อขั้นต่ำ ฿599.00' 1]\n",
      " ['ซื้อขั้นต่ำ ฿39.00' 1]\n",
      " ['ซื้อขั้นต่ำ ฿499.00' 1]\n",
      " ['ซื้อขั้นต่ำ ฿100.00' 1]\n",
      " ['ซื้อขั้นต่ำ ฿499.00' 1]\n",
      " ['ซื้อขั้นต่ำ ฿800.00' 1]\n",
      " ['ซื้อขั้นต่ำ ฿300.00' 1]\n",
      " ['ซื้อขั้นต่ำ ฿599.00' 1]\n",
      " ['ซื้อขั้นต่ำ ฿1,200.00' 1]\n",
      " ['ซื้อขั้นต่ำ ฿1,290.00' 1]\n",
      " ['ซื้อขั้นต่ำ ฿300.00' 1]\n",
      " ['ซื้อขั้นต่ำ ฿799.00' 1]\n",
      " ['ซื้อขั้นต่ำ ฿1,000.00' 1]\n",
      " ['ซื้อขั้นต่ำ ฿1,000.00' 1]\n",
      " ['ซื้อขั้นต่ำ ฿1,000.00' 1]\n",
      " ['ซื้อขั้นต่ำ ฿300.00' 1]\n",
      " ['ซื้อขั้นต่ำ  ฿500.00  รับส่วนลดสูงสุด  ฿500.00' 1]\n",
      " ['ซื้อขั้นต่ำ ฿400.00' 1]\n",
      " ['ซื้อขั้นต่ำ ฿900.00' 1]\n",
      " ['ซื้อขั้นต่ำ ฿300.00' 1]\n",
      " ['ซื้อขั้นต่ำ ฿399.00' 1]\n",
      " ['ซื้อขั้นต่ำ ฿300.00' 1]\n",
      " ['ซื้อขั้นต่ำ ฿500.00' 1]\n",
      " ['ซื้อขั้นต่ำ ฿599.00' 1]\n",
      " ['ซื้อขั้นต่ำ ฿499.00' 1]\n",
      " ['ซื้อขั้นต่ำ ฿500.00' 1]\n",
      " ['ซื้อขั้นต่ำ ฿500.00' 1]\n",
      " ['ซื้อขั้นต่ำ ฿100.00' 1]\n",
      " ['ซื้อขั้นต่ำ  ฿500.00  รับส่วนลดสูงสุด  ฿5.00' 1]\n",
      " ['ซื้อขั้นต่ำ ฿500.00' 1]\n",
      " ['ซื้อขั้นต่ำ  ฿800.00  รับส่วนลดสูงสุด  ฿30.00' 1]\n",
      " ['ซื้อขั้นต่ำ ฿500.00' 1]\n",
      " ['ซื้อขั้นต่ำ ฿399.00' 1]\n",
      " ['ซื้อขั้นต่ำ ฿1,290.00' 1]\n",
      " ['ซื้อขั้นต่ำ ฿599.00' 1]\n",
      " ['ซื้อขั้นต่ำ  ฿500.00  รับส่วนลดสูงสุด  ฿500.00' 1]\n",
      " ['ซื้อขั้นต่ำ ฿300.00' 1]\n",
      " ['ซื้อขั้นต่ำ ฿300.00' 1]\n",
      " ['ซื้อขั้นต่ำ ฿1,000.00' 1]\n",
      " ['ซื้อขั้นต่ำ ฿500.00' 1]\n",
      " ['ซื้อขั้นต่ำ ฿200.00' 1]\n",
      " ['ซื้อขั้นต่ำ  ฿500.00  รับส่วนลดสูงสุด  ฿20.00' 1]\n",
      " ['ข้อเสนอสินค้าชุดสุดคุ้ม' 1]\n",
      " ['ซื้อขั้นต่ำ ฿1,500.00' 1]\n",
      " ['ซื้อขั้นต่ำ ฿100.00' 1]\n",
      " ['ซื้อขั้นต่ำ ฿1,000.00' 1]\n",
      " ['ซื้อขั้นต่ำ ฿5,000.00' 1]\n",
      " ['ซื้อขั้นต่ำ ฿1,000.00' 1]\n",
      " ['ซื้อขั้นต่ำ ฿1,000.00' 1]\n",
      " ['ซื้อขั้นต่ำ  ฿999.00  รับส่วนลดสูงสุด  ฿50.00' 1]\n",
      " ['ซื้อขั้นต่ำ ฿300.00' 1]\n",
      " ['ซื้อขั้นต่ำ  ฿999.00  รับส่วนลดสูงสุด  ฿200.00' 1]\n",
      " ['ซื้อขั้นต่ำ ฿200.00' 1]\n",
      " ['ซื้อขั้นต่ำ ฿499.00' 1]\n",
      " ['ซื้อขั้นต่ำ ฿500.00' 1]\n",
      " ['ซื้อขั้นต่ำ ฿5,000.00' 1]\n",
      " ['ซื้อขั้นต่ำ ฿599.00' 1]\n",
      " ['ซื้อขั้นต่ำ ฿400.00' 1]\n",
      " ['ซื้อขั้นต่ำ ฿100.00' 1]\n",
      " ['ซื้อขั้นต่ำ ฿499.00' 1]\n",
      " ['ซื้อขั้นต่ำ ฿1,000.00' 1]\n",
      " ['ซื้อขั้นต่ำ  ฿500.00  รับส่วนลดสูงสุด  ฿500.00' 1]\n",
      " ['ซื้อขั้นต่ำ ฿1,190.00' 1]\n",
      " ['ซื้อขั้นต่ำ ฿500.00' 1]\n",
      " ['ซื้อขั้นต่ำ ฿12,000.00' 1]\n",
      " ['ซื้อขั้นต่ำ ฿249.00' 1]\n",
      " ['ซื้อขั้นต่ำ ฿1,290.00' 1]\n",
      " ['ซื้อขั้นต่ำ ฿500.00' 1]\n",
      " ['ซื้อขั้นต่ำ  ฿500.00  รับส่วนลดสูงสุด  ฿500.00' 1]\n",
      " ['ซื้อขั้นต่ำ ฿500.00' 1]\n",
      " ['ซื้อขั้นต่ำ ฿1,000.00' 1]\n",
      " ['ซื้อขั้นต่ำ ฿199.00' 1]\n",
      " ['ซื้อขั้นต่ำ ฿1,590.00' 1]\n",
      " ['ซื้อขั้นต่ำ ฿800.00' 1]\n",
      " ['ซื้อขั้นต่ำ ฿500.00' 1]\n",
      " ['ซื้อขั้นต่ำ ฿500.00' 1]\n",
      " ['ซื้อขั้นต่ำ ฿2,000.00' 1]\n",
      " ['ซื้อขั้นต่ำ  ฿500.00  รับส่วนลดสูงสุด  ฿500.00' 1]\n",
      " ['ซื้อขั้นต่ำ ฿499.00' 1]\n",
      " ['ซื้อขั้นต่ำ ฿399.00' 1]\n",
      " ['ซื้อขั้นต่ำ ฿2,599.00' 1]\n",
      " ['ซื้อขั้นต่ำ ฿499.00' 1]\n",
      " ['ซื้อขั้นต่ำ ฿1,200.00' 1]\n",
      " ['ข้อเสนอสินค้าชุดสุดคุ้ม' 1]\n",
      " ['ซื้อขั้นต่ำ ฿900.00' 1]\n",
      " ['ซื้อขั้นต่ำ ฿400.00' 1]\n",
      " ['ซื้อขั้นต่ำ ฿200.00' 1]\n",
      " ['ซื้อขั้นต่ำ ฿599.00' 1]\n",
      " ['ซื้อขั้นต่ำ ฿500.00' 1]\n",
      " ['ซื้อขั้นต่ำ ฿100.00' 1]\n",
      " ['ซื้อขั้นต่ำ ฿1,290.00' 1]\n",
      " ['ซื้อขั้นต่ำ ฿799.00' 1]\n",
      " ['ซื้อขั้นต่ำ ฿1,500.00' 1]\n",
      " ['ซื้อขั้นต่ำ ฿199.00' 1]\n",
      " ['ซื้อขั้นต่ำ ฿5,000.00' 1]\n",
      " ['ซื้อขั้นต่ำ ฿500.00' 1]\n",
      " ['ซื้อขั้นต่ำ  ฿500.00  รับส่วนลดสูงสุด  ฿500.00' 1]\n",
      " ['ซื้อขั้นต่ำ ฿499.00' 1]\n",
      " ['ซื้อขั้นต่ำ ฿1,000.00' 1]\n",
      " ['ซื้อขั้นต่ำ ฿20.00' 1]\n",
      " ['ซื้อขั้นต่ำ ฿500.00' 1]\n",
      " ['ซื้อขั้นต่ำ ฿399.00' 1]\n",
      " ['ซื้อขั้นต่ำ  ฿200.00  รับส่วนลดสูงสุด  ฿200.00' 1]\n",
      " ['ซื้อขั้นต่ำ ฿100.00' 1]\n",
      " ['ซื้อขั้นต่ำ  ฿10.00  รับส่วนลดสูงสุด  ฿100.00' 1]\n",
      " ['ซื้อขั้นต่ำ ฿2,300.00' 1]\n",
      " ['ซื้อขั้นต่ำ ฿500.00' 1]\n",
      " ['ซื้อขั้นต่ำ ฿299.00' 1]\n",
      " ['ซื้อขั้นต่ำ ฿999.00' 1]\n",
      " ['ซื้อขั้นต่ำ ฿399.00' 1]\n",
      " ['ซื้อขั้นต่ำ ฿500.00' 1]\n",
      " ['ซื้อขั้นต่ำ  ฿500.00  รับส่วนลดสูงสุด  ฿500.00' 1]\n",
      " ['ซื้อขั้นต่ำ ฿500.00' 1]\n",
      " ['ซื้อขั้นต่ำ ฿2,300.00' 1]\n",
      " ['ซื้อขั้นต่ำ ฿173.00' 1]\n",
      " ['ซื้อขั้นต่ำ ฿9,600.00' 1]\n",
      " ['ซื้อขั้นต่ำ ฿100.00' 1]\n",
      " ['ซื้อขั้นต่ำ  ฿500.00  รับส่วนลดสูงสุด  ฿500.00' 1]\n",
      " ['ซื้อขั้นต่ำ ฿1,599.00' 1]\n",
      " ['ซื้อขั้นต่ำ ฿1,500.00' 1]\n",
      " ['ซื้อขั้นต่ำ ฿1,500.00' 1]\n",
      " ['ซื้อขั้นต่ำ ฿500.00' 1]\n",
      " ['ซื้อขั้นต่ำ ฿500.00' 1]\n",
      " ['ซื้อขั้นต่ำ ฿799.00' 1]\n",
      " ['ซื้อขั้นต่ำ ฿500.00' 1]\n",
      " ['ซื้อขั้นต่ำ ฿1,290.00' 1]\n",
      " ['ซื้อขั้นต่ำ ฿300.00' 1]\n",
      " ['ซื้อขั้นต่ำ ฿500.00' 1]\n",
      " ['ซื้อขั้นต่ำ ฿500.00' 1]\n",
      " ['ซื้อขั้นต่ำ  ฿500.00  รับส่วนลดสูงสุด  ฿500.00' 1]\n",
      " ['ซื้อขั้นต่ำ ฿100.00' 1]\n",
      " ['ซื้อขั้นต่ำ ฿599.00' 1]\n",
      " ['ซื้อขั้นต่ำ ฿300.00' 1]\n",
      " ['ซื้อขั้นต่ำ ฿599.00' 1]\n",
      " ['ซื้อขั้นต่ำ ฿2,500.00' 1]\n",
      " ['ซื้อขั้นต่ำ ฿500.00' 1]\n",
      " ['ซื้อทุก  ฿1,790.00, ลด ฿120.00' 1]\n",
      " ['ซื้อขั้นต่ำ ฿1,990.00' 1]\n",
      " ['ซื้อขั้นต่ำ ฿300.00' 1]\n",
      " ['ซื้อขั้นต่ำ ฿3,000.00' 1]\n",
      " ['ซื้อขั้นต่ำ ฿500.00' 1]\n",
      " ['ซื้อขั้นต่ำ  ฿500.00  รับส่วนลดสูงสุด  ฿500.00' 1]\n",
      " ['ซื้อขั้นต่ำ ฿500.00' 1]\n",
      " ['ซื้อขั้นต่ำ ฿100.00' 1]\n",
      " ['ซื้อขั้นต่ำ ฿100.00' 1]\n",
      " ['ซื้อขั้นต่ำ ฿1,000.00' 1]\n",
      " ['ซื้อขั้นต่ำ ฿100.00' 1]\n",
      " ['ซื้อขั้นต่ำ ฿5.00' 1]\n",
      " ['ซื้อขั้นต่ำ ฿800.00' 1]\n",
      " ['ซื้อขั้นต่ำ ฿1,290.00' 1]\n",
      " ['ซื้อขั้นต่ำ ฿800.00' 1]\n",
      " ['ซื้อขั้นต่ำ ฿500.00' 1]\n",
      " ['ซื้อขั้นต่ำ ฿600.00' 1]\n",
      " ['ซื้อขั้นต่ำ ฿500.00' 1]\n",
      " ['ซื้อขั้นต่ำ ฿800.00' 1]\n",
      " ['ซื้อขั้นต่ำ ฿500.00' 1]\n",
      " ['ซื้อขั้นต่ำ ฿10.00' 1]\n",
      " ['ซื้อขั้นต่ำ ฿1,500.00' 1]\n",
      " ['ซื้อขั้นต่ำ ฿1,990.00' 1]\n",
      " ['ซื้อขั้นต่ำ ฿799.00' 1]\n",
      " ['ซื้อขั้นต่ำ ฿500.00' 1]\n",
      " ['ซื้อขั้นต่ำ  ฿500.00  รับส่วนลดสูงสุด  ฿500.00' 1]\n",
      " ['ซื้อขั้นต่ำ ฿399.00' 1]\n",
      " ['ซื้อขั้นต่ำ ฿1,000.00' 1]\n",
      " ['ซื้อขั้นต่ำ ฿449.00' 1]\n",
      " ['ซื้อขั้นต่ำ ฿650.00' 1]\n",
      " ['ซื้อขั้นต่ำ ฿2,300.00' 1]\n",
      " ['ซื้อขั้นต่ำ ฿399.00' 1]\n",
      " ['ซื้อขั้นต่ำ ฿500.00' 1]\n",
      " ['ซื้อขั้นต่ำ ฿1,000.00' 1]\n",
      " ['ซื้อขั้นต่ำ ฿12,000.00' 1]\n",
      " ['ซื้อขั้นต่ำ ฿500.00' 1]\n",
      " ['ซื้อขั้นต่ำ ฿100.00' 1]\n",
      " ['ซื้อขั้นต่ำ ฿1,000.00' 1]\n",
      " ['ซื้อขั้นต่ำ  ฿999.00  รับส่วนลดสูงสุด  ฿200.00' 1]\n",
      " ['ซื้อขั้นต่ำ  ฿2,000.00  รับส่วนลดสูงสุด  ฿50.00' 1]\n",
      " ['ซื้อขั้นต่ำ ฿500.00' 1]\n",
      " ['ซื้อขั้นต่ำ ฿1,999.00' 1]\n",
      " ['ซื้อขั้นต่ำ  ฿500.00  รับส่วนลดสูงสุด  ฿5.00' 1]\n",
      " ['ซื้อขั้นต่ำ ฿500.00' 1]\n",
      " ['ซื้อขั้นต่ำ ฿50.00' 1]\n",
      " ['ซื้อขั้นต่ำ ฿500.00' 1]\n",
      " ['ซื้อขั้นต่ำ ฿1,990.00' 1]\n",
      " ['ซื้อขั้นต่ำ ฿500.00' 1]\n",
      " ['ซื้อขั้นต่ำ ฿1,999.00' 1]\n",
      " ['ซื้อขั้นต่ำ ฿500.00' 1]\n",
      " ['ซื้อขั้นต่ำ ฿500.00' 1]\n",
      " ['ซื้อขั้นต่ำ  ฿500.00  รับส่วนลดสูงสุด  ฿500.00' 1]\n",
      " ['ซื้อขั้นต่ำ ฿700.00' 1]\n",
      " ['ซื้อขั้นต่ำ ฿399.00' 1]\n",
      " ['ซื้อขั้นต่ำ ฿300.00' 1]\n",
      " ['ซื้อขั้นต่ำ ฿100.00' 1]\n",
      " ['ซื้อขั้นต่ำ ฿700.00' 1]\n",
      " ['ซื้อขั้นต่ำ ฿800.00' 1]\n",
      " ['ซื้อขั้นต่ำ ฿1,000.00' 1]\n",
      " ['ซื้อขั้นต่ำ ฿100.00' 1]\n",
      " ['ซื้อขั้นต่ำ ฿750.00' 1]\n",
      " ['ซื้อขั้นต่ำ ฿129.00' 1]\n",
      " ['ซื้อขั้นต่ำ ฿500.00' 1]\n",
      " ['ซื้อขั้นต่ำ ฿500.00' 1]\n",
      " ['ซื้อขั้นต่ำ ฿300.00' 1]\n",
      " ['ซื้อขั้นต่ำ ฿1,000.00' 1]\n",
      " ['ซื้อขั้นต่ำ ฿2,300.00' 1]\n",
      " ['ซื้อขั้นต่ำ ฿500.00' 1]\n",
      " ['ซื้อขั้นต่ำ ฿799.00' 1]\n",
      " ['ซื้อขั้นต่ำ ฿500.00' 1]\n",
      " ['ซื้อขั้นต่ำ ฿700.00' 1]\n",
      " ['ซื้อขั้นต่ำ ฿300.00' 1]\n",
      " ['ซื้อขั้นต่ำ ฿500.00' 1]\n",
      " ['ซื้อขั้นต่ำ ฿1,590.00' 1]\n",
      " ['ซื้อขั้นต่ำ ฿1,290.00' 1]\n",
      " ['ซื้อขั้นต่ำ ฿300.00' 1]\n",
      " ['ซื้อขั้นต่ำ ฿99.00' 1]\n",
      " ['ซื้อขั้นต่ำ ฿500.00' 1]\n",
      " ['ซื้อขั้นต่ำ ฿499.00' 1]\n",
      " ['ซื้อขั้นต่ำ ฿100.00' 1]\n",
      " ['ซื้อขั้นต่ำ ฿9,900.00' 1]\n",
      " ['ซื้อขั้นต่ำ ฿300.00' 1]\n",
      " ['ซื้อขั้นต่ำ  ฿500.00  รับส่วนลดสูงสุด  ฿500.00' 1]\n",
      " ['ซื้อขั้นต่ำ ฿300.00' 1]\n",
      " ['ซื้อขั้นต่ำ ฿1,000.00' 1]\n",
      " ['ซื้อขั้นต่ำ ฿1,000.00' 1]\n",
      " ['ซื้อขั้นต่ำ ฿1,500.00' 1]\n",
      " ['ซื้อขั้นต่ำ  ฿500.00  รับส่วนลดสูงสุด  ฿500.00' 1]\n",
      " ['ซื้อขั้นต่ำ ฿200.00' 1]\n",
      " ['ซื้อขั้นต่ำ ฿499.00' 1]\n",
      " ['ซื้อขั้นต่ำ ฿100.00' 1]\n",
      " ['ซื้อขั้นต่ำ ฿100.00' 1]\n",
      " ['ซื้อขั้นต่ำ ฿199.00' 1]\n",
      " ['ซื้อขั้นต่ำ ฿100.00' 1]\n",
      " ['ซื้อขั้นต่ำ ฿800.00' 1]\n",
      " ['ซื้อขั้นต่ำ  ฿500.00  รับส่วนลดสูงสุด  ฿500.00' 1]\n",
      " ['ซื้อขั้นต่ำ ฿1,200.00' 1]\n",
      " ['ซื้อขั้นต่ำ  ฿500.00  รับส่วนลดสูงสุด  ฿500.00' 1]\n",
      " ['ซื้อขั้นต่ำ ฿599.00' 1]\n",
      " ['ซื้อขั้นต่ำ ฿500.00' 1]\n",
      " ['ซื้อขั้นต่ำ ฿500.00' 1]\n",
      " ['ซื้อขั้นต่ำ ฿500.00' 1]\n",
      " ['ซื้อขั้นต่ำ ฿1,500.00' 1]\n",
      " ['ซื้อขั้นต่ำ ฿9,600.00' 1]\n",
      " ['ซื้อขั้นต่ำ  ฿500.00  รับส่วนลดสูงสุด  ฿500.00' 1]\n",
      " ['ซื้อขั้นต่ำ ฿100.00' 1]\n",
      " ['ซื้อขั้นต่ำ ฿599.00' 1]\n",
      " ['ซื้อขั้นต่ำ  ฿500.00  รับส่วนลดสูงสุด  ฿500.00' 1]\n",
      " ['ซื้อขั้นต่ำ ฿50.00' 1]\n",
      " ['ซื้อขั้นต่ำ ฿500.00' 1]\n",
      " ['ซื้อขั้นต่ำ ฿500.00' 1]\n",
      " ['ซื้อขั้นต่ำ ฿300.00' 1]\n",
      " ['ซื้อขั้นต่ำ ฿1,000.00' 1]\n",
      " ['ซื้อขั้นต่ำ ฿399.00' 1]\n",
      " ['ซื้อขั้นต่ำ ฿750.00' 1]\n",
      " ['ซื้อขั้นต่ำ ฿800.00' 1]\n",
      " ['ซื้อขั้นต่ำ  ฿500.00  รับส่วนลดสูงสุด  ฿500.00' 1]\n",
      " ['ซื้อขั้นต่ำ  ฿500.00  รับส่วนลดสูงสุด  ฿500.00' 1]\n",
      " ['ซื้อขั้นต่ำ  ฿500.00  รับส่วนลดสูงสุด  ฿500.00' 1]\n",
      " ['ซื้อทุก ฿1,001.00ลด฿20.00; ซื้อทุก ฿2,001.00ลด฿40.00; ซื้อทุก ฿3,001.00ลด฿80.00'\n",
      "  1]\n",
      " ['ซื้อขั้นต่ำ ฿2,999.00' 1]\n",
      " ['ซื้อขั้นต่ำ ฿899.00' 1]\n",
      " ['ซื้อขั้นต่ำ ฿599.00' 1]\n",
      " ['ซื้อขั้นต่ำ ฿299.00' 1]\n",
      " ['ซื้อขั้นต่ำ ฿800.00' 1]\n",
      " ['ซื้อขั้นต่ำ ฿500.00' 1]\n",
      " ['ซื้อขั้นต่ำ ฿100.00' 1]\n",
      " ['ซื้อขั้นต่ำ ฿1,500.00' 1]\n",
      " ['ซื้อขั้นต่ำ ฿1,000.00' 1]\n",
      " ['ซื้อขั้นต่ำ ฿599.00' 1]\n",
      " ['ซื้อขั้นต่ำ ฿180.00' 1]\n",
      " ['ซื้อขั้นต่ำ ฿300.00' 1]\n",
      " ['ซื้อขั้นต่ำ ฿500.00' 1]\n",
      " ['ซื้อขั้นต่ำ ฿500.00' 1]\n",
      " ['ซื้อขั้นต่ำ ฿1,500.00' 1]\n",
      " ['ซื้อขั้นต่ำ  ฿500.00  รับส่วนลดสูงสุด  ฿500.00' 1]\n",
      " ['ซื้อขั้นต่ำ ฿500.00' 1]\n",
      " ['ซื้อขั้นต่ำ ฿1,000.00' 1]\n",
      " ['ซื้อขั้นต่ำ  ฿500.00  รับส่วนลดสูงสุด  ฿500.00' 1]\n",
      " ['ซื้อขั้นต่ำ ฿1,000.00' 1]\n",
      " ['ซื้อขั้นต่ำ ฿100.00' 1]\n",
      " ['ซื้อขั้นต่ำ ฿599.00' 1]\n",
      " ['ซื้อขั้นต่ำ ฿600.00' 1]\n",
      " ['ซื้อขั้นต่ำ ฿199.00' 1]\n",
      " ['ซื้อขั้นต่ำ ฿500.00' 1]\n",
      " ['ซื้อขั้นต่ำ ฿9,500.00' 1]\n",
      " ['ซื้อขั้นต่ำ ฿500.00' 1]\n",
      " ['ซื้อขั้นต่ำ  ฿400.00  รับส่วนลดสูงสุด  ฿20.00' 1]\n",
      " ['รับของแถม เมื่อซื้อครบทุก ฿15,000.00 บาท' 1]\n",
      " ['ซื้อขั้นต่ำ ฿599.00' 1]\n",
      " ['ซื้อขั้นต่ำ ฿500.00' 1]\n",
      " ['ซื้อขั้นต่ำ ฿1,990.00' 1]\n",
      " ['ซื้อขั้นต่ำ ฿1,500.00' 1]\n",
      " ['ซื้อขั้นต่ำ ฿499.00' 1]\n",
      " ['ซื้อขั้นต่ำ  ฿500.00  รับส่วนลดสูงสุด  ฿500.00' 1]\n",
      " ['ซื้อขั้นต่ำ ฿199.00' 1]\n",
      " ['ซื้อขั้นต่ำ ฿500.00' 1]\n",
      " ['ซื้อขั้นต่ำ ฿499.00' 1]\n",
      " ['ซื้อขั้นต่ำ ฿399.00' 1]\n",
      " ['ซื้อขั้นต่ำ ฿10,000.00' 1]\n",
      " ['ซื้อขั้นต่ำ ฿399.00' 1]\n",
      " ['ซื้อขั้นต่ำ ฿500.00' 1]\n",
      " ['ซื้อขั้นต่ำ  ฿599.00  รับส่วนลดสูงสุด  ฿20.00' 1]\n",
      " ['ซื้อขั้นต่ำ ฿1,000.00' 1]\n",
      " ['ซื้อขั้นต่ำ ฿400.00' 1]\n",
      " ['ซื้อขั้นต่ำ ฿3,000.00' 1]\n",
      " ['ซื้อขั้นต่ำ ฿1,000.00' 1]\n",
      " ['ซื้อขั้นต่ำ ฿199.00' 1]\n",
      " ['ซื้อขั้นต่ำ ฿499.00' 1]\n",
      " ['ซื้อขั้นต่ำ ฿700.00' 1]\n",
      " ['ซื้อขั้นต่ำ ฿700.00' 1]\n",
      " ['ซื้อขั้นต่ำ ฿799.00' 1]\n",
      " ['ซื้อขั้นต่ำ ฿500.00' 1]\n",
      " ['ซื้อขั้นต่ำ  ฿500.00  รับส่วนลดสูงสุด  ฿500.00' 1]\n",
      " ['ซื้อขั้นต่ำ ฿599.00' 1]\n",
      " ['ซื้อขั้นต่ำ ฿500.00' 1]\n",
      " ['ซื้อขั้นต่ำ ฿599.00' 1]\n",
      " ['ซื้อขั้นต่ำ ฿500.00' 1]\n",
      " ['ซื้อขั้นต่ำ  ฿500.00  รับส่วนลดสูงสุด  ฿500.00' 1]\n",
      " ['ซื้อขั้นต่ำ ฿5,000.00' 1]\n",
      " ['ซื้อขั้นต่ำ  ฿500.00  รับส่วนลดสูงสุด  ฿5.00' 1]\n",
      " ['ซื้อขั้นต่ำ ฿200.00' 1]\n",
      " ['ซื้อขั้นต่ำ ฿500.00' 1]\n",
      " ['ซื้อขั้นต่ำ ฿399.00' 1]\n",
      " ['ซื้อขั้นต่ำ ฿5,000.00' 1]\n",
      " ['ซื้อขั้นต่ำ ฿100.00' 1]\n",
      " ['ซื้อขั้นต่ำ ฿500.00' 1]\n",
      " ['ซื้อขั้นต่ำ ฿400.00' 1]\n",
      " ['ซื้อขั้นต่ำ ฿500.00' 1]\n",
      " ['ซื้อขั้นต่ำ ฿300.00' 1]\n",
      " ['ซื้อขั้นต่ำ ฿300.00' 1]]\n"
     ]
    }
   ],
   "source": [
    "print(df_promo[df_promo.promo_clus==1].values)"
   ]
  },
  {
   "cell_type": "code",
   "execution_count": 26,
   "metadata": {
    "scrolled": true
   },
   "outputs": [
    {
     "name": "stdout",
     "output_type": "stream",
     "text": [
      "[['ซื้อ2ลด1%' 2]\n",
      " ['ซื้อ2ลด2%; ซื้อ3ลด3%' 2]\n",
      " ['ซื้อ2ลด4%; ซื้อ3ลด6%; ซื้อ4ลด10%' 2]\n",
      " ['ซื้อ3ลด฿20.00; ซื้อ5ลด฿40.00' 2]\n",
      " ['ซื้อ2ลด1%' 2]\n",
      " ['ซื้อ2ลด1%' 2]\n",
      " ['ซื้อ2ลด3%; ซื้อ3ลด5%; ซื้อ5ลด8%' 2]\n",
      " ['ซื้อ3ลด2%; ซื้อ4ลด3%' 2]\n",
      " ['ซื้อ2ลด฿10.00; ซื้อ3ลด฿30.00; ซื้อ4ลด฿80.00' 2]\n",
      " ['ซื้อ2ลด5%' 2]\n",
      " ['ซื้อ2ลด1%' 2]\n",
      " ['ซื้อ3ลด2%; ซื้อ4ลด3%' 2]\n",
      " ['ซื้อ1ลด2%; ซื้อ2ลด3%; ซื้อ3ลด4%' 2]\n",
      " ['ซื้อ 2, ลด ฿20.00' 2]\n",
      " ['ซื้อ2ลด3%; ซื้อ3ลด5%; ซื้อ4ลด8%' 2]\n",
      " ['ซื้อ2ลด3%; ซื้อ3ลด5%; ซื้อ4ลด8%' 2]\n",
      " ['ซื้อ2ลด2%' 2]\n",
      " ['ซื้อ2ลด9%' 2]\n",
      " ['ซื้อ2ลด฿20.00; ซื้อ3ลด฿30.00; ซื้อ4ลด฿50.00' 2]\n",
      " ['ซื้อ2ลด1%' 2]\n",
      " ['ซื้อสินค้า 1 รายการ เพื่อรับของแถม' 2]\n",
      " ['ซื้อ 2, ลด ฿10.00' 2]\n",
      " ['ซื้อ2ลด3%; ซื้อ3ลด5%; ซื้อ4ลด8%' 2]\n",
      " ['ซื้อ3ลด฿20.00; ซื้อ5ลด฿40.00' 2]\n",
      " ['ซื้อ2ลด2%' 2]\n",
      " ['ซื้อ1ลด฿20.00; ซื้อ2ลด฿50.00; ซื้อ3ลด฿100.00' 2]\n",
      " ['ซื้อ 2, ลด ฿10.00' 2]\n",
      " ['ซื้อ2ลด3%; ซื้อ3ลด5%; ซื้อ4ลด8%' 2]\n",
      " ['ซื้อ2ลด1%' 2]\n",
      " ['ซื้อ2ลด2%' 2]\n",
      " ['ซื้อ2ลด1%' 2]\n",
      " ['ซื้อ2ลด2%; ซื้อ3ลด3%' 2]\n",
      " ['ซื้อ2ลด2%; ซื้อ3ลด3%; ซื้อ5ลด5%' 2]\n",
      " ['ซื้อ2ลด2%; ซื้อ3ลด3%; ซื้อ4ลด4%' 2]\n",
      " ['ซื้อ2ลด1%' 2]\n",
      " ['ซื้อ2ลด1%' 2]\n",
      " ['ซื้อ2ลด1%' 2]\n",
      " ['ซื้อ2ลด1%' 2]\n",
      " ['ซื้อ2ลด฿10.00; ซื้อ3ลด฿11.00; ซื้อ4ลด฿12.00' 2]\n",
      " ['ซื้อ2ลด฿10.00; ซื้อ3ลด฿11.00; ซื้อ4ลด฿12.00' 2]\n",
      " ['ซื้อ2ลด2%' 2]\n",
      " ['ซื้อ3ลด฿20.00; ซื้อ5ลด฿40.00' 2]\n",
      " ['ซื้อ2ลด฿20.00; ซื้อ3ลด฿30.00; ซื้อ4ลด฿50.00' 2]\n",
      " ['ซื้อ2ลด฿20.00; ซื้อ3ลด฿30.00; ซื้อ4ลด฿50.00' 2]\n",
      " ['ซื้อ2ลด2%' 2]\n",
      " ['ซื้อ3ลด฿15.00; ซื้อ4ลด฿20.00; ซื้อ5ลด฿25.00' 2]\n",
      " ['ซื้อ2ลด฿10.00; ซื้อ3ลด฿30.00; ซื้อ4ลด฿80.00' 2]\n",
      " ['ซื้อ 2, ลด ฿11.00' 2]\n",
      " ['ซื้อ2ลด฿20.00; ซื้อ3ลด฿30.00; ซื้อ4ลด฿50.00' 2]\n",
      " ['ซื้อ2ลด2%; ซื้อ3ลด3%' 2]\n",
      " ['ซื้อ2ลด2%' 2]\n",
      " ['ซื้อ3ลด฿15.00; ซื้อ4ลด฿20.00; ซื้อ5ลด฿25.00' 2]\n",
      " ['ซื้อ2ลด2%' 2]\n",
      " ['ซื้อ2ลด2%; ซื้อ3ลด3%' 2]\n",
      " ['ซื้อ2ลด3%; ซื้อ3ลด5%; ซื้อ4ลด8%' 2]\n",
      " ['ซื้อ2ลด2%' 2]\n",
      " ['ซื้อ2ลด1%' 2]\n",
      " ['ซื้อ3ลด฿15.00; ซื้อ4ลด฿20.00; ซื้อ5ลด฿25.00' 2]\n",
      " ['ซื้อ2ลด1%' 2]\n",
      " ['ซื้อ3ลด5%; ซื้อ10ลด10%' 2]\n",
      " ['ซื้อ2ลด1%' 2]\n",
      " ['ซื้อ2ลด฿10.00; ซื้อ3ลด฿11.00; ซื้อ4ลด฿12.00' 2]\n",
      " ['ซื้อ 1, ลด ฿10.00' 2]\n",
      " ['ซื้อ2ลด3%; ซื้อ3ลด5%; ซื้อ4ลด8%' 2]\n",
      " ['ซื้อ3ลด฿15.00; ซื้อ4ลด฿20.00; ซื้อ5ลด฿25.00' 2]\n",
      " ['ซื้อ2ลด3%; ซื้อ3ลด5%' 2]\n",
      " ['ซื้อ2ลด5%; ซื้อ3ลด6%; ซื้อ4ลด7%' 2]]\n"
     ]
    }
   ],
   "source": [
    "print(df_promo[df_promo.promo_clus==2].values)"
   ]
  },
  {
   "cell_type": "code",
   "execution_count": 27,
   "metadata": {},
   "outputs": [
    {
     "data": {
      "text/plain": [
       "<matplotlib.axes._subplots.AxesSubplot at 0x7fabcfcaa510>"
      ]
     },
     "execution_count": 27,
     "metadata": {},
     "output_type": "execute_result"
    },
    {
     "data": {
      "image/png": "[encoded data removed]",
      "text/plain": [
       "<Figure size 432x288 with 1 Axes>"
      ]
     },
     "metadata": {
      "needs_background": "light"
     },
     "output_type": "display_data"
    }
   ],
   "source": [
    "df_promo.promo_clus.value_counts().plot.bar()"
   ]
  },
  {
   "cell_type": "markdown",
   "metadata": {},
   "source": [
    "### สรุป Promotion\n",
    "**- แบ่ง 3 กลุ่ม**\n",
    "1. ไม่มีโปรโมชั่น\n",
    "2. ซื้อขั้นต่ำ\n",
    "3. ซื้อจำกัดจำนวนชิ้นได้ลด\n",
    "\n",
    "**-  สินค้าในตลาดครึ่งหนึ่งมีโปรโมชั่นอีกครึ่งไม่มี**"
   ]
  },
  {
   "cell_type": "markdown",
   "metadata": {},
   "source": [
    "## delivery_options"
   ]
  },
  {
   "cell_type": "code",
   "execution_count": 28,
   "metadata": {
    "scrolled": true
   },
   "outputs": [
    {
     "data": {
      "text/plain": [
       "0           แบบธรรมดา5 วัน฿20.00สามารถเก็บเงินปลายทางได้\n",
       "1           แบบธรรมดา5 วัน฿89.00สามารถเก็บเงินปลายทางได้\n",
       "2           แบบธรรมดา5 วัน฿20.00สามารถเก็บเงินปลายทางได้\n",
       "3           แบบธรรมดา5 วัน฿20.00สามารถเก็บเงินปลายทางได้\n",
       "4           แบบธรรมดา5 วัน฿89.00สามารถเก็บเงินปลายทางได้\n",
       "                             ...                        \n",
       "995    แบบธรรมดา3 วัน฿89.00ฟรีค่าจัดส่งเมื่อซื้อสินค้...\n",
       "996            แบบธรรมดา3 วันฟรีสามารถเก็บเงินปลายทางได้\n",
       "997                                     ส่งจากต่างประเทศ\n",
       "998    แบบธรรมดา5 - 6 วัน฿134.00สามารถเก็บเงินปลายทางได้\n",
       "999        แบบธรรมดา2 วัน฿109.00สามารถเก็บเงินปลายทางได้\n",
       "Name: delivery_options, Length: 1000, dtype: object"
      ]
     },
     "execution_count": 28,
     "metadata": {},
     "output_type": "execute_result"
    }
   ],
   "source": [
    "df.delivery_options"
   ]
  },
  {
   "cell_type": "markdown",
   "metadata": {},
   "source": [
    "### แบ่งการส่งเป็นข้อมูลต่างๆ ดังนี้\n",
    "- ในประเทศ / ต่างประเทศ\n",
    "- จำนวนวัน\n",
    "- ค่าส่ง\n",
    "- เก็บเงินปลายทาง"
   ]
  },
  {
   "cell_type": "code",
   "execution_count": 29,
   "metadata": {},
   "outputs": [],
   "source": [
    "df_deli = df[['delivery_options']]"
   ]
  },
  {
   "cell_type": "code",
   "execution_count": 30,
   "metadata": {},
   "outputs": [
    {
     "data": {
      "text/html": [
       "<div>\n",
       "<style scoped>\n",
       "    .dataframe tbody tr th:only-of-type {\n",
       "        vertical-align: middle;\n",
       "    }\n",
       "\n",
       "    .dataframe tbody tr th {\n",
       "        vertical-align: top;\n",
       "    }\n",
       "\n",
       "    .dataframe thead th {\n",
       "        text-align: right;\n",
       "    }\n",
       "</style>\n",
       "<table border=\"1\" class=\"dataframe\">\n",
       "  <thead>\n",
       "    <tr style=\"text-align: right;\">\n",
       "      <th></th>\n",
       "      <th>index</th>\n",
       "      <th>textTitle</th>\n",
       "      <th>sale_price</th>\n",
       "      <th>origin_price</th>\n",
       "      <th>discount</th>\n",
       "      <th>promotion</th>\n",
       "      <th>warranty</th>\n",
       "      <th>positive_seller_rating</th>\n",
       "      <th>ship_on_time</th>\n",
       "      <th>chat_response_rate</th>\n",
       "      <th>...</th>\n",
       "      <th>brand</th>\n",
       "      <th>score-average</th>\n",
       "      <th>rating-5</th>\n",
       "      <th>rating_4</th>\n",
       "      <th>rating_3</th>\n",
       "      <th>rating_2</th>\n",
       "      <th>rating_1</th>\n",
       "      <th>delivery_options</th>\n",
       "      <th>store_name</th>\n",
       "      <th>itemId</th>\n",
       "    </tr>\n",
       "  </thead>\n",
       "  <tbody>\n",
       "    <tr>\n",
       "      <th>103</th>\n",
       "      <td>103</td>\n",
       "      <td>Smarthome หม้อทอดไร้น้ำมัน ขนาด 3.5 ลิตร รุ่น ...</td>\n",
       "      <td>1424.0</td>\n",
       "      <td>3990.0</td>\n",
       "      <td>-0.64</td>\n",
       "      <td>NaN</td>\n",
       "      <td>warranty</td>\n",
       "      <td>0.93</td>\n",
       "      <td>0.9</td>\n",
       "      <td>NaN</td>\n",
       "      <td>...</td>\n",
       "      <td>Smarthome</td>\n",
       "      <td>4.8</td>\n",
       "      <td>79.0</td>\n",
       "      <td>8.0</td>\n",
       "      <td>0.0</td>\n",
       "      <td>0.0</td>\n",
       "      <td>2.0</td>\n",
       "      <td>ดำเนินการโดยลาซาด้า</td>\n",
       "      <td>Home Appliances</td>\n",
       "      <td>1141256664</td>\n",
       "    </tr>\n",
       "    <tr>\n",
       "      <th>107</th>\n",
       "      <td>107</td>\n",
       "      <td>Philips AirFryer HD9218/51หม้อทอดไร้น้ำมัน หม้...</td>\n",
       "      <td>5490.0</td>\n",
       "      <td>7990.0</td>\n",
       "      <td>-0.31</td>\n",
       "      <td>ซื้อขั้นต่ำ ฿999.00</td>\n",
       "      <td>warranty</td>\n",
       "      <td>0.94</td>\n",
       "      <td>0.96</td>\n",
       "      <td>99%</td>\n",
       "      <td>...</td>\n",
       "      <td>Philips</td>\n",
       "      <td>4.8</td>\n",
       "      <td>1002.0</td>\n",
       "      <td>96.0</td>\n",
       "      <td>18.0</td>\n",
       "      <td>4.0</td>\n",
       "      <td>19.0</td>\n",
       "      <td>Delivered by Seller</td>\n",
       "      <td>Philips</td>\n",
       "      <td>100988687</td>\n",
       "    </tr>\n",
       "    <tr>\n",
       "      <th>115</th>\n",
       "      <td>115</td>\n",
       "      <td>Haier หม้อทอดไร้น้ำมัน ความจุ 2.5 ลิตร รุ่น HA...</td>\n",
       "      <td>1590.0</td>\n",
       "      <td>3990.0</td>\n",
       "      <td>-0.60</td>\n",
       "      <td>NaN</td>\n",
       "      <td>warranty</td>\n",
       "      <td>0.91</td>\n",
       "      <td>0.94</td>\n",
       "      <td>89%</td>\n",
       "      <td>...</td>\n",
       "      <td>Haier</td>\n",
       "      <td>4.8</td>\n",
       "      <td>3092.0</td>\n",
       "      <td>248.0</td>\n",
       "      <td>47.0</td>\n",
       "      <td>15.0</td>\n",
       "      <td>41.0</td>\n",
       "      <td>ดำเนินการโดยลาซาด้า</td>\n",
       "      <td>ไฮเออร์</td>\n",
       "      <td>281320867</td>\n",
       "    </tr>\n",
       "    <tr>\n",
       "      <th>119</th>\n",
       "      <td>119</td>\n",
       "      <td>Smarthome หม้อทอดไร้น้ำมัน ขนาด 2.0 ลิตร รุ่น ...</td>\n",
       "      <td>890.0</td>\n",
       "      <td>2990.0</td>\n",
       "      <td>-0.70</td>\n",
       "      <td>NaN</td>\n",
       "      <td>warranty</td>\n",
       "      <td>0.93</td>\n",
       "      <td>0.9</td>\n",
       "      <td>NaN</td>\n",
       "      <td>...</td>\n",
       "      <td>Smarthome</td>\n",
       "      <td>4.7</td>\n",
       "      <td>48.0</td>\n",
       "      <td>6.0</td>\n",
       "      <td>3.0</td>\n",
       "      <td>1.0</td>\n",
       "      <td>0.0</td>\n",
       "      <td>ดำเนินการโดยลาซาด้า</td>\n",
       "      <td>Home Appliances</td>\n",
       "      <td>1141242895</td>\n",
       "    </tr>\n",
       "    <tr>\n",
       "      <th>138</th>\n",
       "      <td>138</td>\n",
       "      <td>Philips Airfryer หม้อทอดไร้น้ำมัน หม้อทอดอากาศ...</td>\n",
       "      <td>5294.0</td>\n",
       "      <td>7990.0</td>\n",
       "      <td>-0.34</td>\n",
       "      <td>NaN</td>\n",
       "      <td>warranty</td>\n",
       "      <td>0.95</td>\n",
       "      <td>0.91</td>\n",
       "      <td>100%</td>\n",
       "      <td>...</td>\n",
       "      <td>Philips</td>\n",
       "      <td>4.9</td>\n",
       "      <td>438.0</td>\n",
       "      <td>33.0</td>\n",
       "      <td>7.0</td>\n",
       "      <td>0.0</td>\n",
       "      <td>3.0</td>\n",
       "      <td>ดำเนินการโดยลาซาด้า</td>\n",
       "      <td>ฟิลิปส์</td>\n",
       "      <td>861362296</td>\n",
       "    </tr>\n",
       "    <tr>\n",
       "      <th>141</th>\n",
       "      <td>141</td>\n",
       "      <td>Philips Airfryer หม้อทอดอากาศ หม้อทอดไร้น้ำมัน...</td>\n",
       "      <td>9990.0</td>\n",
       "      <td>11990.0</td>\n",
       "      <td>-0.17</td>\n",
       "      <td>ซื้อขั้นต่ำ ฿999.00</td>\n",
       "      <td>warranty</td>\n",
       "      <td>0.94</td>\n",
       "      <td>0.96</td>\n",
       "      <td>99%</td>\n",
       "      <td>...</td>\n",
       "      <td>Philips</td>\n",
       "      <td>4.7</td>\n",
       "      <td>255.0</td>\n",
       "      <td>51.0</td>\n",
       "      <td>14.0</td>\n",
       "      <td>2.0</td>\n",
       "      <td>1.0</td>\n",
       "      <td>Delivered by Seller</td>\n",
       "      <td>Philips</td>\n",
       "      <td>100988690</td>\n",
       "    </tr>\n",
       "    <tr>\n",
       "      <th>147</th>\n",
       "      <td>147</td>\n",
       "      <td>OTTO หม้อทอดไร้น้ำมัน รุ่น CO-725 (สีดำ)</td>\n",
       "      <td>1120.0</td>\n",
       "      <td>2600.0</td>\n",
       "      <td>-0.57</td>\n",
       "      <td>ซื้อขั้นต่ำ  ฿1,000.00  รับส่วนลดสูงสุด  ฿200.00</td>\n",
       "      <td>warranty</td>\n",
       "      <td>0.90</td>\n",
       "      <td>0.96</td>\n",
       "      <td>NaN</td>\n",
       "      <td>...</td>\n",
       "      <td>Otto</td>\n",
       "      <td>4.7</td>\n",
       "      <td>412.0</td>\n",
       "      <td>39.0</td>\n",
       "      <td>14.0</td>\n",
       "      <td>7.0</td>\n",
       "      <td>19.0</td>\n",
       "      <td>ดำเนินการโดยลาซาด้า</td>\n",
       "      <td>OTTO</td>\n",
       "      <td>349970011</td>\n",
       "    </tr>\n",
       "    <tr>\n",
       "      <th>151</th>\n",
       "      <td>151</td>\n",
       "      <td>Philips Airfryer Twin TurboStar หม้อทอดไร้น้ำม...</td>\n",
       "      <td>10990.0</td>\n",
       "      <td>11990.0</td>\n",
       "      <td>-0.08</td>\n",
       "      <td>NaN</td>\n",
       "      <td>warranty</td>\n",
       "      <td>0.95</td>\n",
       "      <td>0.91</td>\n",
       "      <td>100%</td>\n",
       "      <td>...</td>\n",
       "      <td>Philips</td>\n",
       "      <td>4.9</td>\n",
       "      <td>56.0</td>\n",
       "      <td>2.0</td>\n",
       "      <td>0.0</td>\n",
       "      <td>1.0</td>\n",
       "      <td>0.0</td>\n",
       "      <td>ดำเนินการโดยลาซาด้า</td>\n",
       "      <td>ฟิลิปส์</td>\n",
       "      <td>861354374</td>\n",
       "    </tr>\n",
       "    <tr>\n",
       "      <th>161</th>\n",
       "      <td>161</td>\n",
       "      <td>Smarthome หม้อทอดไร้น้ำมัน ขนาด 2.0 ลิตร รุ่น ...</td>\n",
       "      <td>950.0</td>\n",
       "      <td>2990.0</td>\n",
       "      <td>-0.68</td>\n",
       "      <td>NaN</td>\n",
       "      <td>warranty</td>\n",
       "      <td>0.93</td>\n",
       "      <td>0.9</td>\n",
       "      <td>NaN</td>\n",
       "      <td>...</td>\n",
       "      <td>Smarthome</td>\n",
       "      <td>4.9</td>\n",
       "      <td>340.0</td>\n",
       "      <td>29.0</td>\n",
       "      <td>5.0</td>\n",
       "      <td>2.0</td>\n",
       "      <td>2.0</td>\n",
       "      <td>ดำเนินการโดยลาซาด้า</td>\n",
       "      <td>Home Appliances</td>\n",
       "      <td>1039294115</td>\n",
       "    </tr>\n",
       "    <tr>\n",
       "      <th>163</th>\n",
       "      <td>163</td>\n",
       "      <td>Smarthome หม้อทอดไร้น้ำมัน ความจุ 3.5 ลิตร รุ่...</td>\n",
       "      <td>1590.0</td>\n",
       "      <td>3990.0</td>\n",
       "      <td>-0.60</td>\n",
       "      <td>NaN</td>\n",
       "      <td>warranty</td>\n",
       "      <td>0.93</td>\n",
       "      <td>0.9</td>\n",
       "      <td>NaN</td>\n",
       "      <td>...</td>\n",
       "      <td>Smarthome</td>\n",
       "      <td>5.0</td>\n",
       "      <td>19.0</td>\n",
       "      <td>0.0</td>\n",
       "      <td>0.0</td>\n",
       "      <td>0.0</td>\n",
       "      <td>0.0</td>\n",
       "      <td>ดำเนินการโดยลาซาด้า</td>\n",
       "      <td>Home Appliances</td>\n",
       "      <td>1141298049</td>\n",
       "    </tr>\n",
       "    <tr>\n",
       "      <th>165</th>\n",
       "      <td>165</td>\n",
       "      <td>Smarthome หม้อทอดไร้น้ำมัน ขนาด 3.0 ลิตร รุ่น ...</td>\n",
       "      <td>1040.0</td>\n",
       "      <td>2990.0</td>\n",
       "      <td>-0.65</td>\n",
       "      <td>NaN</td>\n",
       "      <td>warranty</td>\n",
       "      <td>0.93</td>\n",
       "      <td>0.9</td>\n",
       "      <td>NaN</td>\n",
       "      <td>...</td>\n",
       "      <td>Smarthome</td>\n",
       "      <td>4.7</td>\n",
       "      <td>13.0</td>\n",
       "      <td>0.0</td>\n",
       "      <td>0.0</td>\n",
       "      <td>0.0</td>\n",
       "      <td>1.0</td>\n",
       "      <td>ดำเนินการโดยลาซาด้า</td>\n",
       "      <td>Home Appliances</td>\n",
       "      <td>1224214129</td>\n",
       "    </tr>\n",
       "    <tr>\n",
       "      <th>171</th>\n",
       "      <td>171</td>\n",
       "      <td>Smarthome หม้อทอดไร้น้ำมัน ขนาด 4.5 ลิตร รุ่น ...</td>\n",
       "      <td>1990.0</td>\n",
       "      <td>3990.0</td>\n",
       "      <td>-0.50</td>\n",
       "      <td>NaN</td>\n",
       "      <td>warranty</td>\n",
       "      <td>0.93</td>\n",
       "      <td>0.9</td>\n",
       "      <td>NaN</td>\n",
       "      <td>...</td>\n",
       "      <td>Smarthome</td>\n",
       "      <td>5.0</td>\n",
       "      <td>1.0</td>\n",
       "      <td>0.0</td>\n",
       "      <td>0.0</td>\n",
       "      <td>0.0</td>\n",
       "      <td>0.0</td>\n",
       "      <td>ดำเนินการโดยลาซาด้า</td>\n",
       "      <td>Home Appliances</td>\n",
       "      <td>1224212153</td>\n",
       "    </tr>\n",
       "    <tr>\n",
       "      <th>216</th>\n",
       "      <td>216</td>\n",
       "      <td>【จัดส่งฟรี】 1700W 10L ทอดอากาศเตาอบฟรีไขมันต่ำ...</td>\n",
       "      <td>3266.0</td>\n",
       "      <td>6598.0</td>\n",
       "      <td>-0.51</td>\n",
       "      <td>ซื้อขั้นต่ำ ฿449.00</td>\n",
       "      <td>no_warranty</td>\n",
       "      <td>0.82</td>\n",
       "      <td>0.98</td>\n",
       "      <td>100%</td>\n",
       "      <td>...</td>\n",
       "      <td>No Brand</td>\n",
       "      <td>4.8</td>\n",
       "      <td>8.0</td>\n",
       "      <td>0.0</td>\n",
       "      <td>1.0</td>\n",
       "      <td>0.0</td>\n",
       "      <td>0.0</td>\n",
       "      <td>ส่งจากต่างประเทศ</td>\n",
       "      <td>Audew</td>\n",
       "      <td>943402756</td>\n",
       "    </tr>\n",
       "    <tr>\n",
       "      <th>229</th>\n",
       "      <td>229</td>\n",
       "      <td>มัลติฟังก์ชั่นอากาศทอดเตาอบสแตนเลส 10 ลิตร 170...</td>\n",
       "      <td>3138.0</td>\n",
       "      <td>6666.0</td>\n",
       "      <td>-0.53</td>\n",
       "      <td>ซื้อขั้นต่ำ ฿199.00</td>\n",
       "      <td>no_warranty</td>\n",
       "      <td>0.80</td>\n",
       "      <td>0.99</td>\n",
       "      <td>99%</td>\n",
       "      <td>...</td>\n",
       "      <td>No Brand</td>\n",
       "      <td>3.8</td>\n",
       "      <td>2.0</td>\n",
       "      <td>2.0</td>\n",
       "      <td>0.0</td>\n",
       "      <td>0.0</td>\n",
       "      <td>1.0</td>\n",
       "      <td>ส่งจากต่างประเทศ</td>\n",
       "      <td>AutoLeader</td>\n",
       "      <td>943440518</td>\n",
       "    </tr>\n",
       "    <tr>\n",
       "      <th>247</th>\n",
       "      <td>247</td>\n",
       "      <td>Haier หม้อทอดไร้น้ำมัน AirBoost ความจุ 4 ลิตร ...</td>\n",
       "      <td>3290.0</td>\n",
       "      <td>3990.0</td>\n",
       "      <td>-0.18</td>\n",
       "      <td>NaN</td>\n",
       "      <td>warranty</td>\n",
       "      <td>0.91</td>\n",
       "      <td>0.94</td>\n",
       "      <td>89%</td>\n",
       "      <td>...</td>\n",
       "      <td>Haier</td>\n",
       "      <td>4.7</td>\n",
       "      <td>26.0</td>\n",
       "      <td>5.0</td>\n",
       "      <td>1.0</td>\n",
       "      <td>0.0</td>\n",
       "      <td>1.0</td>\n",
       "      <td>ดำเนินการโดยลาซาด้า</td>\n",
       "      <td>ไฮเออร์</td>\n",
       "      <td>1047798222</td>\n",
       "    </tr>\n",
       "    <tr>\n",
       "      <th>256</th>\n",
       "      <td>256</td>\n",
       "      <td>5 ชิ้น/เซ็ตหม้อทอด Air fryer ทอด CAGE จานถาดอบ...</td>\n",
       "      <td>380.0</td>\n",
       "      <td>720.0</td>\n",
       "      <td>-0.47</td>\n",
       "      <td>ซื้อขั้นต่ำ ฿449.00</td>\n",
       "      <td>no_warranty</td>\n",
       "      <td>0.84</td>\n",
       "      <td>0.99</td>\n",
       "      <td>100%</td>\n",
       "      <td>...</td>\n",
       "      <td>No Brand</td>\n",
       "      <td>4.7</td>\n",
       "      <td>16.0</td>\n",
       "      <td>4.0</td>\n",
       "      <td>1.0</td>\n",
       "      <td>0.0</td>\n",
       "      <td>0.0</td>\n",
       "      <td>ส่งจากต่างประเทศ</td>\n",
       "      <td>Surmounter</td>\n",
       "      <td>289316957</td>\n",
       "    </tr>\n",
       "    <tr>\n",
       "      <th>280</th>\n",
       "      <td>280</td>\n",
       "      <td>FSความจุขนาดใหญ่จอแอลซีดีทอดอากาศอัตโนมัติฟรีส...</td>\n",
       "      <td>2283.0</td>\n",
       "      <td>4169.0</td>\n",
       "      <td>-0.45</td>\n",
       "      <td>ซื้อขั้นต่ำ ฿500.00</td>\n",
       "      <td>no_warranty</td>\n",
       "      <td>0.95</td>\n",
       "      <td>0.99</td>\n",
       "      <td>81%</td>\n",
       "      <td>...</td>\n",
       "      <td>Oem</td>\n",
       "      <td>4.7</td>\n",
       "      <td>9.0</td>\n",
       "      <td>1.0</td>\n",
       "      <td>1.0</td>\n",
       "      <td>0.0</td>\n",
       "      <td>0.0</td>\n",
       "      <td>ส่งจากต่างประเทศ</td>\n",
       "      <td>Fiona Store</td>\n",
       "      <td>1049718714</td>\n",
       "    </tr>\n",
       "    <tr>\n",
       "      <th>287</th>\n",
       "      <td>287</td>\n",
       "      <td>Guo อากาศหม้อทอดไฟฟ้าอุปกรณ์โกลเด้นเค้กเบเกอรี...</td>\n",
       "      <td>615.0</td>\n",
       "      <td>923.0</td>\n",
       "      <td>-0.33</td>\n",
       "      <td>ซื้อขั้นต่ำ ฿849.00</td>\n",
       "      <td>no_warranty</td>\n",
       "      <td>0.89</td>\n",
       "      <td>0.97</td>\n",
       "      <td>100%</td>\n",
       "      <td>...</td>\n",
       "      <td>Rondaful</td>\n",
       "      <td>3.5</td>\n",
       "      <td>6.0</td>\n",
       "      <td>0.0</td>\n",
       "      <td>0.0</td>\n",
       "      <td>1.0</td>\n",
       "      <td>3.0</td>\n",
       "      <td>ส่งจากต่างประเทศ</td>\n",
       "      <td>Smar Store</td>\n",
       "      <td>525176227</td>\n",
       "    </tr>\n",
       "    <tr>\n",
       "      <th>298</th>\n",
       "      <td>298</td>\n",
       "      <td>5 ชิ้น / เซ็ตทอดอากาศทอดกรงจานถาดอบ R Ack พิซซ...</td>\n",
       "      <td>329.0</td>\n",
       "      <td>685.0</td>\n",
       "      <td>-0.52</td>\n",
       "      <td>ซื้อขั้นต่ำ ฿39.00</td>\n",
       "      <td>no_warranty</td>\n",
       "      <td>0.83</td>\n",
       "      <td>0.97</td>\n",
       "      <td>100%</td>\n",
       "      <td>...</td>\n",
       "      <td>No Brand</td>\n",
       "      <td>4.7</td>\n",
       "      <td>24.0</td>\n",
       "      <td>2.0</td>\n",
       "      <td>2.0</td>\n",
       "      <td>0.0</td>\n",
       "      <td>1.0</td>\n",
       "      <td>ส่งจากต่างประเทศ</td>\n",
       "      <td>Top Appliances</td>\n",
       "      <td>613142592</td>\n",
       "    </tr>\n",
       "    <tr>\n",
       "      <th>310</th>\n",
       "      <td>310</td>\n",
       "      <td>Xiaomi liven G-5 Oil-Free Air fryer 2.5L NO Oi...</td>\n",
       "      <td>2880.0</td>\n",
       "      <td>9744.0</td>\n",
       "      <td>-0.70</td>\n",
       "      <td>ซื้อขั้นต่ำ ฿800.00</td>\n",
       "      <td>no_warranty</td>\n",
       "      <td>0.92</td>\n",
       "      <td>0.98</td>\n",
       "      <td>98%</td>\n",
       "      <td>...</td>\n",
       "      <td>Xiaomi</td>\n",
       "      <td>4.8</td>\n",
       "      <td>3.0</td>\n",
       "      <td>1.0</td>\n",
       "      <td>0.0</td>\n",
       "      <td>0.0</td>\n",
       "      <td>0.0</td>\n",
       "      <td>ส่งจากต่างประเทศ</td>\n",
       "      <td>Xiao Mi Home</td>\n",
       "      <td>756634351</td>\n",
       "    </tr>\n",
       "    <tr>\n",
       "      <th>365</th>\n",
       "      <td>365</td>\n",
       "      <td>4.5Lเครื่องทอดอากาศในครัวเรือนปราศจากน้ำมันมัล...</td>\n",
       "      <td>1167.0</td>\n",
       "      <td>2334.0</td>\n",
       "      <td>-0.50</td>\n",
       "      <td>ซื้อขั้นต่ำ  ฿800.00  รับส่วนลดสูงสุด  ฿30.00</td>\n",
       "      <td>no_warranty</td>\n",
       "      <td>0.89</td>\n",
       "      <td>0.96</td>\n",
       "      <td>100%</td>\n",
       "      <td>...</td>\n",
       "      <td>No Brand</td>\n",
       "      <td>5.0</td>\n",
       "      <td>31.0</td>\n",
       "      <td>0.0</td>\n",
       "      <td>0.0</td>\n",
       "      <td>0.0</td>\n",
       "      <td>0.0</td>\n",
       "      <td>ส่งจากต่างประเทศ</td>\n",
       "      <td>A Tools</td>\n",
       "      <td>983892925</td>\n",
       "    </tr>\n",
       "    <tr>\n",
       "      <th>460</th>\n",
       "      <td>460</td>\n",
       "      <td>Air Fryer Electric Fryer Accessory Non-Stick B...</td>\n",
       "      <td>145.0</td>\n",
       "      <td>435.0</td>\n",
       "      <td>-0.67</td>\n",
       "      <td>ซื้อขั้นต่ำ ฿249.00</td>\n",
       "      <td>no_warranty</td>\n",
       "      <td>0.90</td>\n",
       "      <td>0.88</td>\n",
       "      <td>100%</td>\n",
       "      <td>...</td>\n",
       "      <td>No Brand</td>\n",
       "      <td>4.5</td>\n",
       "      <td>29.0</td>\n",
       "      <td>6.0</td>\n",
       "      <td>6.0</td>\n",
       "      <td>0.0</td>\n",
       "      <td>1.0</td>\n",
       "      <td>ส่งจากต่างประเทศ</td>\n",
       "      <td>Dinner Aesthetics</td>\n",
       "      <td>487986995</td>\n",
       "    </tr>\n",
       "    <tr>\n",
       "      <th>470</th>\n",
       "      <td>470</td>\n",
       "      <td>1700 วัตต์ 10L 220 หม้อทอดไร้มัน โวลต์มัลติฟัง...</td>\n",
       "      <td>3164.0</td>\n",
       "      <td>6490.0</td>\n",
       "      <td>-0.51</td>\n",
       "      <td>ซื้อขั้นต่ำ ฿199.00</td>\n",
       "      <td>no_warranty</td>\n",
       "      <td>0.89</td>\n",
       "      <td>1</td>\n",
       "      <td>100%</td>\n",
       "      <td>...</td>\n",
       "      <td>No Brand</td>\n",
       "      <td>5.0</td>\n",
       "      <td>1.0</td>\n",
       "      <td>0.0</td>\n",
       "      <td>0.0</td>\n",
       "      <td>0.0</td>\n",
       "      <td>0.0</td>\n",
       "      <td>ส่งจากต่างประเทศ</td>\n",
       "      <td>Freedom House</td>\n",
       "      <td>1014762285</td>\n",
       "    </tr>\n",
       "    <tr>\n",
       "      <th>502</th>\n",
       "      <td>2</td>\n",
       "      <td>Philips Airfryer Twin TurboStar หม้อทอดไร้น้ำม...</td>\n",
       "      <td>7990.0</td>\n",
       "      <td>8990.0</td>\n",
       "      <td>-0.11</td>\n",
       "      <td>NaN</td>\n",
       "      <td>warranty</td>\n",
       "      <td>0.95</td>\n",
       "      <td>91%</td>\n",
       "      <td>100%</td>\n",
       "      <td>...</td>\n",
       "      <td>Philips</td>\n",
       "      <td>4.9</td>\n",
       "      <td>28.0</td>\n",
       "      <td>1.0</td>\n",
       "      <td>0.0</td>\n",
       "      <td>1.0</td>\n",
       "      <td>0.0</td>\n",
       "      <td>ดำเนินการโดยลาซาด้า</td>\n",
       "      <td>ฟิลิปส์</td>\n",
       "      <td>861376111</td>\n",
       "    </tr>\n",
       "    <tr>\n",
       "      <th>509</th>\n",
       "      <td>9</td>\n",
       "      <td>5 ชิ้น/เซ็ตทอดอากาศทอดกรงจานถาดอบชั้นวางพิซซ่า...</td>\n",
       "      <td>391.0</td>\n",
       "      <td>764.0</td>\n",
       "      <td>-0.49</td>\n",
       "      <td>ซื้อ2ลด2%; ซื้อ3ลด3%; ซื้อ5ลด5%</td>\n",
       "      <td>no_warranty</td>\n",
       "      <td>0.85</td>\n",
       "      <td>99%</td>\n",
       "      <td>100%</td>\n",
       "      <td>...</td>\n",
       "      <td>No Brand</td>\n",
       "      <td>5.0</td>\n",
       "      <td>15.0</td>\n",
       "      <td>0.0</td>\n",
       "      <td>0.0</td>\n",
       "      <td>0.0</td>\n",
       "      <td>0.0</td>\n",
       "      <td>ส่งจากต่างประเทศ</td>\n",
       "      <td>SuperBang</td>\n",
       "      <td>289466431</td>\n",
       "    </tr>\n",
       "    <tr>\n",
       "      <th>558</th>\n",
       "      <td>58</td>\n",
       "      <td>【สั่งซื้อล่วงหน้ามาถึงใน 15-20 วัน!!】มัลติฟังก...</td>\n",
       "      <td>1696.0</td>\n",
       "      <td>3305.0</td>\n",
       "      <td>-0.49</td>\n",
       "      <td>ซื้อขั้นต่ำ ฿2,300.00</td>\n",
       "      <td>no_warranty</td>\n",
       "      <td>0.92</td>\n",
       "      <td>73%</td>\n",
       "      <td>94%</td>\n",
       "      <td>...</td>\n",
       "      <td>Oem</td>\n",
       "      <td>0.0</td>\n",
       "      <td>0.0</td>\n",
       "      <td>0.0</td>\n",
       "      <td>0.0</td>\n",
       "      <td>0.0</td>\n",
       "      <td>0.0</td>\n",
       "      <td>Delivered by Seller</td>\n",
       "      <td>TH PUDDING</td>\n",
       "      <td>962562371</td>\n",
       "    </tr>\n",
       "    <tr>\n",
       "      <th>577</th>\n",
       "      <td>77</td>\n",
       "      <td>FS Air Fryer 4Lความจุขนาดใหญ่อัจฉริยะปราศจากน้...</td>\n",
       "      <td>1277.0</td>\n",
       "      <td>2200.0</td>\n",
       "      <td>-0.42</td>\n",
       "      <td>ซื้อขั้นต่ำ ฿500.00</td>\n",
       "      <td>no_warranty</td>\n",
       "      <td>0.95</td>\n",
       "      <td>99%</td>\n",
       "      <td>81%</td>\n",
       "      <td>...</td>\n",
       "      <td>Oem</td>\n",
       "      <td>5.0</td>\n",
       "      <td>22.0</td>\n",
       "      <td>0.0</td>\n",
       "      <td>0.0</td>\n",
       "      <td>0.0</td>\n",
       "      <td>0.0</td>\n",
       "      <td>ส่งจากต่างประเทศ</td>\n",
       "      <td>Fiona Store</td>\n",
       "      <td>1049952318</td>\n",
       "    </tr>\n",
       "    <tr>\n",
       "      <th>587</th>\n",
       "      <td>87</td>\n",
       "      <td>FS เครื่องทอดอากาศความจุขนาดใหญ่ในครัวเรือนอัจ...</td>\n",
       "      <td>960.0</td>\n",
       "      <td>1800.0</td>\n",
       "      <td>-0.47</td>\n",
       "      <td>ซื้อขั้นต่ำ ฿500.00</td>\n",
       "      <td>no_warranty</td>\n",
       "      <td>0.95</td>\n",
       "      <td>99%</td>\n",
       "      <td>81%</td>\n",
       "      <td>...</td>\n",
       "      <td>Oem</td>\n",
       "      <td>4.3</td>\n",
       "      <td>5.0</td>\n",
       "      <td>1.0</td>\n",
       "      <td>0.0</td>\n",
       "      <td>0.0</td>\n",
       "      <td>1.0</td>\n",
       "      <td>ส่งจากต่างประเทศ</td>\n",
       "      <td>Fiona Store</td>\n",
       "      <td>1020370819</td>\n",
       "    </tr>\n",
       "    <tr>\n",
       "      <th>647</th>\n",
       "      <td>147</td>\n",
       "      <td>Air Fryer Accessories, Air Fryer Accessories a...</td>\n",
       "      <td>473.0</td>\n",
       "      <td>1419.0</td>\n",
       "      <td>-0.67</td>\n",
       "      <td>NaN</td>\n",
       "      <td>no_warranty</td>\n",
       "      <td>0.90</td>\n",
       "      <td>95%</td>\n",
       "      <td>100%</td>\n",
       "      <td>...</td>\n",
       "      <td>No Brand</td>\n",
       "      <td>4.9</td>\n",
       "      <td>11.0</td>\n",
       "      <td>1.0</td>\n",
       "      <td>0.0</td>\n",
       "      <td>0.0</td>\n",
       "      <td>0.0</td>\n",
       "      <td>ส่งจากต่างประเทศ</td>\n",
       "      <td>Fantasy space</td>\n",
       "      <td>513340887</td>\n",
       "    </tr>\n",
       "    <tr>\n",
       "      <th>656</th>\n",
       "      <td>156</td>\n",
       "      <td>Joyoung KL20-J71 หม้อทอดไร้น้ำมันไฟฟ้า สีพาสเท...</td>\n",
       "      <td>1799.0</td>\n",
       "      <td>2599.0</td>\n",
       "      <td>-0.31</td>\n",
       "      <td>NaN</td>\n",
       "      <td>warranty</td>\n",
       "      <td>0.91</td>\n",
       "      <td>100%</td>\n",
       "      <td>40%</td>\n",
       "      <td>...</td>\n",
       "      <td>Joyoung</td>\n",
       "      <td>4.9</td>\n",
       "      <td>17.0</td>\n",
       "      <td>1.0</td>\n",
       "      <td>0.0</td>\n",
       "      <td>0.0</td>\n",
       "      <td>0.0</td>\n",
       "      <td>ดำเนินการโดยลาซาด้า</td>\n",
       "      <td>I Digital Store</td>\n",
       "      <td>526206404</td>\n",
       "    </tr>\n",
       "    <tr>\n",
       "      <th>665</th>\n",
       "      <td>165</td>\n",
       "      <td>【จัดส่งฟรี + ทั่วโลก】มัลติฟังก์ชั่นเตาอบทอดอาก...</td>\n",
       "      <td>3306.0</td>\n",
       "      <td>6613.0</td>\n",
       "      <td>-0.50</td>\n",
       "      <td>ซื้อขั้นต่ำ ฿449.00</td>\n",
       "      <td>no_warranty</td>\n",
       "      <td>0.82</td>\n",
       "      <td>98%</td>\n",
       "      <td>100%</td>\n",
       "      <td>...</td>\n",
       "      <td>No Brand</td>\n",
       "      <td>5.0</td>\n",
       "      <td>2.0</td>\n",
       "      <td>0.0</td>\n",
       "      <td>0.0</td>\n",
       "      <td>0.0</td>\n",
       "      <td>0.0</td>\n",
       "      <td>ส่งจากต่างประเทศ</td>\n",
       "      <td>Audew</td>\n",
       "      <td>943432195</td>\n",
       "    </tr>\n",
       "    <tr>\n",
       "      <th>666</th>\n",
       "      <td>166</td>\n",
       "      <td>ทอดอากาศหม้อทอดไฟฟ้าอุปกรณ์เสริมไม่ติดจานอบย่า...</td>\n",
       "      <td>771.0</td>\n",
       "      <td>907.0</td>\n",
       "      <td>-0.15</td>\n",
       "      <td>ซื้อขั้นต่ำ ฿650.00</td>\n",
       "      <td>no_warranty</td>\n",
       "      <td>NaN</td>\n",
       "      <td>ข้อมูลไม่เพียงพอ</td>\n",
       "      <td>100%</td>\n",
       "      <td>...</td>\n",
       "      <td>Oem</td>\n",
       "      <td>0.0</td>\n",
       "      <td>0.0</td>\n",
       "      <td>0.0</td>\n",
       "      <td>0.0</td>\n",
       "      <td>0.0</td>\n",
       "      <td>0.0</td>\n",
       "      <td>ส่งจากต่างประเทศ</td>\n",
       "      <td>DaLianTongBoFuZhuang</td>\n",
       "      <td>1174140755</td>\n",
       "    </tr>\n",
       "    <tr>\n",
       "      <th>667</th>\n",
       "      <td>167</td>\n",
       "      <td>【สั่งซื้อล่วงหน้ามาถึงใน 15-20 วัน!!】เครื่องทอ...</td>\n",
       "      <td>1320.0</td>\n",
       "      <td>2598.0</td>\n",
       "      <td>-0.49</td>\n",
       "      <td>ซื้อขั้นต่ำ ฿2,300.00</td>\n",
       "      <td>no_warranty</td>\n",
       "      <td>0.92</td>\n",
       "      <td>73%</td>\n",
       "      <td>94%</td>\n",
       "      <td>...</td>\n",
       "      <td>Oem</td>\n",
       "      <td>5.0</td>\n",
       "      <td>11.0</td>\n",
       "      <td>0.0</td>\n",
       "      <td>0.0</td>\n",
       "      <td>0.0</td>\n",
       "      <td>0.0</td>\n",
       "      <td>Delivered by Seller</td>\n",
       "      <td>TH PUDDING</td>\n",
       "      <td>962524944</td>\n",
       "    </tr>\n",
       "    <tr>\n",
       "      <th>711</th>\n",
       "      <td>211</td>\n",
       "      <td>7in สากล 12 ชิ้นทอดอากาศร้อนชุดที่มีเค้กถ้วยเค...</td>\n",
       "      <td>498.0</td>\n",
       "      <td>1028.0</td>\n",
       "      <td>-0.52</td>\n",
       "      <td>ซื้อขั้นต่ำ ฿300.00</td>\n",
       "      <td>no_warranty</td>\n",
       "      <td>0.89</td>\n",
       "      <td>97%</td>\n",
       "      <td>100%</td>\n",
       "      <td>...</td>\n",
       "      <td>Oem</td>\n",
       "      <td>5.0</td>\n",
       "      <td>1.0</td>\n",
       "      <td>0.0</td>\n",
       "      <td>0.0</td>\n",
       "      <td>0.0</td>\n",
       "      <td>0.0</td>\n",
       "      <td>ส่งจากต่างประเทศ</td>\n",
       "      <td>Yeiii</td>\n",
       "      <td>1115394336</td>\n",
       "    </tr>\n",
       "    <tr>\n",
       "      <th>713</th>\n",
       "      <td>213</td>\n",
       "      <td>Riino Air Fryer Ovenความจุขนาดใหญ่พร้อมฟังก์ชั...</td>\n",
       "      <td>6065.0</td>\n",
       "      <td>7502.0</td>\n",
       "      <td>-0.19</td>\n",
       "      <td>ซื้อขั้นต่ำ ฿700.00</td>\n",
       "      <td>no_warranty</td>\n",
       "      <td>NaN</td>\n",
       "      <td>ข้อมูลไม่เพียงพอ</td>\n",
       "      <td>ข้อมูลไม่เพียงพอ</td>\n",
       "      <td>...</td>\n",
       "      <td>Oem</td>\n",
       "      <td>0.0</td>\n",
       "      <td>0.0</td>\n",
       "      <td>0.0</td>\n",
       "      <td>0.0</td>\n",
       "      <td>0.0</td>\n",
       "      <td>0.0</td>\n",
       "      <td>ส่งจากต่างประเทศ</td>\n",
       "      <td>yaolis</td>\n",
       "      <td>1260052121</td>\n",
       "    </tr>\n",
       "    <tr>\n",
       "      <th>721</th>\n",
       "      <td>221</td>\n",
       "      <td>[Rmco South City self collect] Haier 10L 2in1 ...</td>\n",
       "      <td>6592.0</td>\n",
       "      <td>8505.0</td>\n",
       "      <td>-0.22</td>\n",
       "      <td>NaN</td>\n",
       "      <td>no_warranty</td>\n",
       "      <td>NaN</td>\n",
       "      <td>ข้อมูลไม่เพียงพอ</td>\n",
       "      <td>ข้อมูลไม่เพียงพอ</td>\n",
       "      <td>...</td>\n",
       "      <td>Oem</td>\n",
       "      <td>0.0</td>\n",
       "      <td>0.0</td>\n",
       "      <td>0.0</td>\n",
       "      <td>0.0</td>\n",
       "      <td>0.0</td>\n",
       "      <td>0.0</td>\n",
       "      <td>ส่งจากต่างประเทศ</td>\n",
       "      <td>Shop5782371 Store</td>\n",
       "      <td>1165282123</td>\n",
       "    </tr>\n",
       "    <tr>\n",
       "      <th>735</th>\n",
       "      <td>235</td>\n",
       "      <td>KHIND MULTI AIR FRYER OVEN ARF9500 ARF-9500</td>\n",
       "      <td>6443.0</td>\n",
       "      <td>7829.0</td>\n",
       "      <td>-0.18</td>\n",
       "      <td>ซื้อขั้นต่ำ ฿700.00</td>\n",
       "      <td>no_warranty</td>\n",
       "      <td>NaN</td>\n",
       "      <td>ข้อมูลไม่เพียงพอ</td>\n",
       "      <td>ข้อมูลไม่เพียงพอ</td>\n",
       "      <td>...</td>\n",
       "      <td>Oem</td>\n",
       "      <td>0.0</td>\n",
       "      <td>0.0</td>\n",
       "      <td>0.0</td>\n",
       "      <td>0.0</td>\n",
       "      <td>0.0</td>\n",
       "      <td>0.0</td>\n",
       "      <td>ส่งจากต่างประเทศ</td>\n",
       "      <td>yaolis</td>\n",
       "      <td>1308056599</td>\n",
       "    </tr>\n",
       "    <tr>\n",
       "      <th>755</th>\n",
       "      <td>255</td>\n",
       "      <td>Khind Air fryer oven ARF-9500</td>\n",
       "      <td>5205.0</td>\n",
       "      <td>6703.0</td>\n",
       "      <td>-0.22</td>\n",
       "      <td>NaN</td>\n",
       "      <td>no_warranty</td>\n",
       "      <td>NaN</td>\n",
       "      <td>ข้อมูลไม่เพียงพอ</td>\n",
       "      <td>ข้อมูลไม่เพียงพอ</td>\n",
       "      <td>...</td>\n",
       "      <td>Oem</td>\n",
       "      <td>0.0</td>\n",
       "      <td>0.0</td>\n",
       "      <td>0.0</td>\n",
       "      <td>0.0</td>\n",
       "      <td>0.0</td>\n",
       "      <td>0.0</td>\n",
       "      <td>ส่งจากต่างประเทศ</td>\n",
       "      <td>Shop5782371 Store</td>\n",
       "      <td>1165236816</td>\n",
       "    </tr>\n",
       "    <tr>\n",
       "      <th>787</th>\n",
       "      <td>287</td>\n",
       "      <td>มัลติฟังก์ชั่ 1700 วัตต์ 10L อากาศทอดเตาอบฟรีไ...</td>\n",
       "      <td>3278.0</td>\n",
       "      <td>5573.0</td>\n",
       "      <td>-0.41</td>\n",
       "      <td>ซื้อขั้นต่ำ ฿199.00</td>\n",
       "      <td>no_warranty</td>\n",
       "      <td>0.78</td>\n",
       "      <td>98%</td>\n",
       "      <td>100%</td>\n",
       "      <td>...</td>\n",
       "      <td>No Brand</td>\n",
       "      <td>5.0</td>\n",
       "      <td>1.0</td>\n",
       "      <td>0.0</td>\n",
       "      <td>0.0</td>\n",
       "      <td>0.0</td>\n",
       "      <td>0.0</td>\n",
       "      <td>ส่งจากต่างประเทศ</td>\n",
       "      <td>Houseful Mall</td>\n",
       "      <td>1014848362</td>\n",
       "    </tr>\n",
       "    <tr>\n",
       "      <th>808</th>\n",
       "      <td>308</td>\n",
       "      <td>เครื่องทอดอากาศบ้านความจุขนาดใหญ่Pivotableย้อน...</td>\n",
       "      <td>7810.0</td>\n",
       "      <td>9241.0</td>\n",
       "      <td>-0.15</td>\n",
       "      <td>ซื้อขั้นต่ำ ฿500.00</td>\n",
       "      <td>no_warranty</td>\n",
       "      <td>NaN</td>\n",
       "      <td>66%</td>\n",
       "      <td>ข้อมูลไม่เพียงพอ</td>\n",
       "      <td>...</td>\n",
       "      <td>Oem</td>\n",
       "      <td>0.0</td>\n",
       "      <td>0.0</td>\n",
       "      <td>0.0</td>\n",
       "      <td>0.0</td>\n",
       "      <td>0.0</td>\n",
       "      <td>0.0</td>\n",
       "      <td>ส่งจากต่างประเทศ</td>\n",
       "      <td>fuzou</td>\n",
       "      <td>1330730929</td>\n",
       "    </tr>\n",
       "    <tr>\n",
       "      <th>840</th>\n",
       "      <td>340</td>\n",
       "      <td>หม้อทอดอากาศ 5 ชิ้น/เซ็ต 6 ''ทอดอากาศทอดกรงจาน...</td>\n",
       "      <td>299.0</td>\n",
       "      <td>478.0</td>\n",
       "      <td>-0.37</td>\n",
       "      <td>ซื้อขั้นต่ำ ฿399.00</td>\n",
       "      <td>no_warranty</td>\n",
       "      <td>0.80</td>\n",
       "      <td>97%</td>\n",
       "      <td>100%</td>\n",
       "      <td>...</td>\n",
       "      <td>No Brand</td>\n",
       "      <td>4.6</td>\n",
       "      <td>64.0</td>\n",
       "      <td>19.0</td>\n",
       "      <td>5.0</td>\n",
       "      <td>2.0</td>\n",
       "      <td>0.0</td>\n",
       "      <td>ส่งจากต่างประเทศ</td>\n",
       "      <td>WarmRoom</td>\n",
       "      <td>285468538</td>\n",
       "    </tr>\n",
       "    <tr>\n",
       "      <th>884</th>\n",
       "      <td>384</td>\n",
       "      <td>หม้อทอดไฟฟ้า Non-Stick Baking อุปกรณ์เสริมสำหร...</td>\n",
       "      <td>235.0</td>\n",
       "      <td>430.0</td>\n",
       "      <td>-0.45</td>\n",
       "      <td>ซื้อขั้นต่ำ ฿180.00</td>\n",
       "      <td>no_warranty</td>\n",
       "      <td>0.87</td>\n",
       "      <td>96%</td>\n",
       "      <td>100%</td>\n",
       "      <td>...</td>\n",
       "      <td>Oem</td>\n",
       "      <td>4.5</td>\n",
       "      <td>49.0</td>\n",
       "      <td>0.0</td>\n",
       "      <td>2.0</td>\n",
       "      <td>1.0</td>\n",
       "      <td>5.0</td>\n",
       "      <td>ส่งจากต่างประเทศ</td>\n",
       "      <td>Fashionable life02</td>\n",
       "      <td>633830081</td>\n",
       "    </tr>\n",
       "    <tr>\n",
       "      <th>906</th>\n",
       "      <td>406</td>\n",
       "      <td>7in สากล 12 ชิ้นทอดอากาศร้อนชุดที่มีเค้กถ้วยเค...</td>\n",
       "      <td>471.0</td>\n",
       "      <td>1012.0</td>\n",
       "      <td>-0.53</td>\n",
       "      <td>ซื้อขั้นต่ำ  ฿400.00  รับส่วนลดสูงสุด  ฿20.00</td>\n",
       "      <td>no_warranty</td>\n",
       "      <td>0.85</td>\n",
       "      <td>97%</td>\n",
       "      <td>97%</td>\n",
       "      <td>...</td>\n",
       "      <td>Oem</td>\n",
       "      <td>5.0</td>\n",
       "      <td>3.0</td>\n",
       "      <td>0.0</td>\n",
       "      <td>0.0</td>\n",
       "      <td>0.0</td>\n",
       "      <td>0.0</td>\n",
       "      <td>ส่งจากต่างประเทศ</td>\n",
       "      <td>Sweetbaby123</td>\n",
       "      <td>664306007</td>\n",
       "    </tr>\n",
       "    <tr>\n",
       "      <th>919</th>\n",
       "      <td>419</td>\n",
       "      <td>7 นิ้วหม้อทอด Air fryer 6 PCS อุปกรณ์เสริม Air...</td>\n",
       "      <td>400.0</td>\n",
       "      <td>843.0</td>\n",
       "      <td>-0.53</td>\n",
       "      <td>ซื้อขั้นต่ำ ฿199.00</td>\n",
       "      <td>no_warranty</td>\n",
       "      <td>0.87</td>\n",
       "      <td>98%</td>\n",
       "      <td>100%</td>\n",
       "      <td>...</td>\n",
       "      <td>No Brand</td>\n",
       "      <td>4.5</td>\n",
       "      <td>1.0</td>\n",
       "      <td>1.0</td>\n",
       "      <td>0.0</td>\n",
       "      <td>0.0</td>\n",
       "      <td>0.0</td>\n",
       "      <td>ดำเนินการโดยลาซาด้า</td>\n",
       "      <td>SM LIVEHOME</td>\n",
       "      <td>655390497</td>\n",
       "    </tr>\n",
       "    <tr>\n",
       "      <th>932</th>\n",
       "      <td>432</td>\n",
       "      <td>ถาดพิซซ่าหม้อทอดไร้มัน5 ชิ้นสากลบ้านทอดอากาศอุ...</td>\n",
       "      <td>445.3</td>\n",
       "      <td>1153.0</td>\n",
       "      <td>-0.61</td>\n",
       "      <td>ซื้อขั้นต่ำ ฿399.00</td>\n",
       "      <td>no_warranty</td>\n",
       "      <td>0.87</td>\n",
       "      <td>97%</td>\n",
       "      <td>100%</td>\n",
       "      <td>...</td>\n",
       "      <td>Oem</td>\n",
       "      <td>5.0</td>\n",
       "      <td>1.0</td>\n",
       "      <td>0.0</td>\n",
       "      <td>0.0</td>\n",
       "      <td>0.0</td>\n",
       "      <td>0.0</td>\n",
       "      <td>ส่งจากต่างประเทศ</td>\n",
       "      <td>Pinkee</td>\n",
       "      <td>985780406</td>\n",
       "    </tr>\n",
       "    <tr>\n",
       "      <th>940</th>\n",
       "      <td>440</td>\n",
       "      <td>หม้อทอดไฟฟ้าสำหรับ Philips HD9232 HD9233 HD922...</td>\n",
       "      <td>242.0</td>\n",
       "      <td>436.0</td>\n",
       "      <td>-0.44</td>\n",
       "      <td>ซื้อขั้นต่ำ ฿400.00</td>\n",
       "      <td>no_warranty</td>\n",
       "      <td>0.90</td>\n",
       "      <td>97%</td>\n",
       "      <td>100%</td>\n",
       "      <td>...</td>\n",
       "      <td>Oem</td>\n",
       "      <td>4.6</td>\n",
       "      <td>104.0</td>\n",
       "      <td>9.0</td>\n",
       "      <td>7.0</td>\n",
       "      <td>4.0</td>\n",
       "      <td>5.0</td>\n",
       "      <td>ดำเนินการโดยลาซาด้า</td>\n",
       "      <td>Lucky Day18</td>\n",
       "      <td>635084656</td>\n",
       "    </tr>\n",
       "    <tr>\n",
       "      <th>950</th>\n",
       "      <td>450</td>\n",
       "      <td>Air Fryer Electric Fryer Accessory Non-Stick B...</td>\n",
       "      <td>135.0</td>\n",
       "      <td>405.0</td>\n",
       "      <td>-0.67</td>\n",
       "      <td>ซื้อขั้นต่ำ ฿499.00</td>\n",
       "      <td>no_warranty</td>\n",
       "      <td>0.87</td>\n",
       "      <td>84%</td>\n",
       "      <td>ข้อมูลไม่เพียงพอ</td>\n",
       "      <td>...</td>\n",
       "      <td>No Brand</td>\n",
       "      <td>0.0</td>\n",
       "      <td>0.0</td>\n",
       "      <td>0.0</td>\n",
       "      <td>0.0</td>\n",
       "      <td>0.0</td>\n",
       "      <td>0.0</td>\n",
       "      <td>ส่งจากต่างประเทศ</td>\n",
       "      <td>QIUZHI</td>\n",
       "      <td>1022392902</td>\n",
       "    </tr>\n",
       "    <tr>\n",
       "      <th>951</th>\n",
       "      <td>451</td>\n",
       "      <td>Khind Air Fryer Oven ARF-9500</td>\n",
       "      <td>6409.0</td>\n",
       "      <td>7784.0</td>\n",
       "      <td>-0.18</td>\n",
       "      <td>ซื้อขั้นต่ำ ฿700.00</td>\n",
       "      <td>no_warranty</td>\n",
       "      <td>NaN</td>\n",
       "      <td>ข้อมูลไม่เพียงพอ</td>\n",
       "      <td>ข้อมูลไม่เพียงพอ</td>\n",
       "      <td>...</td>\n",
       "      <td>Oem</td>\n",
       "      <td>0.0</td>\n",
       "      <td>0.0</td>\n",
       "      <td>0.0</td>\n",
       "      <td>0.0</td>\n",
       "      <td>0.0</td>\n",
       "      <td>0.0</td>\n",
       "      <td>ส่งจากต่างประเทศ</td>\n",
       "      <td>yaolis</td>\n",
       "      <td>1308176575</td>\n",
       "    </tr>\n",
       "    <tr>\n",
       "      <th>952</th>\n",
       "      <td>452</td>\n",
       "      <td>[จัดส่งที่รวดเร็ว] KHIND MULTI AIR FRYER OVEN ...</td>\n",
       "      <td>6633.0</td>\n",
       "      <td>8076.0</td>\n",
       "      <td>-0.18</td>\n",
       "      <td>ซื้อขั้นต่ำ ฿700.00</td>\n",
       "      <td>no_warranty</td>\n",
       "      <td>NaN</td>\n",
       "      <td>ข้อมูลไม่เพียงพอ</td>\n",
       "      <td>ข้อมูลไม่เพียงพอ</td>\n",
       "      <td>...</td>\n",
       "      <td>Oem</td>\n",
       "      <td>0.0</td>\n",
       "      <td>0.0</td>\n",
       "      <td>0.0</td>\n",
       "      <td>0.0</td>\n",
       "      <td>0.0</td>\n",
       "      <td>0.0</td>\n",
       "      <td>ส่งจากต่างประเทศ</td>\n",
       "      <td>yaolis</td>\n",
       "      <td>1308110156</td>\n",
       "    </tr>\n",
       "    <tr>\n",
       "      <th>997</th>\n",
       "      <td>497</td>\n",
       "      <td>หม้อทอด Air fryer หม้อทอดไฟฟ้าอุปกรณ์เสริม Non...</td>\n",
       "      <td>226.0</td>\n",
       "      <td>437.0</td>\n",
       "      <td>-0.48</td>\n",
       "      <td>ซื้อขั้นต่ำ ฿300.00</td>\n",
       "      <td>no_warranty</td>\n",
       "      <td>0.89</td>\n",
       "      <td>98%</td>\n",
       "      <td>100%</td>\n",
       "      <td>...</td>\n",
       "      <td>Oem</td>\n",
       "      <td>3.8</td>\n",
       "      <td>7.0</td>\n",
       "      <td>1.0</td>\n",
       "      <td>0.0</td>\n",
       "      <td>0.0</td>\n",
       "      <td>3.0</td>\n",
       "      <td>ส่งจากต่างประเทศ</td>\n",
       "      <td>GODDYliho688</td>\n",
       "      <td>582306299</td>\n",
       "    </tr>\n",
       "  </tbody>\n",
       "</table>\n",
       "<p>50 rows × 22 columns</p>\n",
       "</div>"
      ],
      "text/plain": [
       "     index                                          textTitle  sale_price  \\\n",
       "103    103  Smarthome หม้อทอดไร้น้ำมัน ขนาด 3.5 ลิตร รุ่น ...      1424.0   \n",
       "107    107  Philips AirFryer HD9218/51หม้อทอดไร้น้ำมัน หม้...      5490.0   \n",
       "115    115  Haier หม้อทอดไร้น้ำมัน ความจุ 2.5 ลิตร รุ่น HA...      1590.0   \n",
       "119    119  Smarthome หม้อทอดไร้น้ำมัน ขนาด 2.0 ลิตร รุ่น ...       890.0   \n",
       "138    138  Philips Airfryer หม้อทอดไร้น้ำมัน หม้อทอดอากาศ...      5294.0   \n",
       "141    141  Philips Airfryer หม้อทอดอากาศ หม้อทอดไร้น้ำมัน...      9990.0   \n",
       "147    147           OTTO หม้อทอดไร้น้ำมัน รุ่น CO-725 (สีดำ)      1120.0   \n",
       "151    151  Philips Airfryer Twin TurboStar หม้อทอดไร้น้ำม...     10990.0   \n",
       "161    161  Smarthome หม้อทอดไร้น้ำมัน ขนาด 2.0 ลิตร รุ่น ...       950.0   \n",
       "163    163  Smarthome หม้อทอดไร้น้ำมัน ความจุ 3.5 ลิตร รุ่...      1590.0   \n",
       "165    165  Smarthome หม้อทอดไร้น้ำมัน ขนาด 3.0 ลิตร รุ่น ...      1040.0   \n",
       "171    171  Smarthome หม้อทอดไร้น้ำมัน ขนาด 4.5 ลิตร รุ่น ...      1990.0   \n",
       "216    216  【จัดส่งฟรี】 1700W 10L ทอดอากาศเตาอบฟรีไขมันต่ำ...      3266.0   \n",
       "229    229  มัลติฟังก์ชั่นอากาศทอดเตาอบสแตนเลส 10 ลิตร 170...      3138.0   \n",
       "247    247  Haier หม้อทอดไร้น้ำมัน AirBoost ความจุ 4 ลิตร ...      3290.0   \n",
       "256    256  5 ชิ้น/เซ็ตหม้อทอด Air fryer ทอด CAGE จานถาดอบ...       380.0   \n",
       "280    280  FSความจุขนาดใหญ่จอแอลซีดีทอดอากาศอัตโนมัติฟรีส...      2283.0   \n",
       "287    287  Guo อากาศหม้อทอดไฟฟ้าอุปกรณ์โกลเด้นเค้กเบเกอรี...       615.0   \n",
       "298    298  5 ชิ้น / เซ็ตทอดอากาศทอดกรงจานถาดอบ R Ack พิซซ...       329.0   \n",
       "310    310  Xiaomi liven G-5 Oil-Free Air fryer 2.5L NO Oi...      2880.0   \n",
       "365    365  4.5Lเครื่องทอดอากาศในครัวเรือนปราศจากน้ำมันมัล...      1167.0   \n",
       "460    460  Air Fryer Electric Fryer Accessory Non-Stick B...       145.0   \n",
       "470    470  1700 วัตต์ 10L 220 หม้อทอดไร้มัน โวลต์มัลติฟัง...      3164.0   \n",
       "502      2  Philips Airfryer Twin TurboStar หม้อทอดไร้น้ำม...      7990.0   \n",
       "509      9  5 ชิ้น/เซ็ตทอดอากาศทอดกรงจานถาดอบชั้นวางพิซซ่า...       391.0   \n",
       "558     58  【สั่งซื้อล่วงหน้ามาถึงใน 15-20 วัน!!】มัลติฟังก...      1696.0   \n",
       "577     77  FS Air Fryer 4Lความจุขนาดใหญ่อัจฉริยะปราศจากน้...      1277.0   \n",
       "587     87  FS เครื่องทอดอากาศความจุขนาดใหญ่ในครัวเรือนอัจ...       960.0   \n",
       "647    147  Air Fryer Accessories, Air Fryer Accessories a...       473.0   \n",
       "656    156  Joyoung KL20-J71 หม้อทอดไร้น้ำมันไฟฟ้า สีพาสเท...      1799.0   \n",
       "665    165  【จัดส่งฟรี + ทั่วโลก】มัลติฟังก์ชั่นเตาอบทอดอาก...      3306.0   \n",
       "666    166  ทอดอากาศหม้อทอดไฟฟ้าอุปกรณ์เสริมไม่ติดจานอบย่า...       771.0   \n",
       "667    167  【สั่งซื้อล่วงหน้ามาถึงใน 15-20 วัน!!】เครื่องทอ...      1320.0   \n",
       "711    211  7in สากล 12 ชิ้นทอดอากาศร้อนชุดที่มีเค้กถ้วยเค...       498.0   \n",
       "713    213  Riino Air Fryer Ovenความจุขนาดใหญ่พร้อมฟังก์ชั...      6065.0   \n",
       "721    221  [Rmco South City self collect] Haier 10L 2in1 ...      6592.0   \n",
       "735    235        KHIND MULTI AIR FRYER OVEN ARF9500 ARF-9500      6443.0   \n",
       "755    255                      Khind Air fryer oven ARF-9500      5205.0   \n",
       "787    287  มัลติฟังก์ชั่ 1700 วัตต์ 10L อากาศทอดเตาอบฟรีไ...      3278.0   \n",
       "808    308  เครื่องทอดอากาศบ้านความจุขนาดใหญ่Pivotableย้อน...      7810.0   \n",
       "840    340  หม้อทอดอากาศ 5 ชิ้น/เซ็ต 6 ''ทอดอากาศทอดกรงจาน...       299.0   \n",
       "884    384  หม้อทอดไฟฟ้า Non-Stick Baking อุปกรณ์เสริมสำหร...       235.0   \n",
       "906    406  7in สากล 12 ชิ้นทอดอากาศร้อนชุดที่มีเค้กถ้วยเค...       471.0   \n",
       "919    419  7 นิ้วหม้อทอด Air fryer 6 PCS อุปกรณ์เสริม Air...       400.0   \n",
       "932    432  ถาดพิซซ่าหม้อทอดไร้มัน5 ชิ้นสากลบ้านทอดอากาศอุ...       445.3   \n",
       "940    440  หม้อทอดไฟฟ้าสำหรับ Philips HD9232 HD9233 HD922...       242.0   \n",
       "950    450  Air Fryer Electric Fryer Accessory Non-Stick B...       135.0   \n",
       "951    451                      Khind Air Fryer Oven ARF-9500      6409.0   \n",
       "952    452  [จัดส่งที่รวดเร็ว] KHIND MULTI AIR FRYER OVEN ...      6633.0   \n",
       "997    497  หม้อทอด Air fryer หม้อทอดไฟฟ้าอุปกรณ์เสริม Non...       226.0   \n",
       "\n",
       "     origin_price  discount                                         promotion  \\\n",
       "103        3990.0     -0.64                                               NaN   \n",
       "107        7990.0     -0.31                               ซื้อขั้นต่ำ ฿999.00   \n",
       "115        3990.0     -0.60                                               NaN   \n",
       "119        2990.0     -0.70                                               NaN   \n",
       "138        7990.0     -0.34                                               NaN   \n",
       "141       11990.0     -0.17                               ซื้อขั้นต่ำ ฿999.00   \n",
       "147        2600.0     -0.57  ซื้อขั้นต่ำ  ฿1,000.00  รับส่วนลดสูงสุด  ฿200.00   \n",
       "151       11990.0     -0.08                                               NaN   \n",
       "161        2990.0     -0.68                                               NaN   \n",
       "163        3990.0     -0.60                                               NaN   \n",
       "165        2990.0     -0.65                                               NaN   \n",
       "171        3990.0     -0.50                                               NaN   \n",
       "216        6598.0     -0.51                               ซื้อขั้นต่ำ ฿449.00   \n",
       "229        6666.0     -0.53                               ซื้อขั้นต่ำ ฿199.00   \n",
       "247        3990.0     -0.18                                               NaN   \n",
       "256         720.0     -0.47                               ซื้อขั้นต่ำ ฿449.00   \n",
       "280        4169.0     -0.45                               ซื้อขั้นต่ำ ฿500.00   \n",
       "287         923.0     -0.33                               ซื้อขั้นต่ำ ฿849.00   \n",
       "298         685.0     -0.52                                ซื้อขั้นต่ำ ฿39.00   \n",
       "310        9744.0     -0.70                               ซื้อขั้นต่ำ ฿800.00   \n",
       "365        2334.0     -0.50     ซื้อขั้นต่ำ  ฿800.00  รับส่วนลดสูงสุด  ฿30.00   \n",
       "460         435.0     -0.67                               ซื้อขั้นต่ำ ฿249.00   \n",
       "470        6490.0     -0.51                               ซื้อขั้นต่ำ ฿199.00   \n",
       "502        8990.0     -0.11                                               NaN   \n",
       "509         764.0     -0.49                   ซื้อ2ลด2%; ซื้อ3ลด3%; ซื้อ5ลด5%   \n",
       "558        3305.0     -0.49                             ซื้อขั้นต่ำ ฿2,300.00   \n",
       "577        2200.0     -0.42                               ซื้อขั้นต่ำ ฿500.00   \n",
       "587        1800.0     -0.47                               ซื้อขั้นต่ำ ฿500.00   \n",
       "647        1419.0     -0.67                                               NaN   \n",
       "656        2599.0     -0.31                                               NaN   \n",
       "665        6613.0     -0.50                               ซื้อขั้นต่ำ ฿449.00   \n",
       "666         907.0     -0.15                               ซื้อขั้นต่ำ ฿650.00   \n",
       "667        2598.0     -0.49                             ซื้อขั้นต่ำ ฿2,300.00   \n",
       "711        1028.0     -0.52                               ซื้อขั้นต่ำ ฿300.00   \n",
       "713        7502.0     -0.19                               ซื้อขั้นต่ำ ฿700.00   \n",
       "721        8505.0     -0.22                                               NaN   \n",
       "735        7829.0     -0.18                               ซื้อขั้นต่ำ ฿700.00   \n",
       "755        6703.0     -0.22                                               NaN   \n",
       "787        5573.0     -0.41                               ซื้อขั้นต่ำ ฿199.00   \n",
       "808        9241.0     -0.15                               ซื้อขั้นต่ำ ฿500.00   \n",
       "840         478.0     -0.37                               ซื้อขั้นต่ำ ฿399.00   \n",
       "884         430.0     -0.45                               ซื้อขั้นต่ำ ฿180.00   \n",
       "906        1012.0     -0.53     ซื้อขั้นต่ำ  ฿400.00  รับส่วนลดสูงสุด  ฿20.00   \n",
       "919         843.0     -0.53                               ซื้อขั้นต่ำ ฿199.00   \n",
       "932        1153.0     -0.61                               ซื้อขั้นต่ำ ฿399.00   \n",
       "940         436.0     -0.44                               ซื้อขั้นต่ำ ฿400.00   \n",
       "950         405.0     -0.67                               ซื้อขั้นต่ำ ฿499.00   \n",
       "951        7784.0     -0.18                               ซื้อขั้นต่ำ ฿700.00   \n",
       "952        8076.0     -0.18                               ซื้อขั้นต่ำ ฿700.00   \n",
       "997         437.0     -0.48                               ซื้อขั้นต่ำ ฿300.00   \n",
       "\n",
       "        warranty  positive_seller_rating      ship_on_time chat_response_rate  \\\n",
       "103     warranty                    0.93               0.9                NaN   \n",
       "107     warranty                    0.94              0.96                99%   \n",
       "115     warranty                    0.91              0.94                89%   \n",
       "119     warranty                    0.93               0.9                NaN   \n",
       "138     warranty                    0.95              0.91               100%   \n",
       "141     warranty                    0.94              0.96                99%   \n",
       "147     warranty                    0.90              0.96                NaN   \n",
       "151     warranty                    0.95              0.91               100%   \n",
       "161     warranty                    0.93               0.9                NaN   \n",
       "163     warranty                    0.93               0.9                NaN   \n",
       "165     warranty                    0.93               0.9                NaN   \n",
       "171     warranty                    0.93               0.9                NaN   \n",
       "216  no_warranty                    0.82              0.98               100%   \n",
       "229  no_warranty                    0.80              0.99                99%   \n",
       "247     warranty                    0.91              0.94                89%   \n",
       "256  no_warranty                    0.84              0.99               100%   \n",
       "280  no_warranty                    0.95              0.99                81%   \n",
       "287  no_warranty                    0.89              0.97               100%   \n",
       "298  no_warranty                    0.83              0.97               100%   \n",
       "310  no_warranty                    0.92              0.98                98%   \n",
       "365  no_warranty                    0.89              0.96               100%   \n",
       "460  no_warranty                    0.90              0.88               100%   \n",
       "470  no_warranty                    0.89                 1               100%   \n",
       "502     warranty                    0.95               91%               100%   \n",
       "509  no_warranty                    0.85               99%               100%   \n",
       "558  no_warranty                    0.92               73%                94%   \n",
       "577  no_warranty                    0.95               99%                81%   \n",
       "587  no_warranty                    0.95               99%                81%   \n",
       "647  no_warranty                    0.90               95%               100%   \n",
       "656     warranty                    0.91              100%                40%   \n",
       "665  no_warranty                    0.82               98%               100%   \n",
       "666  no_warranty                     NaN  ข้อมูลไม่เพียงพอ               100%   \n",
       "667  no_warranty                    0.92               73%                94%   \n",
       "711  no_warranty                    0.89               97%               100%   \n",
       "713  no_warranty                     NaN  ข้อมูลไม่เพียงพอ   ข้อมูลไม่เพียงพอ   \n",
       "721  no_warranty                     NaN  ข้อมูลไม่เพียงพอ   ข้อมูลไม่เพียงพอ   \n",
       "735  no_warranty                     NaN  ข้อมูลไม่เพียงพอ   ข้อมูลไม่เพียงพอ   \n",
       "755  no_warranty                     NaN  ข้อมูลไม่เพียงพอ   ข้อมูลไม่เพียงพอ   \n",
       "787  no_warranty                    0.78               98%               100%   \n",
       "808  no_warranty                     NaN               66%   ข้อมูลไม่เพียงพอ   \n",
       "840  no_warranty                    0.80               97%               100%   \n",
       "884  no_warranty                    0.87               96%               100%   \n",
       "906  no_warranty                    0.85               97%                97%   \n",
       "919  no_warranty                    0.87               98%               100%   \n",
       "932  no_warranty                    0.87               97%               100%   \n",
       "940  no_warranty                    0.90               97%               100%   \n",
       "950  no_warranty                    0.87               84%   ข้อมูลไม่เพียงพอ   \n",
       "951  no_warranty                     NaN  ข้อมูลไม่เพียงพอ   ข้อมูลไม่เพียงพอ   \n",
       "952  no_warranty                     NaN  ข้อมูลไม่เพียงพอ   ข้อมูลไม่เพียงพอ   \n",
       "997  no_warranty                    0.89               98%               100%   \n",
       "\n",
       "     ...      brand score-average rating-5  rating_4  rating_3  rating_2  \\\n",
       "103  ...  Smarthome           4.8     79.0       8.0       0.0       0.0   \n",
       "107  ...    Philips           4.8   1002.0      96.0      18.0       4.0   \n",
       "115  ...      Haier           4.8   3092.0     248.0      47.0      15.0   \n",
       "119  ...  Smarthome           4.7     48.0       6.0       3.0       1.0   \n",
       "138  ...    Philips           4.9    438.0      33.0       7.0       0.0   \n",
       "141  ...    Philips           4.7    255.0      51.0      14.0       2.0   \n",
       "147  ...       Otto           4.7    412.0      39.0      14.0       7.0   \n",
       "151  ...    Philips           4.9     56.0       2.0       0.0       1.0   \n",
       "161  ...  Smarthome           4.9    340.0      29.0       5.0       2.0   \n",
       "163  ...  Smarthome           5.0     19.0       0.0       0.0       0.0   \n",
       "165  ...  Smarthome           4.7     13.0       0.0       0.0       0.0   \n",
       "171  ...  Smarthome           5.0      1.0       0.0       0.0       0.0   \n",
       "216  ...   No Brand           4.8      8.0       0.0       1.0       0.0   \n",
       "229  ...   No Brand           3.8      2.0       2.0       0.0       0.0   \n",
       "247  ...      Haier           4.7     26.0       5.0       1.0       0.0   \n",
       "256  ...   No Brand           4.7     16.0       4.0       1.0       0.0   \n",
       "280  ...        Oem           4.7      9.0       1.0       1.0       0.0   \n",
       "287  ...   Rondaful           3.5      6.0       0.0       0.0       1.0   \n",
       "298  ...   No Brand           4.7     24.0       2.0       2.0       0.0   \n",
       "310  ...     Xiaomi           4.8      3.0       1.0       0.0       0.0   \n",
       "365  ...   No Brand           5.0     31.0       0.0       0.0       0.0   \n",
       "460  ...   No Brand           4.5     29.0       6.0       6.0       0.0   \n",
       "470  ...   No Brand           5.0      1.0       0.0       0.0       0.0   \n",
       "502  ...    Philips           4.9     28.0       1.0       0.0       1.0   \n",
       "509  ...   No Brand           5.0     15.0       0.0       0.0       0.0   \n",
       "558  ...        Oem           0.0      0.0       0.0       0.0       0.0   \n",
       "577  ...        Oem           5.0     22.0       0.0       0.0       0.0   \n",
       "587  ...        Oem           4.3      5.0       1.0       0.0       0.0   \n",
       "647  ...   No Brand           4.9     11.0       1.0       0.0       0.0   \n",
       "656  ...    Joyoung           4.9     17.0       1.0       0.0       0.0   \n",
       "665  ...   No Brand           5.0      2.0       0.0       0.0       0.0   \n",
       "666  ...        Oem           0.0      0.0       0.0       0.0       0.0   \n",
       "667  ...        Oem           5.0     11.0       0.0       0.0       0.0   \n",
       "711  ...        Oem           5.0      1.0       0.0       0.0       0.0   \n",
       "713  ...        Oem           0.0      0.0       0.0       0.0       0.0   \n",
       "721  ...        Oem           0.0      0.0       0.0       0.0       0.0   \n",
       "735  ...        Oem           0.0      0.0       0.0       0.0       0.0   \n",
       "755  ...        Oem           0.0      0.0       0.0       0.0       0.0   \n",
       "787  ...   No Brand           5.0      1.0       0.0       0.0       0.0   \n",
       "808  ...        Oem           0.0      0.0       0.0       0.0       0.0   \n",
       "840  ...   No Brand           4.6     64.0      19.0       5.0       2.0   \n",
       "884  ...        Oem           4.5     49.0       0.0       2.0       1.0   \n",
       "906  ...        Oem           5.0      3.0       0.0       0.0       0.0   \n",
       "919  ...   No Brand           4.5      1.0       1.0       0.0       0.0   \n",
       "932  ...        Oem           5.0      1.0       0.0       0.0       0.0   \n",
       "940  ...        Oem           4.6    104.0       9.0       7.0       4.0   \n",
       "950  ...   No Brand           0.0      0.0       0.0       0.0       0.0   \n",
       "951  ...        Oem           0.0      0.0       0.0       0.0       0.0   \n",
       "952  ...        Oem           0.0      0.0       0.0       0.0       0.0   \n",
       "997  ...        Oem           3.8      7.0       1.0       0.0       0.0   \n",
       "\n",
       "     rating_1     delivery_options            store_name      itemId  \n",
       "103       2.0  ดำเนินการโดยลาซาด้า       Home Appliances  1141256664  \n",
       "107      19.0  Delivered by Seller               Philips   100988687  \n",
       "115      41.0  ดำเนินการโดยลาซาด้า               ไฮเออร์   281320867  \n",
       "119       0.0  ดำเนินการโดยลาซาด้า       Home Appliances  1141242895  \n",
       "138       3.0  ดำเนินการโดยลาซาด้า               ฟิลิปส์   861362296  \n",
       "141       1.0  Delivered by Seller               Philips   100988690  \n",
       "147      19.0  ดำเนินการโดยลาซาด้า                  OTTO   349970011  \n",
       "151       0.0  ดำเนินการโดยลาซาด้า               ฟิลิปส์   861354374  \n",
       "161       2.0  ดำเนินการโดยลาซาด้า       Home Appliances  1039294115  \n",
       "163       0.0  ดำเนินการโดยลาซาด้า       Home Appliances  1141298049  \n",
       "165       1.0  ดำเนินการโดยลาซาด้า       Home Appliances  1224214129  \n",
       "171       0.0  ดำเนินการโดยลาซาด้า       Home Appliances  1224212153  \n",
       "216       0.0     ส่งจากต่างประเทศ                 Audew   943402756  \n",
       "229       1.0     ส่งจากต่างประเทศ            AutoLeader   943440518  \n",
       "247       1.0  ดำเนินการโดยลาซาด้า               ไฮเออร์  1047798222  \n",
       "256       0.0     ส่งจากต่างประเทศ            Surmounter   289316957  \n",
       "280       0.0     ส่งจากต่างประเทศ           Fiona Store  1049718714  \n",
       "287       3.0     ส่งจากต่างประเทศ            Smar Store   525176227  \n",
       "298       1.0     ส่งจากต่างประเทศ        Top Appliances   613142592  \n",
       "310       0.0     ส่งจากต่างประเทศ          Xiao Mi Home   756634351  \n",
       "365       0.0     ส่งจากต่างประเทศ               A Tools   983892925  \n",
       "460       1.0     ส่งจากต่างประเทศ     Dinner Aesthetics   487986995  \n",
       "470       0.0     ส่งจากต่างประเทศ         Freedom House  1014762285  \n",
       "502       0.0  ดำเนินการโดยลาซาด้า               ฟิลิปส์   861376111  \n",
       "509       0.0     ส่งจากต่างประเทศ             SuperBang   289466431  \n",
       "558       0.0  Delivered by Seller            TH PUDDING   962562371  \n",
       "577       0.0     ส่งจากต่างประเทศ           Fiona Store  1049952318  \n",
       "587       1.0     ส่งจากต่างประเทศ           Fiona Store  1020370819  \n",
       "647       0.0     ส่งจากต่างประเทศ         Fantasy space   513340887  \n",
       "656       0.0  ดำเนินการโดยลาซาด้า       I Digital Store   526206404  \n",
       "665       0.0     ส่งจากต่างประเทศ                 Audew   943432195  \n",
       "666       0.0     ส่งจากต่างประเทศ  DaLianTongBoFuZhuang  1174140755  \n",
       "667       0.0  Delivered by Seller            TH PUDDING   962524944  \n",
       "711       0.0     ส่งจากต่างประเทศ                 Yeiii  1115394336  \n",
       "713       0.0     ส่งจากต่างประเทศ                yaolis  1260052121  \n",
       "721       0.0     ส่งจากต่างประเทศ     Shop5782371 Store  1165282123  \n",
       "735       0.0     ส่งจากต่างประเทศ                yaolis  1308056599  \n",
       "755       0.0     ส่งจากต่างประเทศ     Shop5782371 Store  1165236816  \n",
       "787       0.0     ส่งจากต่างประเทศ         Houseful Mall  1014848362  \n",
       "808       0.0     ส่งจากต่างประเทศ                 fuzou  1330730929  \n",
       "840       0.0     ส่งจากต่างประเทศ              WarmRoom   285468538  \n",
       "884       5.0     ส่งจากต่างประเทศ    Fashionable life02   633830081  \n",
       "906       0.0     ส่งจากต่างประเทศ          Sweetbaby123   664306007  \n",
       "919       0.0  ดำเนินการโดยลาซาด้า           SM LIVEHOME   655390497  \n",
       "932       0.0     ส่งจากต่างประเทศ                Pinkee   985780406  \n",
       "940       5.0  ดำเนินการโดยลาซาด้า           Lucky Day18   635084656  \n",
       "950       0.0     ส่งจากต่างประเทศ                QIUZHI  1022392902  \n",
       "951       0.0     ส่งจากต่างประเทศ                yaolis  1308176575  \n",
       "952       0.0     ส่งจากต่างประเทศ                yaolis  1308110156  \n",
       "997       3.0     ส่งจากต่างประเทศ          GODDYliho688   582306299  \n",
       "\n",
       "[50 rows x 22 columns]"
      ]
     },
     "execution_count": 30,
     "metadata": {},
     "output_type": "execute_result"
    }
   ],
   "source": [
    "df[df_deli.delivery_options.str.contains('ธรรมดา')==False]"
   ]
  },
  {
   "cell_type": "code",
   "execution_count": 31,
   "metadata": {},
   "outputs": [
    {
     "data": {
      "text/plain": [
       "31"
      ]
     },
     "execution_count": 31,
     "metadata": {},
     "output_type": "execute_result"
    }
   ],
   "source": [
    "df_deli.delivery_options.str.contains('ต่างประเทศ').sum()"
   ]
  },
  {
   "cell_type": "code",
   "execution_count": 32,
   "metadata": {},
   "outputs": [
    {
     "data": {
      "text/plain": [
       "delivery_options    33\n",
       "dtype: int64"
      ]
     },
     "execution_count": 32,
     "metadata": {},
     "output_type": "execute_result"
    }
   ],
   "source": [
    "df_deli.isna().sum()"
   ]
  },
  {
   "cell_type": "code",
   "execution_count": 33,
   "metadata": {},
   "outputs": [
    {
     "data": {
      "text/plain": [
       "936"
      ]
     },
     "execution_count": 33,
     "metadata": {},
     "output_type": "execute_result"
    }
   ],
   "source": [
    "len(df_deli[df_deli.delivery_options.str.contains('ธรรมดา|โดยลาซาด้า|Delivered by Seller')==True])"
   ]
  },
  {
   "cell_type": "code",
   "execution_count": 34,
   "metadata": {},
   "outputs": [
    {
     "name": "stderr",
     "output_type": "stream",
     "text": [
      "/Users/layyer/anaconda3/envs/ai/lib/python3.7/site-packages/ipykernel_launcher.py:1: SettingWithCopyWarning: \n",
      "A value is trying to be set on a copy of a slice from a DataFrame.\n",
      "Try using .loc[row_indexer,col_indexer] = value instead\n",
      "\n",
      "See the caveats in the documentation: https://pandas.pydata.org/pandas-docs/stable/user_guide/indexing.html#returning-a-view-versus-a-copy\n",
      "  \"\"\"Entry point for launching an IPython kernel.\n"
     ]
    }
   ],
   "source": [
    "df_deli[\"howto_delivery\"] = df_deli.delivery_options"
   ]
  },
  {
   "cell_type": "code",
   "execution_count": 35,
   "metadata": {},
   "outputs": [
    {
     "name": "stderr",
     "output_type": "stream",
     "text": [
      "/Users/layyer/anaconda3/envs/ai/lib/python3.7/site-packages/pandas/core/generic.py:8765: SettingWithCopyWarning: \n",
      "A value is trying to be set on a copy of a slice from a DataFrame\n",
      "\n",
      "See the caveats in the documentation: https://pandas.pydata.org/pandas-docs/stable/user_guide/indexing.html#returning-a-view-versus-a-copy\n",
      "  self._update_inplace(new_data)\n"
     ]
    }
   ],
   "source": [
    "df_deli[\"howto_delivery\"][df_deli.delivery_options.str.contains('ธรรมดา') == True] = 'ธรรมดา'"
   ]
  },
  {
   "cell_type": "code",
   "execution_count": 36,
   "metadata": {},
   "outputs": [
    {
     "data": {
      "text/plain": [
       "ธรรมดา                 917\n",
       "ส่งจากต่างประเทศ        31\n",
       "ดำเนินการโดยลาซาด้า     15\n",
       "Delivered by Seller      4\n",
       "Name: howto_delivery, dtype: int64"
      ]
     },
     "execution_count": 36,
     "metadata": {},
     "output_type": "execute_result"
    }
   ],
   "source": [
    "df_deli.howto_delivery.value_counts()"
   ]
  },
  {
   "cell_type": "code",
   "execution_count": 37,
   "metadata": {},
   "outputs": [],
   "source": [
    "def getDeliDay(word):\n",
    "    text_index = word.find('วัน')\n",
    "    if text_index == -1 :\n",
    "        return None\n",
    "    else :\n",
    "        return int(word[text_index-2:text_index])"
   ]
  },
  {
   "cell_type": "code",
   "execution_count": 39,
   "metadata": {},
   "outputs": [
    {
     "name": "stderr",
     "output_type": "stream",
     "text": [
      "/Users/layyer/anaconda3/envs/ai/lib/python3.7/site-packages/ipykernel_launcher.py:1: SettingWithCopyWarning: \n",
      "A value is trying to be set on a copy of a slice from a DataFrame.\n",
      "Try using .loc[row_indexer,col_indexer] = value instead\n",
      "\n",
      "See the caveats in the documentation: https://pandas.pydata.org/pandas-docs/stable/user_guide/indexing.html#returning-a-view-versus-a-copy\n",
      "  \"\"\"Entry point for launching an IPython kernel.\n"
     ]
    }
   ],
   "source": [
    "df_deli[\"sent_day\"] = None"
   ]
  },
  {
   "cell_type": "code",
   "execution_count": 40,
   "metadata": {
    "scrolled": false
   },
   "outputs": [
    {
     "name": "stderr",
     "output_type": "stream",
     "text": [
      "/Users/layyer/anaconda3/envs/ai/lib/python3.7/site-packages/IPython/core/interactiveshell.py:3331: SettingWithCopyWarning: \n",
      "A value is trying to be set on a copy of a slice from a DataFrame\n",
      "\n",
      "See the caveats in the documentation: https://pandas.pydata.org/pandas-docs/stable/user_guide/indexing.html#returning-a-view-versus-a-copy\n",
      "  exec(code_obj, self.user_global_ns, self.user_ns)\n"
     ]
    }
   ],
   "source": [
    "for i in df[df_deli.howto_delivery == 'ธรรมดา'].index:\n",
    "    df_deli[\"sent_day\"][i] = getDeliDay(df_deli.delivery_options[i])"
   ]
  },
  {
   "cell_type": "code",
   "execution_count": 78,
   "metadata": {},
   "outputs": [
    {
     "data": {
      "text/plain": [
       "<matplotlib.axes._subplots.AxesSubplot at 0x7fabc38d7bd0>"
      ]
     },
     "execution_count": 78,
     "metadata": {},
     "output_type": "execute_result"
    },
    {
     "data": {
      "image/png": "[encoded data removed]",
      "text/plain": [
       "<Figure size 432x288 with 1 Axes>"
      ]
     },
     "metadata": {
      "needs_background": "light"
     },
     "output_type": "display_data"
    }
   ],
   "source": [
    "df_deli[\"sent_day\"].value_counts().plot.bar()"
   ]
  },
  {
   "cell_type": "code",
   "execution_count": 41,
   "metadata": {},
   "outputs": [],
   "source": [
    "def getShipFee(word):\n",
    "    if( word.find('ฟรี') != -1 ):\n",
    "        return 0\n",
    "\n",
    "    else :\n",
    "        text_index = word.find('฿')\n",
    "        if text_index == -1:\n",
    "            return None\n",
    "        else:\n",
    "            return float(word[text_index+1:text_index+5])\n"
   ]
  },
  {
   "cell_type": "code",
   "execution_count": 42,
   "metadata": {},
   "outputs": [
    {
     "name": "stderr",
     "output_type": "stream",
     "text": [
      "/Users/layyer/anaconda3/envs/ai/lib/python3.7/site-packages/ipykernel_launcher.py:1: SettingWithCopyWarning: \n",
      "A value is trying to be set on a copy of a slice from a DataFrame.\n",
      "Try using .loc[row_indexer,col_indexer] = value instead\n",
      "\n",
      "See the caveats in the documentation: https://pandas.pydata.org/pandas-docs/stable/user_guide/indexing.html#returning-a-view-versus-a-copy\n",
      "  \"\"\"Entry point for launching an IPython kernel.\n"
     ]
    }
   ],
   "source": [
    "df_deli[\"ship_fee\"] = None\n",
    "for i in df[df_deli.howto_delivery == 'ธรรมดา'].index:\n",
    "    df_deli[\"ship_fee\"][i] = getShipFee(df_deli.delivery_options[i])"
   ]
  },
  {
   "cell_type": "code",
   "execution_count": 43,
   "metadata": {},
   "outputs": [
    {
     "data": {
      "text/plain": [
       "<matplotlib.axes._subplots.AxesSubplot at 0x7fabbe13efd0>"
      ]
     },
     "execution_count": 43,
     "metadata": {},
     "output_type": "execute_result"
    },
    {
     "data": {
      "image/png": "[encoded data removed]",
      "text/plain": [
       "<Figure size 720x360 with 1 Axes>"
      ]
     },
     "metadata": {
      "needs_background": "light"
     },
     "output_type": "display_data"
    }
   ],
   "source": [
    "plt.figure(figsize=(10,5))\n",
    "df_deli.ship_fee.value_counts().plot.bar()"
   ]
  },
  {
   "cell_type": "code",
   "execution_count": 44,
   "metadata": {},
   "outputs": [
    {
     "name": "stderr",
     "output_type": "stream",
     "text": [
      "/Users/layyer/anaconda3/envs/ai/lib/python3.7/site-packages/ipykernel_launcher.py:1: SettingWithCopyWarning: \n",
      "A value is trying to be set on a copy of a slice from a DataFrame.\n",
      "Try using .loc[row_indexer,col_indexer] = value instead\n",
      "\n",
      "See the caveats in the documentation: https://pandas.pydata.org/pandas-docs/stable/user_guide/indexing.html#returning-a-view-versus-a-copy\n",
      "  \"\"\"Entry point for launching an IPython kernel.\n"
     ]
    }
   ],
   "source": [
    "df_deli[\"cash_on_deli\"] = df_deli.delivery_options.str.contains('สามารถเก็บเงินปลายทางได้')"
   ]
  },
  {
   "cell_type": "code",
   "execution_count": 114,
   "metadata": {},
   "outputs": [
    {
     "data": {
      "text/plain": [
       "<matplotlib.axes._subplots.AxesSubplot at 0x7faba8b9b710>"
      ]
     },
     "execution_count": 114,
     "metadata": {},
     "output_type": "execute_result"
    },
    {
     "data": {
      "image/png": "[encoded data removed]",
      "text/plain": [
       "<Figure size 432x288 with 1 Axes>"
      ]
     },
     "metadata": {
      "needs_background": "light"
     },
     "output_type": "display_data"
    }
   ],
   "source": [
    "df_deli.cash_on_deli.value_counts().plot.bar()"
   ]
  },
  {
   "cell_type": "code",
   "execution_count": 45,
   "metadata": {},
   "outputs": [
    {
     "data": {
      "text/html": [
       "<div>\n",
       "<style scoped>\n",
       "    .dataframe tbody tr th:only-of-type {\n",
       "        vertical-align: middle;\n",
       "    }\n",
       "\n",
       "    .dataframe tbody tr th {\n",
       "        vertical-align: top;\n",
       "    }\n",
       "\n",
       "    .dataframe thead th {\n",
       "        text-align: right;\n",
       "    }\n",
       "</style>\n",
       "<table border=\"1\" class=\"dataframe\">\n",
       "  <thead>\n",
       "    <tr style=\"text-align: right;\">\n",
       "      <th></th>\n",
       "      <th>delivery_options</th>\n",
       "      <th>howto_delivery</th>\n",
       "      <th>sent_day</th>\n",
       "      <th>ship_fee</th>\n",
       "      <th>cash_on_deli</th>\n",
       "    </tr>\n",
       "  </thead>\n",
       "  <tbody>\n",
       "    <tr>\n",
       "      <th>0</th>\n",
       "      <td>แบบธรรมดา5 วัน฿20.00สามารถเก็บเงินปลายทางได้</td>\n",
       "      <td>ธรรมดา</td>\n",
       "      <td>5</td>\n",
       "      <td>20</td>\n",
       "      <td>True</td>\n",
       "    </tr>\n",
       "    <tr>\n",
       "      <th>1</th>\n",
       "      <td>แบบธรรมดา5 วัน฿89.00สามารถเก็บเงินปลายทางได้</td>\n",
       "      <td>ธรรมดา</td>\n",
       "      <td>5</td>\n",
       "      <td>89</td>\n",
       "      <td>True</td>\n",
       "    </tr>\n",
       "    <tr>\n",
       "      <th>2</th>\n",
       "      <td>แบบธรรมดา5 วัน฿20.00สามารถเก็บเงินปลายทางได้</td>\n",
       "      <td>ธรรมดา</td>\n",
       "      <td>5</td>\n",
       "      <td>20</td>\n",
       "      <td>True</td>\n",
       "    </tr>\n",
       "    <tr>\n",
       "      <th>3</th>\n",
       "      <td>แบบธรรมดา5 วัน฿20.00สามารถเก็บเงินปลายทางได้</td>\n",
       "      <td>ธรรมดา</td>\n",
       "      <td>5</td>\n",
       "      <td>20</td>\n",
       "      <td>True</td>\n",
       "    </tr>\n",
       "    <tr>\n",
       "      <th>4</th>\n",
       "      <td>แบบธรรมดา5 วัน฿89.00สามารถเก็บเงินปลายทางได้</td>\n",
       "      <td>ธรรมดา</td>\n",
       "      <td>5</td>\n",
       "      <td>89</td>\n",
       "      <td>True</td>\n",
       "    </tr>\n",
       "  </tbody>\n",
       "</table>\n",
       "</div>"
      ],
      "text/plain": [
       "                               delivery_options howto_delivery sent_day  \\\n",
       "0  แบบธรรมดา5 วัน฿20.00สามารถเก็บเงินปลายทางได้         ธรรมดา        5   \n",
       "1  แบบธรรมดา5 วัน฿89.00สามารถเก็บเงินปลายทางได้         ธรรมดา        5   \n",
       "2  แบบธรรมดา5 วัน฿20.00สามารถเก็บเงินปลายทางได้         ธรรมดา        5   \n",
       "3  แบบธรรมดา5 วัน฿20.00สามารถเก็บเงินปลายทางได้         ธรรมดา        5   \n",
       "4  แบบธรรมดา5 วัน฿89.00สามารถเก็บเงินปลายทางได้         ธรรมดา        5   \n",
       "\n",
       "  ship_fee cash_on_deli  \n",
       "0       20         True  \n",
       "1       89         True  \n",
       "2       20         True  \n",
       "3       20         True  \n",
       "4       89         True  "
      ]
     },
     "execution_count": 45,
     "metadata": {},
     "output_type": "execute_result"
    }
   ],
   "source": [
    "df_deli.head()"
   ]
  },
  {
   "cell_type": "markdown",
   "metadata": {},
   "source": [
    "ยังมีข้อผิดพลาดบางส่วน\n",
    "- ไม่ทราบจำนวนวันที่ใช้ส่งในกรณี โดยลาซาด้า,Delivered by Seller\n",
    "- การหาค่าส่งอาจมีข้อผิดพลาดเช่นตัวอย่างข้างล่างที่มีการฟรีค่าจัดส่งบางส่วน"
   ]
  },
  {
   "cell_type": "code",
   "execution_count": 75,
   "metadata": {
    "scrolled": true
   },
   "outputs": [
    {
     "data": {
      "text/plain": [
       "delivery_options    แบบธรรมดา3 - 5 วัน฿69.00ฟรีค่าจัดส่ง ฿20.00 เม...\n",
       "howto_delivery                                                 ธรรมดา\n",
       "sent_day                                                            5\n",
       "ship_fee                                                            0\n",
       "cash_on_deli                                                     True\n",
       "Name: 104, dtype: object"
      ]
     },
     "execution_count": 75,
     "metadata": {},
     "output_type": "execute_result"
    }
   ],
   "source": [
    "#ตัวอย่างข้อผิดพลาด\n",
    "df_deli.loc[104]"
   ]
  },
  {
   "cell_type": "markdown",
   "metadata": {},
   "source": [
    "### สรุป การส่งสินค้า\n",
    "- สินค้าส่วนมาก 90%+ ส่งจากในประเทศไทย\n",
    "- ส่วนใหญ่ใช้เวลาส่งน้อย (2-3) วัน\n",
    "- ส่วนใหญ่่ส่งฟรี\n",
    "- ส่วนใหญ่เก็บเงินปลายทางได้"
   ]
  },
  {
   "cell_type": "markdown",
   "metadata": {},
   "source": [
    "## คะแนนร้านค้า \n",
    "###  seller_rating"
   ]
  },
  {
   "cell_type": "code",
   "execution_count": 117,
   "metadata": {},
   "outputs": [
    {
     "data": {
      "text/plain": [
       "<matplotlib.axes._subplots.AxesSubplot at 0x7faba9125cd0>"
      ]
     },
     "execution_count": 117,
     "metadata": {},
     "output_type": "execute_result"
    },
    {
     "data": {
      "image/png": "[encoded data removed]",
      "text/plain": [
       "<Figure size 432x288 with 1 Axes>"
      ]
     },
     "metadata": {
      "needs_background": "light"
     },
     "output_type": "display_data"
    }
   ],
   "source": [
    "df.positive_seller_rating.hist(bins=15)"
   ]
  },
  {
   "cell_type": "markdown",
   "metadata": {},
   "source": [
    "**- บางร้านขายของหลายชิ้น**"
   ]
  },
  {
   "cell_type": "code",
   "execution_count": 124,
   "metadata": {},
   "outputs": [
    {
     "data": {
      "text/plain": [
       "<matplotlib.axes._subplots.AxesSubplot at 0x7fabaa0eee90>"
      ]
     },
     "execution_count": 124,
     "metadata": {},
     "output_type": "execute_result"
    },
    {
     "data": {
      "image/png": "[encoded data removed]",
      "text/plain": [
       "<Figure size 432x288 with 1 Axes>"
      ]
     },
     "metadata": {
      "needs_background": "light"
     },
     "output_type": "display_data"
    }
   ],
   "source": [
    "df.groupby('store_name').mean()['positive_seller_rating'].hist(bins=15)"
   ]
  },
  {
   "cell_type": "markdown",
   "metadata": {},
   "source": [
    "###  ship_on_time"
   ]
  },
  {
   "cell_type": "code",
   "execution_count": 48,
   "metadata": {},
   "outputs": [
    {
     "name": "stderr",
     "output_type": "stream",
     "text": [
      "/Users/layyer/anaconda3/envs/ai/lib/python3.7/site-packages/ipykernel_launcher.py:1: SettingWithCopyWarning: \n",
      "A value is trying to be set on a copy of a slice from a DataFrame\n",
      "\n",
      "See the caveats in the documentation: https://pandas.pydata.org/pandas-docs/stable/user_guide/indexing.html#returning-a-view-versus-a-copy\n",
      "  \"\"\"Entry point for launching an IPython kernel.\n"
     ]
    }
   ],
   "source": [
    "df.ship_on_time[df.ship_on_time=='ข้อมูลไม่เพียงพอ'] = None"
   ]
  },
  {
   "cell_type": "code",
   "execution_count": 49,
   "metadata": {},
   "outputs": [
    {
     "data": {
      "text/plain": [
       "0      0.67\n",
       "1      0.64\n",
       "2      0.64\n",
       "3      0.64\n",
       "4      0.69\n",
       "       ... \n",
       "995     91%\n",
       "996    None\n",
       "997     98%\n",
       "998     97%\n",
       "999    100%\n",
       "Name: ship_on_time, Length: 1000, dtype: object"
      ]
     },
     "execution_count": 49,
     "metadata": {},
     "output_type": "execute_result"
    }
   ],
   "source": [
    "df.ship_on_time"
   ]
  },
  {
   "cell_type": "markdown",
   "metadata": {},
   "source": [
    "**บางตัวเป็น float บางตัวเป็น string ที่มี %**"
   ]
  },
  {
   "cell_type": "code",
   "execution_count": 50,
   "metadata": {
    "scrolled": true
   },
   "outputs": [
    {
     "name": "stderr",
     "output_type": "stream",
     "text": [
      "/Users/layyer/anaconda3/envs/ai/lib/python3.7/site-packages/ipykernel_launcher.py:3: SettingWithCopyWarning: \n",
      "A value is trying to be set on a copy of a slice from a DataFrame\n",
      "\n",
      "See the caveats in the documentation: https://pandas.pydata.org/pandas-docs/stable/user_guide/indexing.html#returning-a-view-versus-a-copy\n",
      "  This is separate from the ipykernel package so we can avoid doing imports until\n"
     ]
    }
   ],
   "source": [
    "for index,val in enumerate(df.ship_on_time.values):\n",
    "    if(type(val) == str):\n",
    "        df.ship_on_time[index] = float(val.replace('%',''))/100\n",
    "        "
   ]
  },
  {
   "cell_type": "code",
   "execution_count": 51,
   "metadata": {},
   "outputs": [],
   "source": [
    "df.ship_on_time = df.ship_on_time.fillna(np.nan)"
   ]
  },
  {
   "cell_type": "code",
   "execution_count": 125,
   "metadata": {},
   "outputs": [
    {
     "data": {
      "text/plain": [
       "<matplotlib.axes._subplots.AxesSubplot at 0x7faba99f6c90>"
      ]
     },
     "execution_count": 125,
     "metadata": {},
     "output_type": "execute_result"
    },
    {
     "data": {
      "image/png": "[encoded data removed]",
      "text/plain": [
       "<Figure size 432x288 with 1 Axes>"
      ]
     },
     "metadata": {
      "needs_background": "light"
     },
     "output_type": "display_data"
    }
   ],
   "source": [
    "df.groupby('store_name').mean()['ship_on_time'].hist(bins=15)"
   ]
  },
  {
   "cell_type": "markdown",
   "metadata": {},
   "source": [
    "###  chat_response_rate  remove % to float "
   ]
  },
  {
   "cell_type": "code",
   "execution_count": 53,
   "metadata": {},
   "outputs": [
    {
     "name": "stderr",
     "output_type": "stream",
     "text": [
      "/Users/layyer/anaconda3/envs/ai/lib/python3.7/site-packages/ipykernel_launcher.py:1: SettingWithCopyWarning: \n",
      "A value is trying to be set on a copy of a slice from a DataFrame\n",
      "\n",
      "See the caveats in the documentation: https://pandas.pydata.org/pandas-docs/stable/user_guide/indexing.html#returning-a-view-versus-a-copy\n",
      "  \"\"\"Entry point for launching an IPython kernel.\n"
     ]
    }
   ],
   "source": [
    "df.chat_response_rate[df.chat_response_rate=='ข้อมูลไม่เพียงพอ'] = None"
   ]
  },
  {
   "cell_type": "code",
   "execution_count": 54,
   "metadata": {},
   "outputs": [],
   "source": [
    "df.chat_response_rate = df.chat_response_rate.str.replace('%','').astype(float)/100"
   ]
  },
  {
   "cell_type": "code",
   "execution_count": 126,
   "metadata": {},
   "outputs": [
    {
     "data": {
      "text/plain": [
       "<matplotlib.axes._subplots.AxesSubplot at 0x7fabaa083710>"
      ]
     },
     "execution_count": 126,
     "metadata": {},
     "output_type": "execute_result"
    },
    {
     "data": {
      "image/png": "[encoded data removed]",
      "text/plain": [
       "<Figure size 432x288 with 1 Axes>"
      ]
     },
     "metadata": {
      "needs_background": "light"
     },
     "output_type": "display_data"
    }
   ],
   "source": [
    "df.groupby('store_name').mean()['chat_response_rate'].hist(bins=15)"
   ]
  },
  {
   "cell_type": "markdown",
   "metadata": {},
   "source": [
    "### สรุปร้านค้า\n",
    "- ร้านค้าส่วนมากมีคะแนนสูงมาก"
   ]
  },
  {
   "cell_type": "markdown",
   "metadata": {},
   "source": [
    "## สร้าง Data Mart"
   ]
  },
  {
   "cell_type": "code",
   "execution_count": 204,
   "metadata": {},
   "outputs": [],
   "source": [
    "dataMart = pd.concat([df[['sale_price','warranty','positive_seller_rating','ship_on_time','chat_response_rate','brand','score-average','store_name']]\n",
    "           ,df_promo[['promo_clus']],df_deli[['howto_delivery','sent_day','ship_fee','cash_on_deli']]],axis = 1)\n",
    "dataMart[\"rank\"] = df.index"
   ]
  },
  {
   "cell_type": "code",
   "execution_count": 205,
   "metadata": {},
   "outputs": [
    {
     "data": {
      "text/html": [
       "<div>\n",
       "<style scoped>\n",
       "    .dataframe tbody tr th:only-of-type {\n",
       "        vertical-align: middle;\n",
       "    }\n",
       "\n",
       "    .dataframe tbody tr th {\n",
       "        vertical-align: top;\n",
       "    }\n",
       "\n",
       "    .dataframe thead th {\n",
       "        text-align: right;\n",
       "    }\n",
       "</style>\n",
       "<table border=\"1\" class=\"dataframe\">\n",
       "  <thead>\n",
       "    <tr style=\"text-align: right;\">\n",
       "      <th></th>\n",
       "      <th>sale_price</th>\n",
       "      <th>warranty</th>\n",
       "      <th>positive_seller_rating</th>\n",
       "      <th>ship_on_time</th>\n",
       "      <th>chat_response_rate</th>\n",
       "      <th>brand</th>\n",
       "      <th>score-average</th>\n",
       "      <th>store_name</th>\n",
       "      <th>promo_clus</th>\n",
       "      <th>howto_delivery</th>\n",
       "      <th>sent_day</th>\n",
       "      <th>ship_fee</th>\n",
       "      <th>cash_on_deli</th>\n",
       "      <th>rank</th>\n",
       "    </tr>\n",
       "  </thead>\n",
       "  <tbody>\n",
       "    <tr>\n",
       "      <th>0</th>\n",
       "      <td>1090.0</td>\n",
       "      <td>warranty</td>\n",
       "      <td>0.92</td>\n",
       "      <td>0.67</td>\n",
       "      <td>1.00</td>\n",
       "      <td>No Brand</td>\n",
       "      <td>5.0</td>\n",
       "      <td>TOR-SHOP</td>\n",
       "      <td>1</td>\n",
       "      <td>ธรรมดา</td>\n",
       "      <td>5</td>\n",
       "      <td>20</td>\n",
       "      <td>True</td>\n",
       "      <td>0</td>\n",
       "    </tr>\n",
       "    <tr>\n",
       "      <th>1</th>\n",
       "      <td>1065.0</td>\n",
       "      <td>no_warranty</td>\n",
       "      <td>0.91</td>\n",
       "      <td>0.64</td>\n",
       "      <td>0.98</td>\n",
       "      <td>No Brand</td>\n",
       "      <td>0.0</td>\n",
       "      <td>KOHLER</td>\n",
       "      <td>0</td>\n",
       "      <td>ธรรมดา</td>\n",
       "      <td>5</td>\n",
       "      <td>89</td>\n",
       "      <td>True</td>\n",
       "      <td>1</td>\n",
       "    </tr>\n",
       "    <tr>\n",
       "      <th>2</th>\n",
       "      <td>1480.0</td>\n",
       "      <td>no_warranty</td>\n",
       "      <td>0.91</td>\n",
       "      <td>0.64</td>\n",
       "      <td>0.98</td>\n",
       "      <td>No Brand</td>\n",
       "      <td>5.0</td>\n",
       "      <td>KOHLER</td>\n",
       "      <td>0</td>\n",
       "      <td>ธรรมดา</td>\n",
       "      <td>5</td>\n",
       "      <td>20</td>\n",
       "      <td>True</td>\n",
       "      <td>2</td>\n",
       "    </tr>\n",
       "    <tr>\n",
       "      <th>3</th>\n",
       "      <td>1060.0</td>\n",
       "      <td>warranty</td>\n",
       "      <td>0.96</td>\n",
       "      <td>0.64</td>\n",
       "      <td>1.00</td>\n",
       "      <td>No Brand</td>\n",
       "      <td>5.0</td>\n",
       "      <td>NAFENG</td>\n",
       "      <td>0</td>\n",
       "      <td>ธรรมดา</td>\n",
       "      <td>5</td>\n",
       "      <td>20</td>\n",
       "      <td>True</td>\n",
       "      <td>3</td>\n",
       "    </tr>\n",
       "    <tr>\n",
       "      <th>4</th>\n",
       "      <td>1065.0</td>\n",
       "      <td>warranty</td>\n",
       "      <td>0.96</td>\n",
       "      <td>0.69</td>\n",
       "      <td>0.97</td>\n",
       "      <td>No Brand</td>\n",
       "      <td>0.0</td>\n",
       "      <td>FOTILE</td>\n",
       "      <td>0</td>\n",
       "      <td>ธรรมดา</td>\n",
       "      <td>5</td>\n",
       "      <td>89</td>\n",
       "      <td>True</td>\n",
       "      <td>4</td>\n",
       "    </tr>\n",
       "    <tr>\n",
       "      <th>5</th>\n",
       "      <td>1230.0</td>\n",
       "      <td>warranty</td>\n",
       "      <td>0.93</td>\n",
       "      <td>0.53</td>\n",
       "      <td>0.95</td>\n",
       "      <td>No Brand</td>\n",
       "      <td>5.0</td>\n",
       "      <td>Khongde</td>\n",
       "      <td>1</td>\n",
       "      <td>ธรรมดา</td>\n",
       "      <td>5</td>\n",
       "      <td>20</td>\n",
       "      <td>True</td>\n",
       "      <td>5</td>\n",
       "    </tr>\n",
       "    <tr>\n",
       "      <th>6</th>\n",
       "      <td>1119.0</td>\n",
       "      <td>warranty</td>\n",
       "      <td>0.92</td>\n",
       "      <td>0.73</td>\n",
       "      <td>0.98</td>\n",
       "      <td>No Brand</td>\n",
       "      <td>4.9</td>\n",
       "      <td>KaiShengShop</td>\n",
       "      <td>1</td>\n",
       "      <td>ธรรมดา</td>\n",
       "      <td>5</td>\n",
       "      <td>20</td>\n",
       "      <td>True</td>\n",
       "      <td>6</td>\n",
       "    </tr>\n",
       "    <tr>\n",
       "      <th>7</th>\n",
       "      <td>1478.0</td>\n",
       "      <td>no_warranty</td>\n",
       "      <td>0.94</td>\n",
       "      <td>0.66</td>\n",
       "      <td>0.97</td>\n",
       "      <td>No Brand</td>\n",
       "      <td>5.0</td>\n",
       "      <td>Weilong</td>\n",
       "      <td>0</td>\n",
       "      <td>ธรรมดา</td>\n",
       "      <td>5</td>\n",
       "      <td>20</td>\n",
       "      <td>True</td>\n",
       "      <td>7</td>\n",
       "    </tr>\n",
       "    <tr>\n",
       "      <th>8</th>\n",
       "      <td>1029.0</td>\n",
       "      <td>warranty</td>\n",
       "      <td>0.95</td>\n",
       "      <td>0.72</td>\n",
       "      <td>1.00</td>\n",
       "      <td>No Brand</td>\n",
       "      <td>5.0</td>\n",
       "      <td>LAL</td>\n",
       "      <td>1</td>\n",
       "      <td>ธรรมดา</td>\n",
       "      <td>5</td>\n",
       "      <td>20</td>\n",
       "      <td>True</td>\n",
       "      <td>8</td>\n",
       "    </tr>\n",
       "    <tr>\n",
       "      <th>9</th>\n",
       "      <td>1488.0</td>\n",
       "      <td>no_warranty</td>\n",
       "      <td>0.98</td>\n",
       "      <td>0.57</td>\n",
       "      <td>1.00</td>\n",
       "      <td>No Brand</td>\n",
       "      <td>5.0</td>\n",
       "      <td>Shidai 1587645722</td>\n",
       "      <td>0</td>\n",
       "      <td>ธรรมดา</td>\n",
       "      <td>5</td>\n",
       "      <td>89</td>\n",
       "      <td>True</td>\n",
       "      <td>9</td>\n",
       "    </tr>\n",
       "  </tbody>\n",
       "</table>\n",
       "</div>"
      ],
      "text/plain": [
       "   sale_price     warranty  positive_seller_rating  ship_on_time  \\\n",
       "0      1090.0     warranty                    0.92          0.67   \n",
       "1      1065.0  no_warranty                    0.91          0.64   \n",
       "2      1480.0  no_warranty                    0.91          0.64   \n",
       "3      1060.0     warranty                    0.96          0.64   \n",
       "4      1065.0     warranty                    0.96          0.69   \n",
       "5      1230.0     warranty                    0.93          0.53   \n",
       "6      1119.0     warranty                    0.92          0.73   \n",
       "7      1478.0  no_warranty                    0.94          0.66   \n",
       "8      1029.0     warranty                    0.95          0.72   \n",
       "9      1488.0  no_warranty                    0.98          0.57   \n",
       "\n",
       "   chat_response_rate     brand  score-average         store_name  promo_clus  \\\n",
       "0                1.00  No Brand            5.0           TOR-SHOP           1   \n",
       "1                0.98  No Brand            0.0             KOHLER           0   \n",
       "2                0.98  No Brand            5.0             KOHLER           0   \n",
       "3                1.00  No Brand            5.0             NAFENG           0   \n",
       "4                0.97  No Brand            0.0             FOTILE           0   \n",
       "5                0.95  No Brand            5.0            Khongde           1   \n",
       "6                0.98  No Brand            4.9       KaiShengShop           1   \n",
       "7                0.97  No Brand            5.0            Weilong           0   \n",
       "8                1.00  No Brand            5.0                LAL           1   \n",
       "9                1.00  No Brand            5.0  Shidai 1587645722           0   \n",
       "\n",
       "  howto_delivery sent_day ship_fee cash_on_deli  rank  \n",
       "0         ธรรมดา        5       20         True     0  \n",
       "1         ธรรมดา        5       89         True     1  \n",
       "2         ธรรมดา        5       20         True     2  \n",
       "3         ธรรมดา        5       20         True     3  \n",
       "4         ธรรมดา        5       89         True     4  \n",
       "5         ธรรมดา        5       20         True     5  \n",
       "6         ธรรมดา        5       20         True     6  \n",
       "7         ธรรมดา        5       20         True     7  \n",
       "8         ธรรมดา        5       20         True     8  \n",
       "9         ธรรมดา        5       89         True     9  "
      ]
     },
     "execution_count": 205,
     "metadata": {},
     "output_type": "execute_result"
    }
   ],
   "source": [
    "dataMart.head(10)"
   ]
  },
  {
   "cell_type": "markdown",
   "metadata": {},
   "source": []
  },
  {
   "cell_type": "code",
   "execution_count": null,
   "metadata": {},
   "outputs": [],
   "source": []
  },
  {
   "cell_type": "code",
   "execution_count": null,
   "metadata": {},
   "outputs": [],
   "source": []
  },
  {
   "cell_type": "code",
   "execution_count": null,
   "metadata": {},
   "outputs": [],
   "source": []
  },
  {
   "cell_type": "code",
   "execution_count": null,
   "metadata": {},
   "outputs": [],
   "source": []
  },
  {
   "cell_type": "markdown",
   "metadata": {},
   "source": [
    "#  4. หาคำตอบจากข้อมูล\n",
    "## ราคาและจำนวนวันในการส่งมีผลต่ออันดับอย่างไร"
   ]
  },
  {
   "cell_type": "code",
   "execution_count": 132,
   "metadata": {},
   "outputs": [
    {
     "data": {
      "text/plain": [
       "294"
      ]
     },
     "execution_count": 132,
     "metadata": {},
     "output_type": "execute_result"
    }
   ],
   "source": [
    "#ส่งฟรีและส่งไว\n",
    "len(dataMart[(dataMart[\"ship_fee\"]==0 )& (dataMart[\"sent_day\"]<=3)])"
   ]
  },
  {
   "cell_type": "code",
   "execution_count": 220,
   "metadata": {},
   "outputs": [
    {
     "data": {
      "text/html": [
       "<div>\n",
       "<style scoped>\n",
       "    .dataframe tbody tr th:only-of-type {\n",
       "        vertical-align: middle;\n",
       "    }\n",
       "\n",
       "    .dataframe tbody tr th {\n",
       "        vertical-align: top;\n",
       "    }\n",
       "\n",
       "    .dataframe thead th {\n",
       "        text-align: right;\n",
       "    }\n",
       "</style>\n",
       "<table border=\"1\" class=\"dataframe\">\n",
       "  <thead>\n",
       "    <tr style=\"text-align: right;\">\n",
       "      <th></th>\n",
       "      <th>rank</th>\n",
       "    </tr>\n",
       "  </thead>\n",
       "  <tbody>\n",
       "    <tr>\n",
       "      <th>105</th>\n",
       "      <td>105</td>\n",
       "    </tr>\n",
       "    <tr>\n",
       "      <th>110</th>\n",
       "      <td>110</td>\n",
       "    </tr>\n",
       "    <tr>\n",
       "      <th>111</th>\n",
       "      <td>111</td>\n",
       "    </tr>\n",
       "    <tr>\n",
       "      <th>112</th>\n",
       "      <td>112</td>\n",
       "    </tr>\n",
       "    <tr>\n",
       "      <th>117</th>\n",
       "      <td>117</td>\n",
       "    </tr>\n",
       "    <tr>\n",
       "      <th>...</th>\n",
       "      <td>...</td>\n",
       "    </tr>\n",
       "    <tr>\n",
       "      <th>983</th>\n",
       "      <td>983</td>\n",
       "    </tr>\n",
       "    <tr>\n",
       "      <th>990</th>\n",
       "      <td>990</td>\n",
       "    </tr>\n",
       "    <tr>\n",
       "      <th>992</th>\n",
       "      <td>992</td>\n",
       "    </tr>\n",
       "    <tr>\n",
       "      <th>995</th>\n",
       "      <td>995</td>\n",
       "    </tr>\n",
       "    <tr>\n",
       "      <th>996</th>\n",
       "      <td>996</td>\n",
       "    </tr>\n",
       "  </tbody>\n",
       "</table>\n",
       "<p>294 rows × 1 columns</p>\n",
       "</div>"
      ],
      "text/plain": [
       "     rank\n",
       "105   105\n",
       "110   110\n",
       "111   111\n",
       "112   112\n",
       "117   117\n",
       "..    ...\n",
       "983   983\n",
       "990   990\n",
       "992   992\n",
       "995   995\n",
       "996   996\n",
       "\n",
       "[294 rows x 1 columns]"
      ]
     },
     "execution_count": 220,
     "metadata": {},
     "output_type": "execute_result"
    }
   ],
   "source": [
    "dataMart[(dataMart[\"ship_fee\"]==0 )& (dataMart[\"sent_day\"]<=3)][['rank']]"
   ]
  },
  {
   "cell_type": "code",
   "execution_count": 221,
   "metadata": {},
   "outputs": [
    {
     "data": {
      "text/html": [
       "<div>\n",
       "<style scoped>\n",
       "    .dataframe tbody tr th:only-of-type {\n",
       "        vertical-align: middle;\n",
       "    }\n",
       "\n",
       "    .dataframe tbody tr th {\n",
       "        vertical-align: top;\n",
       "    }\n",
       "\n",
       "    .dataframe thead th {\n",
       "        text-align: right;\n",
       "    }\n",
       "</style>\n",
       "<table border=\"1\" class=\"dataframe\">\n",
       "  <thead>\n",
       "    <tr style=\"text-align: right;\">\n",
       "      <th></th>\n",
       "      <th></th>\n",
       "      <th>rank</th>\n",
       "    </tr>\n",
       "    <tr>\n",
       "      <th>sent_day</th>\n",
       "      <th>ship_fee</th>\n",
       "      <th></th>\n",
       "    </tr>\n",
       "  </thead>\n",
       "  <tbody>\n",
       "    <tr>\n",
       "      <th rowspan=\"2\" valign=\"top\">5</th>\n",
       "      <th>20.0</th>\n",
       "      <td>79</td>\n",
       "    </tr>\n",
       "    <tr>\n",
       "      <th>89.0</th>\n",
       "      <td>10</td>\n",
       "    </tr>\n",
       "    <tr>\n",
       "      <th>6</th>\n",
       "      <th>20.0</th>\n",
       "      <td>6</td>\n",
       "    </tr>\n",
       "  </tbody>\n",
       "</table>\n",
       "</div>"
      ],
      "text/plain": [
       "                   rank\n",
       "sent_day ship_fee      \n",
       "5        20.0        79\n",
       "         89.0        10\n",
       "6        20.0         6"
      ]
     },
     "execution_count": 221,
     "metadata": {},
     "output_type": "execute_result"
    }
   ],
   "source": [
    "dataMart[:100].groupby(['sent_day','ship_fee']).count()[['rank']]"
   ]
  },
  {
   "cell_type": "code",
   "execution_count": 222,
   "metadata": {},
   "outputs": [
    {
     "data": {
      "text/html": [
       "<div>\n",
       "<style scoped>\n",
       "    .dataframe tbody tr th:only-of-type {\n",
       "        vertical-align: middle;\n",
       "    }\n",
       "\n",
       "    .dataframe tbody tr th {\n",
       "        vertical-align: top;\n",
       "    }\n",
       "\n",
       "    .dataframe thead th {\n",
       "        text-align: right;\n",
       "    }\n",
       "</style>\n",
       "<table border=\"1\" class=\"dataframe\">\n",
       "  <thead>\n",
       "    <tr style=\"text-align: right;\">\n",
       "      <th></th>\n",
       "      <th></th>\n",
       "      <th>rank</th>\n",
       "    </tr>\n",
       "    <tr>\n",
       "      <th>sent_day</th>\n",
       "      <th>ship_fee</th>\n",
       "      <th></th>\n",
       "    </tr>\n",
       "  </thead>\n",
       "  <tbody>\n",
       "    <tr>\n",
       "      <th rowspan=\"2\" valign=\"top\">5</th>\n",
       "      <th>20.0</th>\n",
       "      <td>79</td>\n",
       "    </tr>\n",
       "    <tr>\n",
       "      <th>89.0</th>\n",
       "      <td>10</td>\n",
       "    </tr>\n",
       "    <tr>\n",
       "      <th>6</th>\n",
       "      <th>20.0</th>\n",
       "      <td>6</td>\n",
       "    </tr>\n",
       "  </tbody>\n",
       "</table>\n",
       "</div>"
      ],
      "text/plain": [
       "                   rank\n",
       "sent_day ship_fee      \n",
       "5        20.0        79\n",
       "         89.0        10\n",
       "6        20.0         6"
      ]
     },
     "execution_count": 222,
     "metadata": {},
     "output_type": "execute_result"
    }
   ],
   "source": [
    "dataMart[:100].groupby(['sent_day','ship_fee']).count()[['rank']]"
   ]
  },
  {
   "cell_type": "markdown",
   "metadata": {},
   "source": [
    "## Brand ของสินค้าในช่วง 1000-2000 (ช่วงที่ขายดี)"
   ]
  },
  {
   "cell_type": "code",
   "execution_count": 60,
   "metadata": {
    "scrolled": false
   },
   "outputs": [
    {
     "data": {
      "text/plain": [
       "<matplotlib.axes._subplots.AxesSubplot at 0x7fabbd3f5bd0>"
      ]
     },
     "execution_count": 60,
     "metadata": {},
     "output_type": "execute_result"
    },
    {
     "data": {
      "image/png": "[encoded data removed]",
      "text/plain": [
       "<Figure size 1080x504 with 1 Axes>"
      ]
     },
     "metadata": {
      "needs_background": "light"
     },
     "output_type": "display_data"
    }
   ],
   "source": [
    "plt.figure(figsize=(15,7))\n",
    "df[(dataMart.sale_price>1000) & (dataMart.sale_price<=2000)].brand.value_counts().plot.bar()"
   ]
  },
  {
   "cell_type": "markdown",
   "metadata": {},
   "source": [
    "## Brand สินค้าที่ราคามากกว่า 5000 บาท"
   ]
  },
  {
   "cell_type": "code",
   "execution_count": 61,
   "metadata": {
    "scrolled": false
   },
   "outputs": [
    {
     "data": {
      "text/plain": [
       "<matplotlib.axes._subplots.AxesSubplot at 0x7fabbd694450>"
      ]
     },
     "execution_count": 61,
     "metadata": {},
     "output_type": "execute_result"
    },
    {
     "data": {
      "image/png": "[encoded data removed]",
      "text/plain": [
       "<Figure size 1080x504 with 1 Axes>"
      ]
     },
     "metadata": {
      "needs_background": "light"
     },
     "output_type": "display_data"
    }
   ],
   "source": [
    "plt.figure(figsize=(15,7))\n",
    "dataMart[(dataMart.sale_price>5000)].brand.value_counts().plot.bar()"
   ]
  },
  {
   "cell_type": "markdown",
   "metadata": {},
   "source": [
    "## Brand สินค้าที่ราคาต่ำกว่า 1000 บาท"
   ]
  },
  {
   "cell_type": "code",
   "execution_count": 62,
   "metadata": {
    "scrolled": false
   },
   "outputs": [
    {
     "data": {
      "text/plain": [
       "<matplotlib.axes._subplots.AxesSubplot at 0x7fabbcce2e90>"
      ]
     },
     "execution_count": 62,
     "metadata": {},
     "output_type": "execute_result"
    },
    {
     "data": {
      "image/png": "[encoded data removed]",
      "text/plain": [
       "<Figure size 1080x504 with 1 Axes>"
      ]
     },
     "metadata": {
      "needs_background": "light"
     },
     "output_type": "display_data"
    }
   ],
   "source": [
    "plt.figure(figsize=(15,7))\n",
    "dataMart[dataMart.sale_price<1000].brand.value_counts().plot.bar()"
   ]
  },
  {
   "cell_type": "markdown",
   "metadata": {},
   "source": [
    "ราคาเฉลี่ยแต่ละแบรนด์"
   ]
  },
  {
   "cell_type": "code",
   "execution_count": 251,
   "metadata": {},
   "outputs": [
    {
     "data": {
      "text/plain": [
       "<matplotlib.axes._subplots.AxesSubplot at 0x7fabac553b90>"
      ]
     },
     "execution_count": 251,
     "metadata": {},
     "output_type": "execute_result"
    },
    {
     "data": {
      "image/png": "[encoded data removed]",
      "text/plain": [
       "<Figure size 1080x504 with 1 Axes>"
      ]
     },
     "metadata": {
      "needs_background": "light"
     },
     "output_type": "display_data"
    }
   ],
   "source": [
    "dataMart.groupby('brand').mean()[['sale_price']].loc[dataMart['brand'].value_counts().index][:30].plot.bar(figsize=(15,7))"
   ]
  },
  {
   "cell_type": "markdown",
   "metadata": {},
   "source": [
    "## ความสัมพันธ์ระหว่าง ราคาสินค้าและการรับประกัน"
   ]
  },
  {
   "cell_type": "code",
   "execution_count": 257,
   "metadata": {},
   "outputs": [
    {
     "data": {
      "text/plain": [
       "<matplotlib.axes._subplots.AxesSubplot at 0x7faba5e3b7d0>"
      ]
     },
     "execution_count": 257,
     "metadata": {},
     "output_type": "execute_result"
    },
    {
     "data": {
      "image/png": "[encoded data removed]",
      "text/plain": [
       "<Figure size 432x288 with 1 Axes>"
      ]
     },
     "metadata": {
      "needs_background": "light"
     },
     "output_type": "display_data"
    }
   ],
   "source": [
    "sns.boxplot(data = dataMart.iloc[:50][['sale_price','warranty']],x='warranty',y='sale_price')"
   ]
  },
  {
   "cell_type": "code",
   "execution_count": 260,
   "metadata": {},
   "outputs": [
    {
     "data": {
      "text/plain": [
       "<matplotlib.axes._subplots.AxesSubplot at 0x7fabb2daee50>"
      ]
     },
     "execution_count": 260,
     "metadata": {},
     "output_type": "execute_result"
    },
    {
     "data": {
      "image/png": "[encoded data removed]",
      "text/plain": [
       "<Figure size 1080x504 with 1 Axes>"
      ]
     },
     "metadata": {
      "needs_background": "light"
     },
     "output_type": "display_data"
    }
   ],
   "source": [
    "dataMart.brand[dataMart.warranty=='warranty'].value_counts()[:50].plot.bar(figsize=(15,7))"
   ]
  },
  {
   "cell_type": "code",
   "execution_count": 261,
   "metadata": {},
   "outputs": [
    {
     "data": {
      "text/plain": [
       "<matplotlib.axes._subplots.AxesSubplot at 0x7fabb2f86bd0>"
      ]
     },
     "execution_count": 261,
     "metadata": {},
     "output_type": "execute_result"
    },
    {
     "data": {
      "image/png": "[encoded data removed]",
      "text/plain": [
       "<Figure size 1080x504 with 1 Axes>"
      ]
     },
     "metadata": {
      "needs_background": "light"
     },
     "output_type": "display_data"
    }
   ],
   "source": [
    "dataMart.brand[df.warranty=='no_warranty'].value_counts()[:50].plot.bar(figsize=(15,7))"
   ]
  },
  {
   "cell_type": "markdown",
   "metadata": {},
   "source": [
    "# 5.คำถามใหม่\n",
    "## ทำไมสินค้าที่ไม่มีแบรนด์ถึงเยอะและขายดี"
   ]
  },
  {
   "cell_type": "markdown",
   "metadata": {},
   "source": [
    "### เช็คข้อผิดพลาด โดยเทียบ Brand กับ text title"
   ]
  },
  {
   "cell_type": "code",
   "execution_count": 325,
   "metadata": {},
   "outputs": [
    {
     "name": "stdout",
     "output_type": "stream",
     "text": [
      "เครื่องทอดไร้มัน เครื่องทอดอัจฉริยะ อุปกรณ์หม้อทอดไฟฟ้า 6 นิ้ว7 นิ้ว 8 นิ้ว ชุด Air fryerอุปกรณ์เสริม ถาดอบแบบไม่ติด จานพิซซ่า ตะกร้าเค้ก ชั้นวางบาร์บีคิว อบคุณภาพสูงอุปกรณ์เสริมSMARTHOME Tefal XIAOMI Haierหม้อทอดOTTO Philipsเหมาะสำหรับหม้อทอดไฟฟ้าทุกรุ่น\n",
      "\n",
      "\n",
      "เครื่องทอดไร้มัน เครื่องทอดอัจฉริยะ อุปกรณ์หม้อทอดไฟฟ้า 6 นิ้ว7 นิ้ว 8 นิ้ว ชุด Air fryerอุปกรณ์เสริม ถาดอบแบบไม่ติด จานพิซซ่า ตะกร้าเค้ก ชั้นวางบาร์บีคิว อบคุณภาพสูงอุปกรณ์เสริมSMARTHOME Tefal XIAOMI Haierหม้อทอดOTTO Philipsเหมาะสำหรับหม้อทอดไฟฟ้าทุกรุ่น\n",
      "\n",
      "\n",
      "Air Fryer Smarthome หม้อทอดไร้น้ำมัน (ประกัน 3 ปี ) หม้อทอดไฟฟ้าไร้น้ำมันเพื่อสุขภาพ 5.2 ลิตร ใหญ่มาก\n",
      "\n",
      "\n",
      "HD9910 Grill Pan For Philips Air Fryer สำหรับ รุ่น HD9220\n",
      "\n",
      "\n",
      "Trueshopping Smart Home Airfryer หม้อทอดไร้น้ำมัน รุ่น MV-021 ขนาด 3.5L\n",
      "\n",
      "\n",
      "Malata เครื่องใช้ไฟฟ้าในบ้านsmart home เครื่องทอดอากาศ สุขภาพดีและปราศจากน้ำมัน หม้อทอดลมสีดำ 1200W 4L\n",
      "\n",
      "\n",
      "Xiaomi Air Fryers Xiaomi Air Fryers หม้อทอด เครื่องทอดไร้มัน เครื่องทอดอัจฉริยะ หม้อทอดไร้น้ำมัน หม้อทอดไฟฟ้า หม้อทอดลมร้อน หม้อทอดไฟฟ้าอัจฉริยะอเนกประสงค์ความจุขนาดใหญ่ พลังงานสูง 1000 วัตต์ การหมุนเวียนอากาศร้อนความเร็วสูงแบบ 360 ° ความจุ: 4.5\n",
      "\n",
      "\n",
      "BAKING DISH Service pack อะไหล่แท้Philips สำหรับหม้อทอดไร้น้ำมันAirfryerรุ่น HD9220และHD9238\n",
      "\n",
      "\n",
      "หม้อทอดไร้น้ำมันอเนกประสงค์ หม้อทอดไฟฟ้า 4.5L Air Fryer Smart Homeไม่เกิดควัน ทอดเฟรนช์ฟราย หม้อทอดไฟฟ้าสำหรับคนรักสุขภาพ\n",
      "\n",
      "\n",
      "HD9940 Grill Pan For Philips Air Fryer Service pack สำหรับ รุ่น HD9621 9641 9721 และ 9741\n",
      "\n",
      "\n",
      "Air Fryer Electric Fryer Accessory Non-Stick Baking Dish Roasting Tin Tray For Philips Hd9232 Hd9233 Hd9220 Hd9627 Hd9621\n",
      "\n",
      "\n",
      "Trueshopping Smart Home Airfryer หม้อทอดไร้น้ำมัน รุ่น MV-022 ขนาด 3.5L\n",
      "\n",
      "\n",
      "nan\n",
      "\n",
      "\n",
      "nan\n",
      "\n",
      "\n",
      "Air Fryer Electric Fryer Accessory Non-Stick Baking Dish Roasting Tin Tray For Philips Hd9232 Hd9233 Hd9220 Hd9627 Hd9621\n",
      "\n",
      "\n",
      "หม้อทอด Bear airfriyer 2.1ลิตร หม้อทอดไฟฟ้า หม้อทอดไม่ใช้น้ำมัน เทคโนโลยี Rapid Air หม้อทอดไร้น้ำมัน หม้อทอดอากาศ หม้อทอดไร้มัน กระทะ ของใช้ในครัว Rainbowhotsale\n",
      "\n",
      "\n",
      "Xiaomi Air Fryers หม้อทอด เครื่องทอดไร้มัน เครื่องทอดอัจฉริยะ หม้อทอดไร้น้ำมัน หม้อทอดไฟฟ้า หม้อทอดลมร้อน หม้อทอดไฟฟ้าอัจฉริยะอเนกประสงค์ความจุขนาดใหญ่ พลังงานสูง 1000 วัตต์ การหมุนเวียนอากาศร้อนความเร็วสูงแบบ 360 ° ความจุ: 4.5L\n",
      "\n",
      "\n",
      "HD9904 Double layer accessory For Philips Air Fryer สำหรับรุ่น HD9220 HD9238 HD9621และ HD9641\n",
      "\n",
      "\n",
      "Air Fryer Electric Fryer Accessory Non-Stick Baking Dish Roasting Tin Tray For Philips Hd9232 Hd9233 Hd9220 Hd9627 Hd9621\n",
      "\n",
      "\n"
     ]
    }
   ],
   "source": [
    "brands_list = list(df.brand.unique())\n",
    "brands_list.remove('No Brand')\n",
    "for text in df[df.brand=='No Brand']['textTitle'].values:\n",
    "    for br in brands_list:\n",
    "        if str(br) in str(text):\n",
    "            print(text)\n",
    "            print('\\n')"
   ]
  },
  {
   "cell_type": "code",
   "execution_count": null,
   "metadata": {},
   "outputs": [],
   "source": []
  }
 ],
 "metadata": {
  "kernelspec": {
   "display_name": "Python 3",
   "language": "python",
   "name": "python3"
  },
  "language_info": {
   "codemirror_mode": {
    "name": "ipython",
    "version": 3
   },
   "file_extension": ".py",
   "mimetype": "text/x-python",
   "name": "python",
   "nbconvert_exporter": "python",
   "pygments_lexer": "ipython3",
   "version": "3.7.6"
  }
 },
 "nbformat": 4,
 "nbformat_minor": 4
}
